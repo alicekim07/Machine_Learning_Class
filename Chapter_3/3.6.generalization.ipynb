{
 "cells": [
  {
   "cell_type": "markdown",
   "metadata": {},
   "source": [
    "# 3.5. Concise Implementation of Linear Regression\n",
    "\n",
    "$ \\newcommand{\\mb}{\\mathbf}$"
   ]
  },
  {
   "cell_type": "markdown",
   "metadata": {},
   "source": [
    "Machine learning is to discover **patterns** in data and **generalize**.\n",
    "\n",
    "## Some concepts:\n",
    "- **Overfitting**: fitting the training data too well, but fail to generalize.\n",
    "- **Underfitting**: fail to capture the underlying pattern.\n",
    "- **Regularization**: a technique to prevent overfitting.\n",
    "\n",
    "![alt text](https://docs.aws.amazon.com/images/machine-learning/latest/dg/images/mlconcepts_image5.png)"
   ]
  },
  {
   "cell_type": "markdown",
   "metadata": {},
   "source": [
    "\n",
    "## Training Error and Generalization Error\n",
    "\n",
    "Usually, we assume that the training data and test data are drawn **independently** from the **identical** distribution (**IID**).\n",
    "\n",
    "Let's say our data is drawn from $P(X,Y)$, where $X$ is the input and $Y$ is the output.\n",
    "\n",
    "**Training error**:\n",
    "$R_{emp}[\\mb{X},\\mb{y},f]=\\frac{1}{n} \\sum_{i=1}^{n} l(\\mb{x}^{i}, y^{i}, f(\\mb{x}^{i}))$\n",
    "\n",
    "**Generalization error**:\n",
    "$R[p,f]=E_{(\\mb{x},y)\\sim P}[l(\\mb{x},y,f(\\mb{x}))] = \\int \\int l(\\mb{x},y,f(\\mb{x})) p(\\mb{x},y) d\\mb{x} dy$\n",
    "\n",
    "where $l$ is the loss function, $f$ is the model, and $n$ is the number of training examples.\n",
    "\n",
    "- We want to minimize the generalization error, but we can't compute it directly.\n",
    "- We can minimize the training error, but it doesn't guarantee a low generalization error.\n",
    "- We must *estimate* the generalization error using the test data that is not used in training.\n",
    "\n",
    "![alt text](https://d2l.ai/_images/capacity-vs-error.svg)\n",
    "\n"
   ]
  },
  {
   "cell_type": "markdown",
   "metadata": {},
   "source": []
  }
 ],
 "metadata": {
  "kernelspec": {
   "display_name": "d2l",
   "language": "python",
   "name": "python3"
  },
  "language_info": {
   "name": "python",
   "version": "3.9.21"
  }
 },
 "nbformat": 4,
 "nbformat_minor": 2
}

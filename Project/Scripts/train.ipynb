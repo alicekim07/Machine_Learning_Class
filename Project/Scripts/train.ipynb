{
 "cells": [
  {
   "cell_type": "markdown",
   "metadata": {},
   "source": [
    "# 0. History"
   ]
  },
  {
   "cell_type": "code",
   "execution_count": 31,
   "metadata": {},
   "outputs": [],
   "source": [
    "model_history = {\n",
    "    \"model_name\" : [],\n",
    "    \"n_mfcc\" : [],\n",
    "    \"val_acc\" : [],\n",
    "    \"test_acc\" : [],\n",
    "    \"train_time(s)\" : []\n",
    "}"
   ]
  },
  {
   "cell_type": "markdown",
   "metadata": {},
   "source": [
    "# 1. Base Line model"
   ]
  },
  {
   "cell_type": "markdown",
   "metadata": {},
   "source": [
    "## 1.1. Import what is needed"
   ]
  },
  {
   "cell_type": "code",
   "execution_count": 1,
   "metadata": {},
   "outputs": [],
   "source": [
    "# Import PyTorch\n",
    "import torch\n",
    "from torch import nn\n",
    "from dataset import SpeechDataset\n",
    "import requests\n",
    "from pathlib import Path\n",
    "import matplotlib.pyplot as plt\n",
    "from pathlib import PurePath\n",
    "import pandas as pd"
   ]
  },
  {
   "cell_type": "code",
   "execution_count": 2,
   "metadata": {},
   "outputs": [
    {
     "name": "stdout",
     "output_type": "stream",
     "text": [
      "helper_functions.py already exists, skipping download...\n"
     ]
    }
   ],
   "source": [
    "# Download helper functions from Learn PyTorch repo\n",
    "if Path(\"helper_functions.py\").is_file():\n",
    "  print(\"helper_functions.py already exists, skipping download...\")\n",
    "else:\n",
    "  print(\"Downloading helper_functions.py\")\n",
    "  request = requests.get(\"https://raw.githubusercontent.com/mrdbourke/pytorch-deep-learning/main/helper_functions.py\")\n",
    "  with open(\"helper_functions.py\", \"wb\") as f:\n",
    "    f.write(request.content)\n",
    "# Import accuracy metric\n",
    "from helper_functions import accuracy_fn"
   ]
  },
  {
   "cell_type": "code",
   "execution_count": 3,
   "metadata": {},
   "outputs": [
    {
     "name": "stdout",
     "output_type": "stream",
     "text": [
      "현재 디렉토리: c:\\ML\\Machine_Learning_Class\\Project\\Scripts\n"
     ]
    }
   ],
   "source": [
    "import os\n",
    "print(\"현재 디렉토리:\", os.getcwd())"
   ]
  },
  {
   "cell_type": "code",
   "execution_count": 4,
   "metadata": {},
   "outputs": [
    {
     "data": {
      "text/plain": [
       "'cpu'"
      ]
     },
     "execution_count": 4,
     "metadata": {},
     "output_type": "execute_result"
    }
   ],
   "source": [
    "# Setup device=agnostic code\n",
    "device = \"cuda\" if torch.cuda.is_available() else \"cpu\"\n",
    "device"
   ]
  },
  {
   "cell_type": "markdown",
   "metadata": {},
   "source": [
    "## 1.2 Get Dataset"
   ]
  },
  {
   "cell_type": "code",
   "execution_count": 5,
   "metadata": {},
   "outputs": [],
   "source": [
    "# Get Dataset\n",
    "train_dataset = SpeechDataset(\"train_list.txt\")\n",
    "train_dataloader = torch.utils.data.DataLoader(train_dataset, batch_size=32, shuffle=True)\n",
    "val_dataset = SpeechDataset(\"val_list.txt\")\n",
    "val_dataloader = torch.utils.data.DataLoader(val_dataset, batch_size=32, shuffle=True)\n",
    "test_dataset = SpeechDataset(\"test_list.txt\")\n",
    "test_dataloader = torch.utils.data.DataLoader(test_dataset, batch_size=32, shuffle=True)"
   ]
  },
  {
   "cell_type": "code",
   "execution_count": 6,
   "metadata": {},
   "outputs": [
    {
     "name": "stdout",
     "output_type": "stream",
     "text": [
      "Dataloaders: (<torch.utils.data.dataloader.DataLoader object at 0x000001EFA57901A0>, <torch.utils.data.dataloader.DataLoader object at 0x000001EFA53EA350>)\n",
      "Length of train_dataloader : 444\n",
      "Length of test_dataloader: 62\n"
     ]
    }
   ],
   "source": [
    "# Check out what's created\n",
    "print(f\"Dataloaders: {train_dataloader, val_dataloader}\")\n",
    "print(f\"Length of train_dataloader : {len(train_dataloader)}\")\n",
    "print(f\"Length of test_dataloader: {len(val_dataloader)}\")"
   ]
  },
  {
   "cell_type": "code",
   "execution_count": 7,
   "metadata": {},
   "outputs": [
    {
     "data": {
      "text/plain": [
       "(torch.Size([32, 1, 40, 101]), torch.Size([32]))"
      ]
     },
     "execution_count": 7,
     "metadata": {},
     "output_type": "execute_result"
    }
   ],
   "source": [
    "# Check out what's inside the train dataloader\n",
    "train_features_batch, train_labels_batch = next(iter(train_dataloader))\n",
    "train_features_batch.shape, train_labels_batch.shape"
   ]
  },
  {
   "cell_type": "markdown",
   "metadata": {},
   "source": [
    "## 1.3 Build a baseline model"
   ]
  },
  {
   "cell_type": "code",
   "execution_count": 15,
   "metadata": {},
   "outputs": [],
   "source": [
    "# Build a baseline model\n",
    "class CNNKeyWordSpotter(nn.Module):\n",
    "    def __init__(self, num_classes = 6):\n",
    "        super().__init__()\n",
    "        self.cnn = nn.Sequential(\n",
    "            nn.Conv2d(1, 16, kernel_size = 3, stride = 1, padding = 1),\n",
    "            nn.ReLU(),\n",
    "            nn.MaxPool2d(2),\n",
    "            nn.Conv2d(16, 32, kernel_size = 3, padding = 1),\n",
    "            nn.ReLU(),\n",
    "            nn.AdaptiveAvgPool2d((1, 1))   \n",
    "        )\n",
    "        self.fc = nn.Linear(32, num_classes)\n",
    "\n",
    "    def forward(self, x):\n",
    "        x = self.cnn(x)\n",
    "        x = x.view(x.size(0), -1)\n",
    "        return self.fc(x)"
   ]
  },
  {
   "cell_type": "code",
   "execution_count": 20,
   "metadata": {},
   "outputs": [],
   "source": [
    "model_baseline = CNNKeyWordSpotter(num_classes = 6)"
   ]
  },
  {
   "cell_type": "code",
   "execution_count": 21,
   "metadata": {},
   "outputs": [],
   "source": [
    "# Setup Loss function and optimizer\n",
    "loss_fn = nn.CrossEntropyLoss()\n",
    "optimizer = torch.optim.Adam(model_baseline.parameters(), lr = 0.001)"
   ]
  },
  {
   "cell_type": "markdown",
   "metadata": {},
   "source": [
    "## 1.4 Create a function to time out"
   ]
  },
  {
   "cell_type": "code",
   "execution_count": 8,
   "metadata": {},
   "outputs": [],
   "source": [
    "from timeit import default_timer as timer\n",
    "def print_train_time(start : float,\n",
    "                     end : float,\n",
    "                     device : torch.device = None):\n",
    "  \"\"\"Prints difference between start and end time.\"\"\"\n",
    "  total_time = end - start\n",
    "  print(f\"Train time on {device}: {total_time:.3f} seconds\")\n",
    "  return total_time"
   ]
  },
  {
   "cell_type": "code",
   "execution_count": 9,
   "metadata": {},
   "outputs": [
    {
     "name": "stdout",
     "output_type": "stream",
     "text": [
      "Train time on cpu: 0.000 seconds\n"
     ]
    },
    {
     "data": {
      "text/plain": [
       "6.129999928816687e-05"
      ]
     },
     "execution_count": 9,
     "metadata": {},
     "output_type": "execute_result"
    }
   ],
   "source": [
    "start_time = timer()\n",
    "# some code...\n",
    "end_time = timer()\n",
    "print_train_time(start = start_time, end = end_time, device = \"cpu\")"
   ]
  },
  {
   "cell_type": "markdown",
   "metadata": {},
   "source": [
    "## 1.5 Training Loop"
   ]
  },
  {
   "cell_type": "markdown",
   "metadata": {},
   "source": [
    "### 1.5.0 Collect Data"
   ]
  },
  {
   "cell_type": "code",
   "execution_count": 13,
   "metadata": {},
   "outputs": [],
   "source": [
    "history_baseline = {\"epoch\" : [],\n",
    "                    \"train_loss\" : [],\n",
    "                    \"train_acc\" : [],\n",
    "                    \"val_loss\" : [],\n",
    "                    \"val_acc\" : []}"
   ]
  },
  {
   "cell_type": "markdown",
   "metadata": {},
   "source": [
    "### 1.5.1 Defince train_step, test_step"
   ]
  },
  {
   "cell_type": "code",
   "execution_count": 10,
   "metadata": {},
   "outputs": [],
   "source": [
    "def train_step(model : torch.nn.Module,\n",
    "               data_loader : torch.utils.data.DataLoader,\n",
    "               loss_fn : torch.nn.Module,\n",
    "               optimizer : torch.optim.Optimizer,\n",
    "               accuracy_fn,\n",
    "               device : torch.device = device):\n",
    "    train_loss, train_acc = 0, 0\n",
    "\n",
    "    # Put model into training mode\n",
    "    model.train()\n",
    "\n",
    "    # Add a loop to loop through the training batches\n",
    "    for batch, (X, y) in enumerate(data_loader):\n",
    "        # Put data on target device\n",
    "        X, y = X.to(device), y.to(device)\n",
    "\n",
    "        # 1. Forward pass\n",
    "        y_pred = model(X)\n",
    "\n",
    "        # 2. Calculate loss and accuracy (per batch)\n",
    "        loss = loss_fn(y_pred, y)\n",
    "        train_loss += loss # Accumulate train loss\n",
    "        train_acc += accuracy_fn(y_true = y,\n",
    "                                 y_pred = y_pred.argmax(dim = 1))\n",
    "        \n",
    "        # 3. Optimizer zero grad\n",
    "        optimizer.zero_grad()\n",
    "\n",
    "        # 4. Loss backward\n",
    "        loss.backward()\n",
    "\n",
    "        # 5. Optimizer step\n",
    "        optimizer.step()\n",
    "\n",
    "    # Devide total train loss and acc by length of train dataloader\n",
    "    train_loss /= len(data_loader)\n",
    "    train_acc /= len(data_loader)\n",
    "    print(f\"Train loss: {train_loss:.5f} | Train acc: {train_acc:.2f}%\")\n",
    "    return train_loss, train_acc"
   ]
  },
  {
   "cell_type": "code",
   "execution_count": 11,
   "metadata": {},
   "outputs": [],
   "source": [
    "def test_step(model : torch.nn.Module,\n",
    "              data_loader : torch.utils.data.DataLoader,\n",
    "              loss_fn : torch.nn.Module,\n",
    "              accuracy_fn,\n",
    "              device : torch.device = device):\n",
    "    \"\"\" Performs a testing with model trying to learn on data_loader.\"\"\"\n",
    "    test_loss, test_acc = 0, 0\n",
    "\n",
    "    # Put model into training model\n",
    "    model.eval()\n",
    "\n",
    "    # Turn on inference mode context manager\n",
    "    with torch.inference_mode():\n",
    "        for X, y in data_loader:\n",
    "            # Send the data to the target device\n",
    "            X, y = X.to(device), y.to(device)\n",
    "\n",
    "            # 1. Forward pass\n",
    "            test_pred = model(X)\n",
    "\n",
    "            # 2. Calculate the loss/acc\n",
    "            test_loss += loss_fn(test_pred, y)\n",
    "            test_acc += accuracy_fn(y_true = y,\n",
    "                                    y_pred = test_pred.argmax(dim = 1))  \n",
    "        # Adjust metrics and print out\n",
    "        test_loss /= len(data_loader)\n",
    "        test_acc /= len(data_loader)\n",
    "        print(f\"Test loss: {test_loss:.5f} | Test acc : {test_acc:.2f}%\")\n",
    "        return test_loss, test_acc"
   ]
  },
  {
   "cell_type": "code",
   "execution_count": 12,
   "metadata": {},
   "outputs": [],
   "source": [
    "class EarlyStopping:\n",
    "    def __init__(self, patience = 3, mode = 'max', save_path = \"best_model.pth\"):\n",
    "        self.patience = patience\n",
    "        self.counter = 0\n",
    "        self.best_score = None\n",
    "        self.early_stop = False\n",
    "        self.save_path = Path(\"models\") / save_path\n",
    "        self.mode = mode  # 'max' for acc, 'min' for loss\n",
    "\n",
    "    def __call__(self, score, model):\n",
    "        if self.best_score is None:\n",
    "            self.best_score = score\n",
    "            self.save_model(model)\n",
    "        elif (self.mode == 'max' and score > self.best_score) or \\\n",
    "             (self.mode == 'min' and score < self.best_score):\n",
    "            self.best_score = score\n",
    "            self.counter = 0\n",
    "            self.save_model(model)\n",
    "        else:\n",
    "            self.counter += 1\n",
    "            if self.counter >= self.patience:\n",
    "                self.early_stop = True\n",
    "                print(\"Early stopping triggered.\")\n",
    "\n",
    "    def save_model(self, model):\n",
    "        torch.save(obj = model.state_dict(), f = self.save_path)\n",
    "        print(f\"Saving Model to {self.save_path}\")"
   ]
  },
  {
   "cell_type": "markdown",
   "metadata": {},
   "source": [
    "### 1.5.2 Implement"
   ]
  },
  {
   "cell_type": "code",
   "execution_count": 13,
   "metadata": {},
   "outputs": [],
   "source": [
    "def to_scalar(x):\n",
    "    if isinstance(x, torch.Tensor):\n",
    "        return x.detach().cpu().item()\n",
    "    return x"
   ]
  },
  {
   "cell_type": "code",
   "execution_count": 13,
   "metadata": {},
   "outputs": [],
   "source": [
    "# Set the number of epochs\n",
    "max_epochs = 1000"
   ]
  },
  {
   "cell_type": "code",
   "execution_count": 14,
   "metadata": {},
   "outputs": [
    {
     "name": "stderr",
     "output_type": "stream",
     "text": [
      "c:\\Users\\Minseo\\AppData\\Local\\Programs\\Python\\Python313\\Lib\\site-packages\\tqdm\\auto.py:21: TqdmWarning: IProgress not found. Please update jupyter and ipywidgets. See https://ipywidgets.readthedocs.io/en/stable/user_install.html\n",
      "  from .autonotebook import tqdm as notebook_tqdm\n"
     ]
    }
   ],
   "source": [
    "# Import tqdm for progress bar\n",
    "from tqdm.auto import tqdm"
   ]
  },
  {
   "cell_type": "code",
   "execution_count": 19,
   "metadata": {},
   "outputs": [
    {
     "name": "stderr",
     "output_type": "stream",
     "text": [
      "/Users/Kpiano/miniconda3/lib/python3.12/site-packages/tqdm/auto.py:21: TqdmWarning: IProgress not found. Please update jupyter and ipywidgets. See https://ipywidgets.readthedocs.io/en/stable/user_install.html\n",
      "  from .autonotebook import tqdm as notebook_tqdm\n",
      "  0%|          | 0/1000 [00:00<?, ?it/s]"
     ]
    },
    {
     "name": "stdout",
     "output_type": "stream",
     "text": [
      "Epoch: 0\n",
      "-------------\n",
      "Train loss: 1.39198 | Train acc: 41.25%\n"
     ]
    },
    {
     "name": "stderr",
     "output_type": "stream",
     "text": [
      "  0%|          | 1/1000 [00:36<10:00:08, 36.04s/it]"
     ]
    },
    {
     "name": "stdout",
     "output_type": "stream",
     "text": [
      "Test loss: 1.48676 | Test acc : 33.90%\n",
      "Saving Model to models/Base_Line_Model.pth\n",
      "Epoch: 1\n",
      "-------------\n",
      "Train loss: 1.09950 | Train acc: 55.53%\n"
     ]
    },
    {
     "name": "stderr",
     "output_type": "stream",
     "text": [
      "  0%|          | 2/1000 [01:00<8:01:51, 28.97s/it] "
     ]
    },
    {
     "name": "stdout",
     "output_type": "stream",
     "text": [
      "Test loss: 1.09231 | Test acc : 53.92%\n",
      "Saving Model to models/Base_Line_Model.pth\n",
      "Epoch: 2\n",
      "-------------\n",
      "Train loss: 0.97475 | Train acc: 60.90%\n"
     ]
    },
    {
     "name": "stderr",
     "output_type": "stream",
     "text": [
      "  0%|          | 3/1000 [01:21<7:06:15, 25.65s/it]"
     ]
    },
    {
     "name": "stdout",
     "output_type": "stream",
     "text": [
      "Test loss: 1.11393 | Test acc : 54.65%\n",
      "Saving Model to models/Base_Line_Model.pth\n",
      "Epoch: 3\n",
      "-------------\n",
      "Train loss: 0.88686 | Train acc: 65.21%\n"
     ]
    },
    {
     "name": "stderr",
     "output_type": "stream",
     "text": [
      "  0%|          | 4/1000 [01:42<6:33:57, 23.73s/it]"
     ]
    },
    {
     "name": "stdout",
     "output_type": "stream",
     "text": [
      "Test loss: 0.96689 | Test acc : 60.48%\n",
      "Saving Model to models/Base_Line_Model.pth\n",
      "Epoch: 4\n",
      "-------------\n",
      "Train loss: 0.82469 | Train acc: 67.89%\n"
     ]
    },
    {
     "name": "stderr",
     "output_type": "stream",
     "text": [
      "  0%|          | 5/1000 [02:02<6:11:00, 22.37s/it]"
     ]
    },
    {
     "name": "stdout",
     "output_type": "stream",
     "text": [
      "Test loss: 0.94441 | Test acc : 62.67%\n",
      "Saving Model to models/Base_Line_Model.pth\n",
      "Epoch: 5\n",
      "-------------\n",
      "Train loss: 0.75777 | Train acc: 71.56%\n"
     ]
    },
    {
     "name": "stderr",
     "output_type": "stream",
     "text": [
      "  1%|          | 6/1000 [02:23<6:00:53, 21.78s/it]"
     ]
    },
    {
     "name": "stdout",
     "output_type": "stream",
     "text": [
      "Test loss: 0.78335 | Test acc : 68.74%\n",
      "Saving Model to models/Base_Line_Model.pth\n",
      "Epoch: 6\n",
      "-------------\n",
      "Train loss: 0.71353 | Train acc: 73.70%\n"
     ]
    },
    {
     "name": "stderr",
     "output_type": "stream",
     "text": [
      "  1%|          | 7/1000 [02:50<6:30:15, 23.58s/it]"
     ]
    },
    {
     "name": "stdout",
     "output_type": "stream",
     "text": [
      "Test loss: 0.80318 | Test acc : 66.00%\n",
      "Epoch: 7\n",
      "-------------\n",
      "Train loss: 0.66762 | Train acc: 75.92%\n"
     ]
    },
    {
     "name": "stderr",
     "output_type": "stream",
     "text": [
      "  1%|          | 8/1000 [03:23<7:18:04, 26.50s/it]"
     ]
    },
    {
     "name": "stdout",
     "output_type": "stream",
     "text": [
      "Test loss: 0.70034 | Test acc : 74.49%\n",
      "Saving Model to models/Base_Line_Model.pth\n",
      "Epoch: 8\n",
      "-------------\n",
      "Train loss: 0.63349 | Train acc: 76.80%\n"
     ]
    },
    {
     "name": "stderr",
     "output_type": "stream",
     "text": [
      "  1%|          | 9/1000 [03:47<7:04:49, 25.72s/it]"
     ]
    },
    {
     "name": "stdout",
     "output_type": "stream",
     "text": [
      "Test loss: 0.65803 | Test acc : 76.71%\n",
      "Saving Model to models/Base_Line_Model.pth\n",
      "Epoch: 9\n",
      "-------------\n",
      "Train loss: 0.60113 | Train acc: 78.20%\n"
     ]
    },
    {
     "name": "stderr",
     "output_type": "stream",
     "text": [
      "  1%|          | 10/1000 [04:09<6:44:31, 24.52s/it]"
     ]
    },
    {
     "name": "stdout",
     "output_type": "stream",
     "text": [
      "Test loss: 0.69135 | Test acc : 73.48%\n",
      "Epoch: 10\n",
      "-------------\n",
      "Train loss: 0.57142 | Train acc: 79.56%\n"
     ]
    },
    {
     "name": "stderr",
     "output_type": "stream",
     "text": [
      "  1%|          | 11/1000 [04:30<6:29:36, 23.64s/it]"
     ]
    },
    {
     "name": "stdout",
     "output_type": "stream",
     "text": [
      "Test loss: 0.59092 | Test acc : 79.91%\n",
      "Saving Model to models/Base_Line_Model.pth\n",
      "Epoch: 11\n",
      "-------------\n",
      "Train loss: 0.55121 | Train acc: 80.17%\n"
     ]
    },
    {
     "name": "stderr",
     "output_type": "stream",
     "text": [
      "  1%|          | 12/1000 [05:02<7:10:48, 26.16s/it]"
     ]
    },
    {
     "name": "stdout",
     "output_type": "stream",
     "text": [
      "Test loss: 0.63153 | Test acc : 76.93%\n",
      "Epoch: 12\n",
      "-------------\n",
      "Train loss: 0.52756 | Train acc: 80.88%\n"
     ]
    },
    {
     "name": "stderr",
     "output_type": "stream",
     "text": [
      "  1%|▏         | 13/1000 [05:27<7:04:13, 25.79s/it]"
     ]
    },
    {
     "name": "stdout",
     "output_type": "stream",
     "text": [
      "Test loss: 0.55335 | Test acc : 79.86%\n",
      "Epoch: 13\n",
      "-------------\n",
      "Train loss: 0.50769 | Train acc: 82.15%\n"
     ]
    },
    {
     "name": "stderr",
     "output_type": "stream",
     "text": [
      "  1%|▏         | 14/1000 [05:49<6:45:53, 24.70s/it]"
     ]
    },
    {
     "name": "stdout",
     "output_type": "stream",
     "text": [
      "Test loss: 0.52392 | Test acc : 82.05%\n",
      "Saving Model to models/Base_Line_Model.pth\n",
      "Epoch: 14\n",
      "-------------\n",
      "Train loss: 0.48653 | Train acc: 82.92%\n"
     ]
    },
    {
     "name": "stderr",
     "output_type": "stream",
     "text": [
      "  2%|▏         | 15/1000 [06:10<6:24:07, 23.40s/it]"
     ]
    },
    {
     "name": "stdout",
     "output_type": "stream",
     "text": [
      "Test loss: 0.51783 | Test acc : 82.35%\n",
      "Saving Model to models/Base_Line_Model.pth\n",
      "Epoch: 15\n",
      "-------------\n",
      "Train loss: 0.47861 | Train acc: 83.12%\n"
     ]
    },
    {
     "name": "stderr",
     "output_type": "stream",
     "text": [
      "  2%|▏         | 16/1000 [06:33<6:22:08, 23.30s/it]"
     ]
    },
    {
     "name": "stdout",
     "output_type": "stream",
     "text": [
      "Test loss: 0.51559 | Test acc : 81.80%\n",
      "Epoch: 16\n",
      "-------------\n",
      "Train loss: 0.45327 | Train acc: 84.23%\n"
     ]
    },
    {
     "name": "stderr",
     "output_type": "stream",
     "text": [
      "  2%|▏         | 17/1000 [06:54<6:13:37, 22.81s/it]"
     ]
    },
    {
     "name": "stdout",
     "output_type": "stream",
     "text": [
      "Test loss: 0.63977 | Test acc : 75.93%\n",
      "Epoch: 17\n",
      "-------------\n",
      "Train loss: 0.44501 | Train acc: 84.61%\n"
     ]
    },
    {
     "name": "stderr",
     "output_type": "stream",
     "text": [
      "  2%|▏         | 17/1000 [07:15<6:59:59, 25.64s/it]"
     ]
    },
    {
     "name": "stdout",
     "output_type": "stream",
     "text": [
      "Test loss: 0.55941 | Test acc : 79.94%\n",
      "Early stopping triggered.\n",
      "Train time on cpu: 435.759 seconds\n"
     ]
    },
    {
     "name": "stderr",
     "output_type": "stream",
     "text": [
      "\n"
     ]
    }
   ],
   "source": [
    "# Import tqdm for progress bar\n",
    "from tqdm.auto import tqdm\n",
    "\n",
    "# Early Stopping\n",
    "early_stopper = EarlyStopping(patience=3, mode='max', save_path=\"Base_Line_Model.pth\")\n",
    "\n",
    "# Measure time\n",
    "from timeit import default_timer as Timer\n",
    "base_line_train_time_start = timer()\n",
    "\n",
    "# Create a optimization and evaluation loop using train_step() and test_step()\n",
    "for epoch in tqdm(range(max_epochs)):\n",
    "    print(f\"Epoch: {epoch}\\n-------------\")\n",
    "    train_loss, train_acc = train_step(model = model_baseline,\n",
    "                                       data_loader = train_dataloader,\n",
    "                                       loss_fn = loss_fn,\n",
    "                                       optimizer = optimizer,\n",
    "                                       accuracy_fn = accuracy_fn,\n",
    "                                       device = device)\n",
    "    val_loss, val_acc = test_step(model = model_baseline,\n",
    "                         data_loader = val_dataloader,\n",
    "                         loss_fn = loss_fn,\n",
    "                         accuracy_fn = accuracy_fn,\n",
    "                         device = device)\n",
    "\n",
    "    # Save history\n",
    "    history_baseline[\"epoch\"].append(to_scalar(epoch))\n",
    "    history_baseline[\"train_loss\"].append(to_scalar(train_loss))\n",
    "    history_baseline[\"train_acc\"].append(to_scalar(train_acc))\n",
    "    history_baseline[\"val_loss\"].append(to_scalar(val_loss))\n",
    "    history_baseline[\"val_acc\"].append(to_scalar(val_acc))\n",
    "\n",
    "    early_stopper(val_acc, model_baseline)\n",
    "    if early_stopper.early_stop:\n",
    "        break\n",
    "    \n",
    "base_line_train_time_end = timer()\n",
    "total_train_time_model_baseline = print_train_time(start = base_line_train_time_start,\n",
    "                                                   end = base_line_train_time_end,\n",
    "                                                   device = device)"
   ]
  },
  {
   "cell_type": "markdown",
   "metadata": {},
   "source": [
    "### 1.5.3 Save History"
   ]
  },
  {
   "cell_type": "code",
   "execution_count": 20,
   "metadata": {},
   "outputs": [
    {
     "name": "stdout",
     "output_type": "stream",
     "text": [
      "Saved training history to training_history.csv\n"
     ]
    }
   ],
   "source": [
    "df_history_baseline = pd.DataFrame(history_baseline)\n",
    "df_history_baseline.to_csv(\"training_history.csv\", index=False)\n",
    "print(\"Saved training history to training_history.csv\")"
   ]
  },
  {
   "cell_type": "code",
   "execution_count": 21,
   "metadata": {},
   "outputs": [
    {
     "data": {
      "text/html": [
       "<div>\n",
       "<style scoped>\n",
       "    .dataframe tbody tr th:only-of-type {\n",
       "        vertical-align: middle;\n",
       "    }\n",
       "\n",
       "    .dataframe tbody tr th {\n",
       "        vertical-align: top;\n",
       "    }\n",
       "\n",
       "    .dataframe thead th {\n",
       "        text-align: right;\n",
       "    }\n",
       "</style>\n",
       "<table border=\"1\" class=\"dataframe\">\n",
       "  <thead>\n",
       "    <tr style=\"text-align: right;\">\n",
       "      <th></th>\n",
       "      <th>epoch</th>\n",
       "      <th>train_loss</th>\n",
       "      <th>train_acc</th>\n",
       "      <th>val_loss</th>\n",
       "      <th>val_acc</th>\n",
       "    </tr>\n",
       "  </thead>\n",
       "  <tbody>\n",
       "    <tr>\n",
       "      <th>0</th>\n",
       "      <td>0</td>\n",
       "      <td>1.391981</td>\n",
       "      <td>41.246715</td>\n",
       "      <td>1.486760</td>\n",
       "      <td>33.904570</td>\n",
       "    </tr>\n",
       "    <tr>\n",
       "      <th>1</th>\n",
       "      <td>1</td>\n",
       "      <td>1.099504</td>\n",
       "      <td>55.529748</td>\n",
       "      <td>1.092305</td>\n",
       "      <td>53.921851</td>\n",
       "    </tr>\n",
       "    <tr>\n",
       "      <th>2</th>\n",
       "      <td>2</td>\n",
       "      <td>0.974750</td>\n",
       "      <td>60.904655</td>\n",
       "      <td>1.113931</td>\n",
       "      <td>54.651498</td>\n",
       "    </tr>\n",
       "    <tr>\n",
       "      <th>3</th>\n",
       "      <td>3</td>\n",
       "      <td>0.886858</td>\n",
       "      <td>65.205049</td>\n",
       "      <td>0.966886</td>\n",
       "      <td>60.476671</td>\n",
       "    </tr>\n",
       "    <tr>\n",
       "      <th>4</th>\n",
       "      <td>4</td>\n",
       "      <td>0.824693</td>\n",
       "      <td>67.886637</td>\n",
       "      <td>0.944407</td>\n",
       "      <td>62.665611</td>\n",
       "    </tr>\n",
       "    <tr>\n",
       "      <th>5</th>\n",
       "      <td>5</td>\n",
       "      <td>0.757766</td>\n",
       "      <td>71.562969</td>\n",
       "      <td>0.783345</td>\n",
       "      <td>68.740399</td>\n",
       "    </tr>\n",
       "    <tr>\n",
       "      <th>6</th>\n",
       "      <td>6</td>\n",
       "      <td>0.713525</td>\n",
       "      <td>73.700263</td>\n",
       "      <td>0.803183</td>\n",
       "      <td>65.999424</td>\n",
       "    </tr>\n",
       "    <tr>\n",
       "      <th>7</th>\n",
       "      <td>7</td>\n",
       "      <td>0.667623</td>\n",
       "      <td>75.922016</td>\n",
       "      <td>0.700344</td>\n",
       "      <td>74.491167</td>\n",
       "    </tr>\n",
       "    <tr>\n",
       "      <th>8</th>\n",
       "      <td>8</td>\n",
       "      <td>0.633490</td>\n",
       "      <td>76.797110</td>\n",
       "      <td>0.658026</td>\n",
       "      <td>76.708909</td>\n",
       "    </tr>\n",
       "    <tr>\n",
       "      <th>9</th>\n",
       "      <td>9</td>\n",
       "      <td>0.601134</td>\n",
       "      <td>78.202421</td>\n",
       "      <td>0.691351</td>\n",
       "      <td>73.480703</td>\n",
       "    </tr>\n",
       "    <tr>\n",
       "      <th>10</th>\n",
       "      <td>10</td>\n",
       "      <td>0.571419</td>\n",
       "      <td>79.563157</td>\n",
       "      <td>0.590925</td>\n",
       "      <td>79.908314</td>\n",
       "    </tr>\n",
       "    <tr>\n",
       "      <th>11</th>\n",
       "      <td>11</td>\n",
       "      <td>0.551209</td>\n",
       "      <td>80.173142</td>\n",
       "      <td>0.631532</td>\n",
       "      <td>76.934524</td>\n",
       "    </tr>\n",
       "    <tr>\n",
       "      <th>12</th>\n",
       "      <td>12</td>\n",
       "      <td>0.527562</td>\n",
       "      <td>80.876971</td>\n",
       "      <td>0.553351</td>\n",
       "      <td>79.857911</td>\n",
       "    </tr>\n",
       "    <tr>\n",
       "      <th>13</th>\n",
       "      <td>13</td>\n",
       "      <td>0.507687</td>\n",
       "      <td>82.148555</td>\n",
       "      <td>0.523918</td>\n",
       "      <td>82.049251</td>\n",
       "    </tr>\n",
       "    <tr>\n",
       "      <th>14</th>\n",
       "      <td>14</td>\n",
       "      <td>0.486529</td>\n",
       "      <td>82.915728</td>\n",
       "      <td>0.517832</td>\n",
       "      <td>82.354071</td>\n",
       "    </tr>\n",
       "    <tr>\n",
       "      <th>15</th>\n",
       "      <td>15</td>\n",
       "      <td>0.478610</td>\n",
       "      <td>83.115146</td>\n",
       "      <td>0.515588</td>\n",
       "      <td>81.799635</td>\n",
       "    </tr>\n",
       "    <tr>\n",
       "      <th>16</th>\n",
       "      <td>16</td>\n",
       "      <td>0.453270</td>\n",
       "      <td>84.234234</td>\n",
       "      <td>0.639775</td>\n",
       "      <td>75.926459</td>\n",
       "    </tr>\n",
       "    <tr>\n",
       "      <th>17</th>\n",
       "      <td>17</td>\n",
       "      <td>0.445012</td>\n",
       "      <td>84.607264</td>\n",
       "      <td>0.559410</td>\n",
       "      <td>79.937116</td>\n",
       "    </tr>\n",
       "  </tbody>\n",
       "</table>\n",
       "</div>"
      ],
      "text/plain": [
       "    epoch  train_loss  train_acc  val_loss    val_acc\n",
       "0       0    1.391981  41.246715  1.486760  33.904570\n",
       "1       1    1.099504  55.529748  1.092305  53.921851\n",
       "2       2    0.974750  60.904655  1.113931  54.651498\n",
       "3       3    0.886858  65.205049  0.966886  60.476671\n",
       "4       4    0.824693  67.886637  0.944407  62.665611\n",
       "5       5    0.757766  71.562969  0.783345  68.740399\n",
       "6       6    0.713525  73.700263  0.803183  65.999424\n",
       "7       7    0.667623  75.922016  0.700344  74.491167\n",
       "8       8    0.633490  76.797110  0.658026  76.708909\n",
       "9       9    0.601134  78.202421  0.691351  73.480703\n",
       "10     10    0.571419  79.563157  0.590925  79.908314\n",
       "11     11    0.551209  80.173142  0.631532  76.934524\n",
       "12     12    0.527562  80.876971  0.553351  79.857911\n",
       "13     13    0.507687  82.148555  0.523918  82.049251\n",
       "14     14    0.486529  82.915728  0.517832  82.354071\n",
       "15     15    0.478610  83.115146  0.515588  81.799635\n",
       "16     16    0.453270  84.234234  0.639775  75.926459\n",
       "17     17    0.445012  84.607264  0.559410  79.937116"
      ]
     },
     "execution_count": 21,
     "metadata": {},
     "output_type": "execute_result"
    }
   ],
   "source": [
    "df_history_baseline"
   ]
  },
  {
   "cell_type": "markdown",
   "metadata": {},
   "source": [
    "## 1.6 Load Model"
   ]
  },
  {
   "cell_type": "code",
   "execution_count": 16,
   "metadata": {},
   "outputs": [
    {
     "data": {
      "text/plain": [
       "<All keys matched successfully>"
      ]
     },
     "execution_count": 16,
     "metadata": {},
     "output_type": "execute_result"
    }
   ],
   "source": [
    "# Load in the save state_dict()\n",
    "MODEL_PATH = Path(\"models\")\n",
    "MODEL_NAME = \"Base_Line_Model.pth\"\n",
    "MODEL_SAVE_PATH = MODEL_PATH / MODEL_NAME\n",
    "\n",
    "# Create a new instance\n",
    "Loaded_model_v1 = CNNKeyWordSpotter(num_classes = 6)\n",
    "\n",
    "# Load Model\n",
    "Loaded_model_v1.load_state_dict(torch.load(f = MODEL_SAVE_PATH, map_location = 'cpu'))"
   ]
  },
  {
   "cell_type": "markdown",
   "metadata": {},
   "source": [
    "## 1.7 Evaulate Model"
   ]
  },
  {
   "cell_type": "code",
   "execution_count": 15,
   "metadata": {},
   "outputs": [],
   "source": [
    "y_preds = []\n",
    "y_trues = []\n",
    "\n",
    "def eval_model(model : torch.nn.Module,\n",
    "               data_loader : torch.utils.data.DataLoader,\n",
    "               loss_fn : torch.nn.Module,\n",
    "               accuracy_fn):\n",
    "    \"\"\" Returns a dictionary containing the results of model predicting on data_loader\"\"\"\n",
    "    loss, acc = 0, 0\n",
    "    model.eval()\n",
    "    with torch.inference_mode():\n",
    "        for X, y in tqdm(data_loader):\n",
    "            # Make predictions\n",
    "            y_logit = model(X)\n",
    "            y_pred = y_logit.argmax(dim = 1)\n",
    "            # Accumulate the loss and acc values per batch\n",
    "            loss += loss_fn(y_logit, y)\n",
    "            acc += accuracy_fn(y_true = y,\n",
    "                               y_pred = y_logit.argmax(dim = 1))\n",
    "            # Put prediction on CPU for evaluation\n",
    "            y_preds.append(y_pred.cpu())\n",
    "            ## y_true\n",
    "            y_trues.append(y)\n",
    "\n",
    "        # Scale loss and acc to find the average loss/acc per batch\n",
    "        loss /= len(data_loader)\n",
    "        acc /= len(data_loader)\n",
    "\n",
    "    return {\"model_name\" : model.__class__.__name__,\n",
    "            \"model_loss\" : loss.item(),\n",
    "            \"model_acc\" : acc}"
   ]
  },
  {
   "cell_type": "code",
   "execution_count": 24,
   "metadata": {},
   "outputs": [
    {
     "name": "stderr",
     "output_type": "stream",
     "text": [
      "  0%|          | 0/62 [00:00<?, ?it/s]"
     ]
    },
    {
     "name": "stderr",
     "output_type": "stream",
     "text": [
      "100%|██████████| 62/62 [00:01<00:00, 38.10it/s]"
     ]
    },
    {
     "name": "stdout",
     "output_type": "stream",
     "text": [
      "{'model_name': 'CNNKeyWordSpotter', 'model_loss': 0.510482132434845, 'model_acc': 82.61088709677419}\n",
      "tensor([1, 5, 0,  ..., 2, 1, 2])\n",
      "tensor([1, 5, 0,  ..., 2, 1, 2])\n"
     ]
    },
    {
     "name": "stderr",
     "output_type": "stream",
     "text": [
      "\n"
     ]
    }
   ],
   "source": [
    "# Calculate model 0 results on test datasets\n",
    "model_baseline_results = eval_model(model = Loaded_model_v1,\n",
    "                                    data_loader = test_dataloader,\n",
    "                                    loss_fn = loss_fn,\n",
    "                                    accuracy_fn = accuracy_fn)\n",
    "\n",
    "print(model_baseline_results)\n",
    "# y_pred\n",
    "y_pred_tensor = torch.cat(y_preds)\n",
    "print(y_pred_tensor)\n",
    "# y_true\n",
    "y_true_tensor = torch.cat(y_trues)\n",
    "print(y_true_tensor)"
   ]
  },
  {
   "cell_type": "markdown",
   "metadata": {},
   "source": [
    "## 1.8 Confusion Matrix"
   ]
  },
  {
   "cell_type": "code",
   "execution_count": 34,
   "metadata": {},
   "outputs": [
    {
     "data": {
      "text/plain": [
       "['yes', 'no', 'stop', 'go', 'silence', 'other']"
      ]
     },
     "execution_count": 34,
     "metadata": {},
     "output_type": "execute_result"
    }
   ],
   "source": [
    "class_names = train_dataset.classes\n",
    "class_names"
   ]
  },
  {
   "cell_type": "code",
   "execution_count": 17,
   "metadata": {},
   "outputs": [
    {
     "name": "stdout",
     "output_type": "stream",
     "text": [
      "1.26.4\n"
     ]
    }
   ],
   "source": [
    "import numpy\n",
    "print(numpy.__version__)"
   ]
  },
  {
   "cell_type": "code",
   "execution_count": 27,
   "metadata": {},
   "outputs": [
    {
     "name": "stdout",
     "output_type": "stream",
     "text": [
      "tensor([[377,  10,  11,   2,   0,   5],\n",
      "        [  5, 312,  14,  61,   0,   3],\n",
      "        [  7,   4, 366,   9,   0,   2],\n",
      "        [  2,  51,  34, 293,   0,   8],\n",
      "        [  0,   0,   0,   0,   0,   0],\n",
      "        [ 18,  11,  26,  60,   0, 285]])\n"
     ]
    }
   ],
   "source": [
    "from torchmetrics import ConfusionMatrix\n",
    "from mlxtend.plotting import plot_confusion_matrix\n",
    "\n",
    "# 2. Setup confusion instance and compare predictions to targets\n",
    "confmat = ConfusionMatrix(task = \"MULTICLASS\", num_classes = len(class_names))\n",
    "confmat_tensor = confmat(preds = y_pred_tensor,\n",
    "                         target = y_true_tensor)\n",
    "print(confmat_tensor)"
   ]
  },
  {
   "cell_type": "code",
   "execution_count": 28,
   "metadata": {},
   "outputs": [
    {
     "name": "stdout",
     "output_type": "stream",
     "text": [
      "torch.int64\n",
      "cpu\n"
     ]
    }
   ],
   "source": [
    "print(confmat_tensor.dtype)\n",
    "print(confmat_tensor.device)"
   ]
  },
  {
   "cell_type": "code",
   "execution_count": 29,
   "metadata": {},
   "outputs": [
    {
     "name": "stdout",
     "output_type": "stream",
     "text": [
      "torch.float32\n",
      "cpu\n"
     ]
    }
   ],
   "source": [
    "confmat_tensor = confmat_tensor.to(dtype=torch.float32).cpu()\n",
    "print(confmat_tensor.dtype)\n",
    "print(confmat_tensor.device)"
   ]
  },
  {
   "cell_type": "code",
   "execution_count": 30,
   "metadata": {},
   "outputs": [],
   "source": [
    "conf_mat = confmat_tensor.numpy()"
   ]
  },
  {
   "cell_type": "code",
   "execution_count": 31,
   "metadata": {},
   "outputs": [
    {
     "name": "stderr",
     "output_type": "stream",
     "text": [
      "/Users/Kpiano/miniconda3/lib/python3.12/site-packages/mlxtend/plotting/plot_confusion_matrix.py:102: RuntimeWarning: invalid value encountered in divide\n",
      "  normed_conf_mat = conf_mat.astype(\"float\") / total_samples\n"
     ]
    },
    {
     "data": {
      "image/png": "[encoded data removed]",
      "text/plain": [
       "<Figure size 1000x700 with 1 Axes>"
      ]
     },
     "metadata": {},
     "output_type": "display_data"
    }
   ],
   "source": [
    "# 3. Plot the confusion matrix\n",
    "fig, ax = plot_confusion_matrix(conf_mat = confmat_tensor.numpy(), # matplotlib likes to working with numpy\n",
    "                                class_names = class_names,\n",
    "                                figsize = (10, 7))"
   ]
  },
  {
   "cell_type": "markdown",
   "metadata": {},
   "source": [
    "# 2. DropOut 추가 / Batch Norm 추가"
   ]
  },
  {
   "cell_type": "markdown",
   "metadata": {},
   "source": [
    "## 2.1 Dropout 추가 / Batch Norm 추가"
   ]
  },
  {
   "cell_type": "markdown",
   "metadata": {},
   "source": [
    "### 2.1.1 Build a Model with Batch Norm / Dropout"
   ]
  },
  {
   "cell_type": "code",
   "execution_count": 35,
   "metadata": {},
   "outputs": [],
   "source": [
    "# Batch Norm / Dropout 추가 버전\n",
    "class CNNKeywordSpotter_v2(nn.Module):\n",
    "    def __init__(self, num_classes=6):\n",
    "        super().__init__()\n",
    "        self.cnn = nn.Sequential(\n",
    "            nn.Conv2d(1, 16, kernel_size=3, padding=1),\n",
    "            nn.BatchNorm2d(16),\n",
    "            nn.ReLU(),\n",
    "            nn.MaxPool2d(2),\n",
    "            nn.Dropout(0.3),  # 추가\n",
    "\n",
    "            nn.Conv2d(16, 32, kernel_size=3, padding=1),\n",
    "            nn.BatchNorm2d(32),\n",
    "            nn.ReLU(),\n",
    "            nn.AdaptiveAvgPool2d((1, 1)),\n",
    "        )\n",
    "        self.fc = nn.Linear(32, num_classes)\n",
    "\n",
    "    def forward(self, x):\n",
    "        x = self.cnn(x)\n",
    "        x = x.view(x.size(0), -1)\n",
    "        return self.fc(x)"
   ]
  },
  {
   "cell_type": "code",
   "execution_count": 36,
   "metadata": {},
   "outputs": [],
   "source": [
    "model_v2 = CNNKeywordSpotter_v2(num_classes = 6)"
   ]
  },
  {
   "cell_type": "code",
   "execution_count": 37,
   "metadata": {},
   "outputs": [],
   "source": [
    "# Setup Loss function and optimizer\n",
    "loss_fn = nn.CrossEntropyLoss()\n",
    "optimizer = torch.optim.Adam(model_v2.parameters(), lr = 0.001)"
   ]
  },
  {
   "cell_type": "markdown",
   "metadata": {},
   "source": [
    "### 2.1.2 Training Loop"
   ]
  },
  {
   "cell_type": "markdown",
   "metadata": {},
   "source": [
    "#### 2.1.2.1 Collect Data"
   ]
  },
  {
   "cell_type": "code",
   "execution_count": null,
   "metadata": {},
   "outputs": [],
   "source": [
    "history_v2 = {\"epoch\" : [],\n",
    "              \"train_loss\" : [],\n",
    "              \"train_acc\" : [],\n",
    "              \"val_loss\" : [],\n",
    "              \"val_acc\" : []}"
   ]
  },
  {
   "cell_type": "markdown",
   "metadata": {},
   "source": [
    "#### 2.1.2.2 Implement"
   ]
  },
  {
   "cell_type": "code",
   "execution_count": 23,
   "metadata": {},
   "outputs": [],
   "source": [
    "# Set the number of epochs\n",
    "max_epochs = 100"
   ]
  },
  {
   "cell_type": "code",
   "execution_count": 24,
   "metadata": {},
   "outputs": [
    {
     "name": "stderr",
     "output_type": "stream",
     "text": [
      "/Users/Kpiano/miniconda3/lib/python3.12/site-packages/tqdm/auto.py:21: TqdmWarning: IProgress not found. Please update jupyter and ipywidgets. See https://ipywidgets.readthedocs.io/en/stable/user_install.html\n",
      "  from .autonotebook import tqdm as notebook_tqdm\n",
      "  0%|          | 0/100 [00:00<?, ?it/s]"
     ]
    },
    {
     "name": "stdout",
     "output_type": "stream",
     "text": [
      "Epoch: 0\n",
      "-------------\n",
      "Train loss: 1.54169 | Train acc: 38.76%\n"
     ]
    },
    {
     "name": "stderr",
     "output_type": "stream",
     "text": [
      "  1%|          | 1/100 [00:39<1:04:25, 39.05s/it]"
     ]
    },
    {
     "name": "stdout",
     "output_type": "stream",
     "text": [
      "Test loss: 1.43809 | Test acc : 41.39%\n",
      "Saving Model to models/v2_Model.pth\n",
      "Epoch: 1\n",
      "-------------\n",
      "Train loss: 1.28494 | Train acc: 49.59%\n"
     ]
    },
    {
     "name": "stderr",
     "output_type": "stream",
     "text": [
      "  2%|▏         | 2/100 [01:04<50:38, 31.00s/it]  "
     ]
    },
    {
     "name": "stdout",
     "output_type": "stream",
     "text": [
      "Test loss: 1.29535 | Test acc : 47.67%\n",
      "Saving Model to models/v2_Model.pth\n",
      "Epoch: 2\n",
      "-------------\n",
      "Train loss: 1.17679 | Train acc: 54.67%\n"
     ]
    },
    {
     "name": "stderr",
     "output_type": "stream",
     "text": [
      "  3%|▎         | 3/100 [01:37<51:21, 31.76s/it]"
     ]
    },
    {
     "name": "stdout",
     "output_type": "stream",
     "text": [
      "Test loss: 1.25238 | Test acc : 50.04%\n",
      "Saving Model to models/v2_Model.pth\n",
      "Epoch: 3\n",
      "-------------\n",
      "Train loss: 1.11148 | Train acc: 56.76%\n"
     ]
    },
    {
     "name": "stderr",
     "output_type": "stream",
     "text": [
      "  4%|▍         | 4/100 [02:06<49:27, 30.92s/it]"
     ]
    },
    {
     "name": "stdout",
     "output_type": "stream",
     "text": [
      "Test loss: 1.16036 | Test acc : 52.48%\n",
      "Saving Model to models/v2_Model.pth\n",
      "Epoch: 4\n",
      "-------------\n",
      "Train loss: 1.05842 | Train acc: 58.80%\n"
     ]
    },
    {
     "name": "stderr",
     "output_type": "stream",
     "text": [
      "  5%|▌         | 5/100 [02:31<45:28, 28.72s/it]"
     ]
    },
    {
     "name": "stdout",
     "output_type": "stream",
     "text": [
      "Test loss: 1.07673 | Test acc : 58.00%\n",
      "Saving Model to models/v2_Model.pth\n",
      "Epoch: 5\n",
      "-------------\n",
      "Train loss: 1.01359 | Train acc: 60.78%\n"
     ]
    },
    {
     "name": "stderr",
     "output_type": "stream",
     "text": [
      "  6%|▌         | 6/100 [02:57<43:18, 27.65s/it]"
     ]
    },
    {
     "name": "stdout",
     "output_type": "stream",
     "text": [
      "Test loss: 1.05582 | Test acc : 59.03%\n",
      "Saving Model to models/v2_Model.pth\n",
      "Epoch: 6\n",
      "-------------\n",
      "Train loss: 0.98618 | Train acc: 61.93%\n"
     ]
    },
    {
     "name": "stderr",
     "output_type": "stream",
     "text": [
      "  7%|▋         | 7/100 [03:29<45:01, 29.05s/it]"
     ]
    },
    {
     "name": "stdout",
     "output_type": "stream",
     "text": [
      "Test loss: 1.04862 | Test acc : 57.17%\n",
      "Epoch: 7\n",
      "-------------\n",
      "Train loss: 0.95598 | Train acc: 63.14%\n"
     ]
    },
    {
     "name": "stderr",
     "output_type": "stream",
     "text": [
      "  8%|▊         | 8/100 [03:53<42:26, 27.68s/it]"
     ]
    },
    {
     "name": "stdout",
     "output_type": "stream",
     "text": [
      "Test loss: 0.99692 | Test acc : 60.50%\n",
      "Saving Model to models/v2_Model.pth\n",
      "Epoch: 8\n",
      "-------------\n",
      "Train loss: 0.92913 | Train acc: 64.21%\n"
     ]
    },
    {
     "name": "stderr",
     "output_type": "stream",
     "text": [
      "  9%|▉         | 9/100 [04:18<40:34, 26.76s/it]"
     ]
    },
    {
     "name": "stdout",
     "output_type": "stream",
     "text": [
      "Test loss: 1.00377 | Test acc : 59.97%\n",
      "Epoch: 9\n",
      "-------------\n",
      "Train loss: 0.90584 | Train acc: 65.50%\n"
     ]
    },
    {
     "name": "stderr",
     "output_type": "stream",
     "text": [
      " 10%|█         | 10/100 [04:43<39:19, 26.22s/it]"
     ]
    },
    {
     "name": "stdout",
     "output_type": "stream",
     "text": [
      "Test loss: 0.95052 | Test acc : 62.89%\n",
      "Saving Model to models/v2_Model.pth\n",
      "Epoch: 10\n",
      "-------------\n",
      "Train loss: 0.88297 | Train acc: 66.43%\n"
     ]
    },
    {
     "name": "stderr",
     "output_type": "stream",
     "text": [
      " 11%|█         | 11/100 [05:08<38:20, 25.84s/it]"
     ]
    },
    {
     "name": "stdout",
     "output_type": "stream",
     "text": [
      "Test loss: 0.93908 | Test acc : 63.53%\n",
      "Saving Model to models/v2_Model.pth\n",
      "Epoch: 11\n",
      "-------------\n",
      "Train loss: 0.86205 | Train acc: 67.95%\n"
     ]
    },
    {
     "name": "stderr",
     "output_type": "stream",
     "text": [
      " 12%|█▏        | 12/100 [05:33<37:32, 25.60s/it]"
     ]
    },
    {
     "name": "stdout",
     "output_type": "stream",
     "text": [
      "Test loss: 0.90425 | Test acc : 64.84%\n",
      "Saving Model to models/v2_Model.pth\n",
      "Epoch: 12\n",
      "-------------\n",
      "Train loss: 0.84676 | Train acc: 68.27%\n"
     ]
    },
    {
     "name": "stderr",
     "output_type": "stream",
     "text": [
      " 13%|█▎        | 13/100 [05:58<36:58, 25.51s/it]"
     ]
    },
    {
     "name": "stdout",
     "output_type": "stream",
     "text": [
      "Test loss: 0.89205 | Test acc : 65.11%\n",
      "Saving Model to models/v2_Model.pth\n",
      "Epoch: 13\n",
      "-------------\n",
      "Train loss: 0.83017 | Train acc: 68.96%\n"
     ]
    },
    {
     "name": "stderr",
     "output_type": "stream",
     "text": [
      " 14%|█▍        | 14/100 [06:24<36:30, 25.48s/it]"
     ]
    },
    {
     "name": "stdout",
     "output_type": "stream",
     "text": [
      "Test loss: 0.87944 | Test acc : 65.62%\n",
      "Saving Model to models/v2_Model.pth\n",
      "Epoch: 14\n",
      "-------------\n",
      "Train loss: 0.81434 | Train acc: 70.03%\n"
     ]
    },
    {
     "name": "stderr",
     "output_type": "stream",
     "text": [
      " 15%|█▌        | 15/100 [06:49<35:52, 25.32s/it]"
     ]
    },
    {
     "name": "stdout",
     "output_type": "stream",
     "text": [
      "Test loss: 0.84183 | Test acc : 67.40%\n",
      "Saving Model to models/v2_Model.pth\n",
      "Epoch: 15\n",
      "-------------\n",
      "Train loss: 0.79871 | Train acc: 70.64%\n"
     ]
    },
    {
     "name": "stderr",
     "output_type": "stream",
     "text": [
      " 16%|█▌        | 16/100 [07:14<35:34, 25.41s/it]"
     ]
    },
    {
     "name": "stdout",
     "output_type": "stream",
     "text": [
      "Test loss: 0.83501 | Test acc : 68.64%\n",
      "Saving Model to models/v2_Model.pth\n",
      "Epoch: 16\n",
      "-------------\n",
      "Train loss: 0.78482 | Train acc: 71.31%\n"
     ]
    },
    {
     "name": "stderr",
     "output_type": "stream",
     "text": [
      " 17%|█▋        | 17/100 [07:40<35:21, 25.56s/it]"
     ]
    },
    {
     "name": "stdout",
     "output_type": "stream",
     "text": [
      "Test loss: 0.80662 | Test acc : 69.20%\n",
      "Saving Model to models/v2_Model.pth\n",
      "Epoch: 17\n",
      "-------------\n",
      "Train loss: 0.77193 | Train acc: 71.99%\n"
     ]
    },
    {
     "name": "stderr",
     "output_type": "stream",
     "text": [
      " 18%|█▊        | 18/100 [08:06<35:01, 25.62s/it]"
     ]
    },
    {
     "name": "stdout",
     "output_type": "stream",
     "text": [
      "Test loss: 0.84021 | Test acc : 68.64%\n",
      "Epoch: 18\n",
      "-------------\n",
      "Train loss: 0.75787 | Train acc: 72.41%\n"
     ]
    },
    {
     "name": "stderr",
     "output_type": "stream",
     "text": [
      " 19%|█▉        | 19/100 [08:31<34:27, 25.53s/it]"
     ]
    },
    {
     "name": "stdout",
     "output_type": "stream",
     "text": [
      "Test loss: 0.81457 | Test acc : 70.58%\n",
      "Saving Model to models/v2_Model.pth\n",
      "Epoch: 19\n",
      "-------------\n",
      "Train loss: 0.74555 | Train acc: 73.12%\n"
     ]
    },
    {
     "name": "stderr",
     "output_type": "stream",
     "text": [
      " 20%|██        | 20/100 [08:58<34:25, 25.82s/it]"
     ]
    },
    {
     "name": "stdout",
     "output_type": "stream",
     "text": [
      "Test loss: 0.78256 | Test acc : 69.78%\n",
      "Epoch: 20\n",
      "-------------\n",
      "Train loss: 0.73391 | Train acc: 73.45%\n"
     ]
    },
    {
     "name": "stderr",
     "output_type": "stream",
     "text": [
      " 21%|██        | 21/100 [09:24<34:04, 25.88s/it]"
     ]
    },
    {
     "name": "stdout",
     "output_type": "stream",
     "text": [
      "Test loss: 0.75315 | Test acc : 72.12%\n",
      "Saving Model to models/v2_Model.pth\n",
      "Epoch: 21\n",
      "-------------\n",
      "Train loss: 0.72229 | Train acc: 74.07%\n"
     ]
    },
    {
     "name": "stderr",
     "output_type": "stream",
     "text": [
      " 22%|██▏       | 22/100 [09:50<33:36, 25.85s/it]"
     ]
    },
    {
     "name": "stdout",
     "output_type": "stream",
     "text": [
      "Test loss: 0.75788 | Test acc : 70.41%\n",
      "Epoch: 22\n",
      "-------------\n",
      "Train loss: 0.70668 | Train acc: 74.39%\n"
     ]
    },
    {
     "name": "stderr",
     "output_type": "stream",
     "text": [
      " 23%|██▎       | 23/100 [10:16<33:28, 26.09s/it]"
     ]
    },
    {
     "name": "stdout",
     "output_type": "stream",
     "text": [
      "Test loss: 0.75135 | Test acc : 72.22%\n",
      "Saving Model to models/v2_Model.pth\n",
      "Epoch: 23\n",
      "-------------\n",
      "Train loss: 0.70025 | Train acc: 74.72%\n"
     ]
    },
    {
     "name": "stderr",
     "output_type": "stream",
     "text": [
      " 24%|██▍       | 24/100 [10:43<33:12, 26.22s/it]"
     ]
    },
    {
     "name": "stdout",
     "output_type": "stream",
     "text": [
      "Test loss: 0.72525 | Test acc : 72.72%\n",
      "Saving Model to models/v2_Model.pth\n",
      "Epoch: 24\n",
      "-------------\n",
      "Train loss: 0.68162 | Train acc: 75.88%\n"
     ]
    },
    {
     "name": "stderr",
     "output_type": "stream",
     "text": [
      " 25%|██▌       | 25/100 [11:09<32:50, 26.27s/it]"
     ]
    },
    {
     "name": "stdout",
     "output_type": "stream",
     "text": [
      "Test loss: 0.70652 | Test acc : 74.74%\n",
      "Saving Model to models/v2_Model.pth\n",
      "Epoch: 25\n",
      "-------------\n",
      "Train loss: 0.67320 | Train acc: 76.50%\n"
     ]
    },
    {
     "name": "stderr",
     "output_type": "stream",
     "text": [
      " 26%|██▌       | 26/100 [11:36<32:31, 26.37s/it]"
     ]
    },
    {
     "name": "stdout",
     "output_type": "stream",
     "text": [
      "Test loss: 0.72773 | Test acc : 71.36%\n",
      "Epoch: 26\n",
      "-------------\n",
      "Train loss: 0.65845 | Train acc: 76.69%\n"
     ]
    },
    {
     "name": "stderr",
     "output_type": "stream",
     "text": [
      " 27%|██▋       | 27/100 [12:02<32:10, 26.44s/it]"
     ]
    },
    {
     "name": "stdout",
     "output_type": "stream",
     "text": [
      "Test loss: 0.71605 | Test acc : 71.16%\n",
      "Epoch: 27\n",
      "-------------\n",
      "Train loss: 0.65612 | Train acc: 76.64%\n"
     ]
    },
    {
     "name": "stderr",
     "output_type": "stream",
     "text": [
      " 27%|██▋       | 27/100 [12:29<33:47, 27.77s/it]"
     ]
    },
    {
     "name": "stdout",
     "output_type": "stream",
     "text": [
      "Test loss: 0.68754 | Test acc : 74.11%\n",
      "Early stopping triggered.\n",
      "Train time on cpu: 749.914 seconds\n"
     ]
    },
    {
     "name": "stderr",
     "output_type": "stream",
     "text": [
      "\n"
     ]
    }
   ],
   "source": [
    "# Import tqdm for progress bar\n",
    "from tqdm.auto import tqdm\n",
    "\n",
    "# Early Stopping\n",
    "early_stopper = EarlyStopping(patience=3, mode='max', save_path=\"v2_Model.pth\")\n",
    "\n",
    "# Measure time\n",
    "from timeit import default_timer as Timer\n",
    "v2_train_time_start = timer()\n",
    "\n",
    "# Create a optimization and evaluation loop using train_step() and test_step()\n",
    "for epoch in tqdm(range(max_epochs)):\n",
    "    print(f\"Epoch: {epoch}\\n-------------\")\n",
    "    train_loss, train_acc = train_step(model = model_v2,\n",
    "                                       data_loader = train_dataloader,\n",
    "                                       loss_fn = loss_fn,\n",
    "                                       optimizer = optimizer,\n",
    "                                       accuracy_fn = accuracy_fn,\n",
    "                                       device = device)\n",
    "    val_loss, val_acc = test_step(model = model_v2,\n",
    "                         data_loader = val_dataloader,\n",
    "                         loss_fn = loss_fn,\n",
    "                         accuracy_fn = accuracy_fn,\n",
    "                         device = device)\n",
    "\n",
    "    # Save history\n",
    "    history_v2[\"epoch\"].append(to_scalar(epoch))\n",
    "    history_v2[\"train_loss\"].append(to_scalar(train_loss))\n",
    "    history_v2[\"train_acc\"].append(to_scalar(train_acc))\n",
    "    history_v2[\"val_loss\"].append(to_scalar(val_loss))\n",
    "    history_v2[\"val_acc\"].append(to_scalar(val_acc))\n",
    "\n",
    "    early_stopper(val_acc, model_v2)\n",
    "    if early_stopper.early_stop:\n",
    "        break\n",
    "    \n",
    "v2_train_time_end = timer()\n",
    "total_train_time_model_baseline = print_train_time(start = v2_train_time_start,\n",
    "                                                   end = v2_train_time_end,\n",
    "                                                   device = device)"
   ]
  },
  {
   "cell_type": "markdown",
   "metadata": {},
   "source": [
    "#### 2.1.2.3 Save History"
   ]
  },
  {
   "cell_type": "code",
   "execution_count": 25,
   "metadata": {},
   "outputs": [
    {
     "name": "stdout",
     "output_type": "stream",
     "text": [
      "Saved training history to training_history_v2.csv\n"
     ]
    }
   ],
   "source": [
    "df_history_v2 = pd.DataFrame(history_v2)\n",
    "df_history_v2.to_csv(\"training_history_v2.csv\", index=False)\n",
    "print(\"Saved training history to training_history_v2.csv\")"
   ]
  },
  {
   "cell_type": "code",
   "execution_count": null,
   "metadata": {},
   "outputs": [],
   "source": [
    "df_history_v2"
   ]
  },
  {
   "cell_type": "markdown",
   "metadata": {},
   "source": [
    "#### 2.1.2.4 Load Model"
   ]
  },
  {
   "cell_type": "code",
   "execution_count": 38,
   "metadata": {},
   "outputs": [
    {
     "data": {
      "text/plain": [
       "<All keys matched successfully>"
      ]
     },
     "execution_count": 38,
     "metadata": {},
     "output_type": "execute_result"
    }
   ],
   "source": [
    "# Load in the save state_dict()\n",
    "MODEL_PATH = Path(\"models\")\n",
    "MODEL_NAME = \"v2_Model.pth\"\n",
    "MODEL_SAVE_PATH = MODEL_PATH / MODEL_NAME\n",
    "\n",
    "# Create a new instance\n",
    "Loaded_model_v2 = CNNKeywordSpotter_v2(num_classes = 6)\n",
    "\n",
    "# Load Model\n",
    "Loaded_model_v2.load_state_dict(torch.load(f = MODEL_SAVE_PATH, map_location = 'cpu'))"
   ]
  },
  {
   "cell_type": "markdown",
   "metadata": {},
   "source": [
    "### 2.1.3 Evalulate Model"
   ]
  },
  {
   "cell_type": "code",
   "execution_count": 39,
   "metadata": {},
   "outputs": [],
   "source": [
    "y_preds = []\n",
    "y_trues = []"
   ]
  },
  {
   "cell_type": "code",
   "execution_count": 40,
   "metadata": {},
   "outputs": [
    {
     "name": "stderr",
     "output_type": "stream",
     "text": [
      "100%|██████████| 62/62 [00:01<00:00, 37.17it/s]"
     ]
    },
    {
     "name": "stdout",
     "output_type": "stream",
     "text": [
      "{'model_name': 'CNNKeywordSpotter_v2', 'model_loss': 0.7108920812606812, 'model_acc': 74.6975806451613}\n",
      "tensor([1, 0, 3,  ..., 1, 3, 3])\n",
      "tensor([1, 0, 3,  ..., 1, 2, 5])\n"
     ]
    },
    {
     "name": "stderr",
     "output_type": "stream",
     "text": [
      "\n"
     ]
    }
   ],
   "source": [
    "# Calculate model 0 results on test datasets\n",
    "model_v2_results = eval_model(model = Loaded_model_v2,\n",
    "                                    data_loader = test_dataloader,\n",
    "                                    loss_fn = loss_fn,\n",
    "                                    accuracy_fn = accuracy_fn)\n",
    "\n",
    "print(model_v2_results)\n",
    "# y_pred\n",
    "y_pred_tensor = torch.cat(y_preds)\n",
    "print(y_pred_tensor)\n",
    "# y_true\n",
    "y_true_tensor = torch.cat(y_trues)\n",
    "print(y_true_tensor)"
   ]
  },
  {
   "cell_type": "markdown",
   "metadata": {},
   "source": [
    "### 2.1.4 Confusion Matrix"
   ]
  },
  {
   "cell_type": "code",
   "execution_count": 41,
   "metadata": {},
   "outputs": [
    {
     "name": "stdout",
     "output_type": "stream",
     "text": [
      "tensor([[359,  21,  15,   5,   0,   5],\n",
      "        [  4, 312,  10,  66,   0,   3],\n",
      "        [  3,   5, 358,  19,   0,   3],\n",
      "        [  0,  61,  16, 307,   0,   4],\n",
      "        [  0,   0,   0,   0,   0,   0],\n",
      "        [ 22,  60,  33, 144,   0, 141]])\n"
     ]
    }
   ],
   "source": [
    "from torchmetrics import ConfusionMatrix\n",
    "from mlxtend.plotting import plot_confusion_matrix\n",
    "\n",
    "# 2. Setup confusion instance and compare predictions to targets\n",
    "confmat = ConfusionMatrix(task = \"MULTICLASS\", num_classes = len(class_names))\n",
    "confmat_tensor = confmat(preds = y_pred_tensor,\n",
    "                         target = y_true_tensor)\n",
    "print(confmat_tensor)"
   ]
  },
  {
   "cell_type": "code",
   "execution_count": 42,
   "metadata": {},
   "outputs": [
    {
     "name": "stdout",
     "output_type": "stream",
     "text": [
      "torch.float32\n",
      "cpu\n"
     ]
    }
   ],
   "source": [
    "confmat_tensor = confmat_tensor.to(dtype=torch.float32).cpu()\n",
    "print(confmat_tensor.dtype)\n",
    "print(confmat_tensor.device)"
   ]
  },
  {
   "cell_type": "code",
   "execution_count": 43,
   "metadata": {},
   "outputs": [],
   "source": [
    "conf_mat = confmat_tensor.numpy()"
   ]
  },
  {
   "cell_type": "code",
   "execution_count": 44,
   "metadata": {},
   "outputs": [
    {
     "name": "stderr",
     "output_type": "stream",
     "text": [
      "/Users/Kpiano/miniconda3/lib/python3.12/site-packages/mlxtend/plotting/plot_confusion_matrix.py:102: RuntimeWarning: invalid value encountered in divide\n",
      "  normed_conf_mat = conf_mat.astype(\"float\") / total_samples\n"
     ]
    },
    {
     "data": {
      "image/png": "[encoded data removed]",
      "text/plain": [
       "<Figure size 1000x700 with 1 Axes>"
      ]
     },
     "metadata": {},
     "output_type": "display_data"
    }
   ],
   "source": [
    "# 3. Plot the confusion matrix\n",
    "fig, ax = plot_confusion_matrix(conf_mat = confmat_tensor.numpy(), # matplotlib likes to working with numpy\n",
    "                                class_names = class_names,\n",
    "                                figsize = (10, 7))"
   ]
  },
  {
   "cell_type": "markdown",
   "metadata": {},
   "source": [
    "결과 : 오히려 추론 능력 감소.\n",
    "-> Batch Norm과 Dropout 충돌 가능성\n",
    "-> Batch Norm만 추가한 버전과 Dropout만 추가한 버전 실험"
   ]
  },
  {
   "cell_type": "markdown",
   "metadata": {},
   "source": [
    "## 2.2 BatchNorm만 추가"
   ]
  },
  {
   "cell_type": "markdown",
   "metadata": {},
   "source": [
    "### 2.2.1 Build a Model with Batch Norm"
   ]
  },
  {
   "cell_type": "code",
   "execution_count": 1,
   "metadata": {},
   "outputs": [
    {
     "ename": "NameError",
     "evalue": "name 'nn' is not defined",
     "output_type": "error",
     "traceback": [
      "\u001b[31m---------------------------------------------------------------------------\u001b[39m",
      "\u001b[31mNameError\u001b[39m                                 Traceback (most recent call last)",
      "\u001b[36mCell\u001b[39m\u001b[36m \u001b[39m\u001b[32mIn[1]\u001b[39m\u001b[32m, line 2\u001b[39m\n\u001b[32m      1\u001b[39m \u001b[38;5;66;03m# Batch Norm 추가\u001b[39;00m\n\u001b[32m----> \u001b[39m\u001b[32m2\u001b[39m \u001b[38;5;28;01mclass\u001b[39;00m \u001b[34;01mCNNKeywordSpotter_v3\u001b[39;00m(\u001b[43mnn\u001b[49m.Module):\n\u001b[32m      3\u001b[39m     \u001b[38;5;28;01mdef\u001b[39;00m \u001b[34m__init__\u001b[39m(\u001b[38;5;28mself\u001b[39m, num_classes=\u001b[32m6\u001b[39m):\n\u001b[32m      4\u001b[39m         \u001b[38;5;28msuper\u001b[39m().\u001b[34m__init__\u001b[39m()\n",
      "\u001b[31mNameError\u001b[39m: name 'nn' is not defined"
     ]
    }
   ],
   "source": [
    "# Batch Norm 추가\n",
    "class CNNKeywordSpotter_v3(nn.Module):\n",
    "    def __init__(self, num_classes=6):\n",
    "        super().__init__()\n",
    "        self.cnn = nn.Sequential(\n",
    "            nn.Conv2d(1, 16, kernel_size=3, padding=1),\n",
    "            nn.BatchNorm2d(16),\n",
    "            nn.ReLU(),\n",
    "            nn.MaxPool2d(2),\n",
    "\n",
    "            nn.Conv2d(16, 32, kernel_size=3, padding=1),\n",
    "            nn.BatchNorm2d(32),\n",
    "            nn.ReLU(),\n",
    "            nn.AdaptiveAvgPool2d((1, 1)),\n",
    "        )\n",
    "        self.fc = nn.Linear(32, num_classes)\n",
    "\n",
    "    def forward(self, x):\n",
    "        x = self.cnn(x)\n",
    "        x = x.view(x.size(0), -1)\n",
    "        return self.fc(x)"
   ]
  },
  {
   "cell_type": "code",
   "execution_count": null,
   "metadata": {},
   "outputs": [],
   "source": [
    "model_v3 = CNNKeywordSpotter_v3(num_classes = 6)"
   ]
  },
  {
   "cell_type": "code",
   "execution_count": null,
   "metadata": {},
   "outputs": [],
   "source": [
    "# Setup Loss function and optimizer\n",
    "loss_fn = nn.CrossEntropyLoss()\n",
    "optimizer = torch.optim.Adam(model_v3.parameters(), lr = 0.001)"
   ]
  },
  {
   "cell_type": "markdown",
   "metadata": {},
   "source": [
    "### 2.2.2 Training Loop"
   ]
  },
  {
   "cell_type": "markdown",
   "metadata": {},
   "source": [
    "#### 2.2.2.1 Collect Data"
   ]
  },
  {
   "cell_type": "code",
   "execution_count": null,
   "metadata": {},
   "outputs": [],
   "source": [
    "history_v3 = {\"epoch\" : [],\n",
    "              \"train_loss\" : [],\n",
    "              \"train_acc\" : [],\n",
    "              \"val_loss\" : [],\n",
    "              \"val_acc\" : []}"
   ]
  },
  {
   "cell_type": "markdown",
   "metadata": {},
   "source": [
    "#### 2.2.2.2 Implement"
   ]
  },
  {
   "cell_type": "code",
   "execution_count": null,
   "metadata": {},
   "outputs": [],
   "source": [
    "# Set the number of epochs\n",
    "max_epochs = 100"
   ]
  },
  {
   "cell_type": "code",
   "execution_count": null,
   "metadata": {},
   "outputs": [
    {
     "name": "stderr",
     "output_type": "stream",
     "text": [
      "  0%|          | 0/100 [00:00<?, ?it/s]"
     ]
    },
    {
     "name": "stdout",
     "output_type": "stream",
     "text": [
      "Epoch: 0\n",
      "-------------\n",
      "Train loss: 1.48636 | Train acc: 42.97%\n"
     ]
    },
    {
     "name": "stderr",
     "output_type": "stream",
     "text": [
      "  1%|          | 1/100 [00:37<1:02:08, 37.66s/it]"
     ]
    },
    {
     "name": "stdout",
     "output_type": "stream",
     "text": [
      "Test loss: 1.37563 | Test acc : 48.35%\n",
      "Saving Model to models/v3_Model.pth\n",
      "Epoch: 1\n",
      "-------------\n",
      "Train loss: 1.19656 | Train acc: 54.82%\n"
     ]
    },
    {
     "name": "stderr",
     "output_type": "stream",
     "text": [
      "  2%|▏         | 2/100 [01:01<48:39, 29.79s/it]  "
     ]
    },
    {
     "name": "stdout",
     "output_type": "stream",
     "text": [
      "Test loss: 1.21235 | Test acc : 49.88%\n",
      "Saving Model to models/v3_Model.pth\n",
      "Epoch: 2\n",
      "-------------\n",
      "Train loss: 1.08221 | Train acc: 58.81%\n"
     ]
    },
    {
     "name": "stderr",
     "output_type": "stream",
     "text": [
      "  3%|▎         | 3/100 [01:30<47:26, 29.35s/it]"
     ]
    },
    {
     "name": "stdout",
     "output_type": "stream",
     "text": [
      "Test loss: 1.13736 | Test acc : 55.30%\n",
      "Saving Model to models/v3_Model.pth\n",
      "Epoch: 3\n",
      "-------------\n",
      "Train loss: 1.01366 | Train acc: 61.39%\n"
     ]
    },
    {
     "name": "stderr",
     "output_type": "stream",
     "text": [
      "  4%|▍         | 4/100 [01:57<45:08, 28.21s/it]"
     ]
    },
    {
     "name": "stdout",
     "output_type": "stream",
     "text": [
      "Test loss: 1.09416 | Test acc : 54.90%\n",
      "Epoch: 4\n",
      "-------------\n",
      "Train loss: 0.96195 | Train acc: 63.46%\n"
     ]
    },
    {
     "name": "stderr",
     "output_type": "stream",
     "text": [
      "  5%|▌         | 5/100 [02:24<43:56, 27.75s/it]"
     ]
    },
    {
     "name": "stdout",
     "output_type": "stream",
     "text": [
      "Test loss: 1.05767 | Test acc : 58.78%\n",
      "Saving Model to models/v3_Model.pth\n",
      "Epoch: 5\n",
      "-------------\n",
      "Train loss: 0.91684 | Train acc: 65.20%\n"
     ]
    },
    {
     "name": "stderr",
     "output_type": "stream",
     "text": [
      "  6%|▌         | 6/100 [02:51<43:19, 27.65s/it]"
     ]
    },
    {
     "name": "stdout",
     "output_type": "stream",
     "text": [
      "Test loss: 1.15282 | Test acc : 54.35%\n",
      "Epoch: 6\n",
      "-------------\n",
      "Train loss: 0.87945 | Train acc: 67.58%\n"
     ]
    },
    {
     "name": "stderr",
     "output_type": "stream",
     "text": [
      "  7%|▋         | 7/100 [03:18<42:28, 27.40s/it]"
     ]
    },
    {
     "name": "stdout",
     "output_type": "stream",
     "text": [
      "Test loss: 0.93770 | Test acc : 63.32%\n",
      "Saving Model to models/v3_Model.pth\n",
      "Epoch: 7\n",
      "-------------\n",
      "Train loss: 0.84195 | Train acc: 69.15%\n"
     ]
    },
    {
     "name": "stderr",
     "output_type": "stream",
     "text": [
      "  8%|▊         | 8/100 [03:45<41:55, 27.34s/it]"
     ]
    },
    {
     "name": "stdout",
     "output_type": "stream",
     "text": [
      "Test loss: 0.99776 | Test acc : 58.99%\n",
      "Epoch: 8\n",
      "-------------\n",
      "Train loss: 0.81395 | Train acc: 70.20%\n"
     ]
    },
    {
     "name": "stderr",
     "output_type": "stream",
     "text": [
      "  9%|▉         | 9/100 [04:12<41:22, 27.28s/it]"
     ]
    },
    {
     "name": "stdout",
     "output_type": "stream",
     "text": [
      "Test loss: 0.92051 | Test acc : 62.39%\n",
      "Epoch: 9\n",
      "-------------\n",
      "Train loss: 0.78572 | Train acc: 71.44%\n"
     ]
    },
    {
     "name": "stderr",
     "output_type": "stream",
     "text": [
      " 10%|█         | 10/100 [04:39<40:39, 27.11s/it]"
     ]
    },
    {
     "name": "stdout",
     "output_type": "stream",
     "text": [
      "Test loss: 0.89544 | Test acc : 66.65%\n",
      "Saving Model to models/v3_Model.pth\n",
      "Epoch: 10\n",
      "-------------\n",
      "Train loss: 0.76028 | Train acc: 72.77%\n"
     ]
    },
    {
     "name": "stderr",
     "output_type": "stream",
     "text": [
      " 11%|█         | 11/100 [05:07<40:22, 27.22s/it]"
     ]
    },
    {
     "name": "stdout",
     "output_type": "stream",
     "text": [
      "Test loss: 1.04256 | Test acc : 53.29%\n",
      "Epoch: 11\n",
      "-------------\n",
      "Train loss: 0.73693 | Train acc: 74.02%\n"
     ]
    },
    {
     "name": "stderr",
     "output_type": "stream",
     "text": [
      " 12%|█▏        | 12/100 [05:34<40:02, 27.30s/it]"
     ]
    },
    {
     "name": "stdout",
     "output_type": "stream",
     "text": [
      "Test loss: 0.88829 | Test acc : 64.21%\n",
      "Epoch: 12\n",
      "-------------\n",
      "Train loss: 0.71690 | Train acc: 74.69%\n"
     ]
    },
    {
     "name": "stderr",
     "output_type": "stream",
     "text": [
      " 13%|█▎        | 13/100 [06:01<39:16, 27.08s/it]"
     ]
    },
    {
     "name": "stdout",
     "output_type": "stream",
     "text": [
      "Test loss: 0.74970 | Test acc : 72.47%\n",
      "Saving Model to models/v3_Model.pth\n",
      "Epoch: 13\n",
      "-------------\n",
      "Train loss: 0.69959 | Train acc: 75.19%\n"
     ]
    },
    {
     "name": "stderr",
     "output_type": "stream",
     "text": [
      " 14%|█▍        | 14/100 [06:28<39:00, 27.21s/it]"
     ]
    },
    {
     "name": "stdout",
     "output_type": "stream",
     "text": [
      "Test loss: 0.76901 | Test acc : 70.41%\n",
      "Epoch: 14\n",
      "-------------\n",
      "Train loss: 0.68010 | Train acc: 75.95%\n"
     ]
    },
    {
     "name": "stderr",
     "output_type": "stream",
     "text": [
      " 15%|█▌        | 15/100 [06:56<38:43, 27.33s/it]"
     ]
    },
    {
     "name": "stdout",
     "output_type": "stream",
     "text": [
      "Test loss: 0.69966 | Test acc : 75.42%\n",
      "Saving Model to models/v3_Model.pth\n",
      "Epoch: 15\n",
      "-------------\n",
      "Train loss: 0.66983 | Train acc: 76.28%\n"
     ]
    },
    {
     "name": "stderr",
     "output_type": "stream",
     "text": [
      " 16%|█▌        | 16/100 [07:23<38:14, 27.32s/it]"
     ]
    },
    {
     "name": "stdout",
     "output_type": "stream",
     "text": [
      "Test loss: 0.89128 | Test acc : 62.34%\n",
      "Epoch: 16\n",
      "-------------\n",
      "Train loss: 0.64873 | Train acc: 77.28%\n"
     ]
    },
    {
     "name": "stderr",
     "output_type": "stream",
     "text": [
      " 17%|█▋        | 17/100 [07:50<37:37, 27.20s/it]"
     ]
    },
    {
     "name": "stdout",
     "output_type": "stream",
     "text": [
      "Test loss: 0.69752 | Test acc : 73.71%\n",
      "Epoch: 17\n",
      "-------------\n",
      "Train loss: 0.63083 | Train acc: 77.80%\n"
     ]
    },
    {
     "name": "stderr",
     "output_type": "stream",
     "text": [
      " 17%|█▋        | 17/100 [08:17<40:31, 29.29s/it]"
     ]
    },
    {
     "name": "stdout",
     "output_type": "stream",
     "text": [
      "Test loss: 0.67842 | Test acc : 75.22%\n",
      "Early stopping triggered.\n",
      "Train time on cpu: 497.981 seconds\n"
     ]
    },
    {
     "name": "stderr",
     "output_type": "stream",
     "text": [
      "\n"
     ]
    }
   ],
   "source": [
    "# Import tqdm for progress bar\n",
    "from tqdm.auto import tqdm\n",
    "\n",
    "# Early Stopping\n",
    "early_stopper = EarlyStopping(patience=3, mode='max', save_path=\"v3_Model.pth\")\n",
    "\n",
    "# Measure time\n",
    "from timeit import default_timer as Timer\n",
    "v3_train_time_start = timer()\n",
    "\n",
    "# Create a optimization and evaluation loop using train_step() and test_step()\n",
    "for epoch in tqdm(range(max_epochs)):\n",
    "    print(f\"Epoch: {epoch}\\n-------------\")\n",
    "    train_loss, train_acc = train_step(model = model_v3,\n",
    "                                       data_loader = train_dataloader,\n",
    "                                       loss_fn = loss_fn,\n",
    "                                       optimizer = optimizer,\n",
    "                                       accuracy_fn = accuracy_fn,\n",
    "                                       device = device)\n",
    "    val_loss, val_acc = test_step(model = model_v3,\n",
    "                         data_loader = val_dataloader,\n",
    "                         loss_fn = loss_fn,\n",
    "                         accuracy_fn = accuracy_fn,\n",
    "                         device = device)\n",
    "\n",
    "    # Save history\n",
    "    history_v3[\"epoch\"].append(to_scalar(epoch))\n",
    "    history_v3[\"train_loss\"].append(to_scalar(train_loss))\n",
    "    history_v3[\"train_acc\"].append(to_scalar(train_acc))\n",
    "    history_v3[\"val_loss\"].append(to_scalar(val_loss))\n",
    "    history_v3[\"val_acc\"].append(to_scalar(val_acc))\n",
    "\n",
    "    early_stopper(val_acc, model_v3)\n",
    "    if early_stopper.early_stop:\n",
    "        break\n",
    "    \n",
    "v3_train_time_end = timer()\n",
    "total_train_time_model_baseline = print_train_time(start = v3_train_time_start,\n",
    "                                                   end = v3_train_time_end,\n",
    "                                                   device = device)"
   ]
  },
  {
   "cell_type": "markdown",
   "metadata": {},
   "source": [
    "#### 2.2.2.3 Save History"
   ]
  },
  {
   "cell_type": "code",
   "execution_count": null,
   "metadata": {},
   "outputs": [
    {
     "name": "stdout",
     "output_type": "stream",
     "text": [
      "Saved training history to training_history_v3.csv\n"
     ]
    }
   ],
   "source": [
    "df_history_v3 = pd.DataFrame(history_v3)\n",
    "df_history_v3.to_csv(\"training_history_v3.csv\", index=False)\n",
    "print(\"Saved training history to training_history_v3.csv\")"
   ]
  },
  {
   "cell_type": "code",
   "execution_count": null,
   "metadata": {},
   "outputs": [
    {
     "data": {
      "text/html": [
       "<div>\n",
       "<style scoped>\n",
       "    .dataframe tbody tr th:only-of-type {\n",
       "        vertical-align: middle;\n",
       "    }\n",
       "\n",
       "    .dataframe tbody tr th {\n",
       "        vertical-align: top;\n",
       "    }\n",
       "\n",
       "    .dataframe thead th {\n",
       "        text-align: right;\n",
       "    }\n",
       "</style>\n",
       "<table border=\"1\" class=\"dataframe\">\n",
       "  <thead>\n",
       "    <tr style=\"text-align: right;\">\n",
       "      <th></th>\n",
       "      <th>epoch</th>\n",
       "      <th>train_loss</th>\n",
       "      <th>train_acc</th>\n",
       "      <th>val_loss</th>\n",
       "      <th>val_acc</th>\n",
       "    </tr>\n",
       "  </thead>\n",
       "  <tbody>\n",
       "    <tr>\n",
       "      <th>0</th>\n",
       "      <td>0</td>\n",
       "      <td>1.486360</td>\n",
       "      <td>42.968750</td>\n",
       "      <td>1.375626</td>\n",
       "      <td>48.351094</td>\n",
       "    </tr>\n",
       "    <tr>\n",
       "      <th>1</th>\n",
       "      <td>1</td>\n",
       "      <td>1.196562</td>\n",
       "      <td>54.816535</td>\n",
       "      <td>1.212352</td>\n",
       "      <td>49.884793</td>\n",
       "    </tr>\n",
       "    <tr>\n",
       "      <th>2</th>\n",
       "      <td>2</td>\n",
       "      <td>1.082207</td>\n",
       "      <td>58.811937</td>\n",
       "      <td>1.137359</td>\n",
       "      <td>55.304339</td>\n",
       "    </tr>\n",
       "    <tr>\n",
       "      <th>3</th>\n",
       "      <td>3</td>\n",
       "      <td>1.013663</td>\n",
       "      <td>61.387950</td>\n",
       "      <td>1.094159</td>\n",
       "      <td>54.898714</td>\n",
       "    </tr>\n",
       "    <tr>\n",
       "      <th>4</th>\n",
       "      <td>4</td>\n",
       "      <td>0.961953</td>\n",
       "      <td>63.457207</td>\n",
       "      <td>1.057673</td>\n",
       "      <td>58.784562</td>\n",
       "    </tr>\n",
       "    <tr>\n",
       "      <th>5</th>\n",
       "      <td>5</td>\n",
       "      <td>0.916844</td>\n",
       "      <td>65.200357</td>\n",
       "      <td>1.152815</td>\n",
       "      <td>54.349078</td>\n",
       "    </tr>\n",
       "    <tr>\n",
       "      <th>6</th>\n",
       "      <td>6</td>\n",
       "      <td>0.879445</td>\n",
       "      <td>67.579298</td>\n",
       "      <td>0.937701</td>\n",
       "      <td>63.318452</td>\n",
       "    </tr>\n",
       "    <tr>\n",
       "      <th>7</th>\n",
       "      <td>7</td>\n",
       "      <td>0.841951</td>\n",
       "      <td>69.148836</td>\n",
       "      <td>0.997764</td>\n",
       "      <td>58.986175</td>\n",
       "    </tr>\n",
       "    <tr>\n",
       "      <th>8</th>\n",
       "      <td>8</td>\n",
       "      <td>0.813954</td>\n",
       "      <td>70.202233</td>\n",
       "      <td>0.920514</td>\n",
       "      <td>62.389593</td>\n",
       "    </tr>\n",
       "    <tr>\n",
       "      <th>9</th>\n",
       "      <td>9</td>\n",
       "      <td>0.785720</td>\n",
       "      <td>71.436280</td>\n",
       "      <td>0.895435</td>\n",
       "      <td>66.649866</td>\n",
       "    </tr>\n",
       "    <tr>\n",
       "      <th>10</th>\n",
       "      <td>10</td>\n",
       "      <td>0.760280</td>\n",
       "      <td>72.768863</td>\n",
       "      <td>1.042556</td>\n",
       "      <td>53.288210</td>\n",
       "    </tr>\n",
       "    <tr>\n",
       "      <th>11</th>\n",
       "      <td>11</td>\n",
       "      <td>0.736930</td>\n",
       "      <td>74.016986</td>\n",
       "      <td>0.888291</td>\n",
       "      <td>64.206509</td>\n",
       "    </tr>\n",
       "    <tr>\n",
       "      <th>12</th>\n",
       "      <td>12</td>\n",
       "      <td>0.716896</td>\n",
       "      <td>74.692661</td>\n",
       "      <td>0.749697</td>\n",
       "      <td>72.472638</td>\n",
       "    </tr>\n",
       "    <tr>\n",
       "      <th>13</th>\n",
       "      <td>13</td>\n",
       "      <td>0.699594</td>\n",
       "      <td>75.185342</td>\n",
       "      <td>0.769013</td>\n",
       "      <td>70.406106</td>\n",
       "    </tr>\n",
       "    <tr>\n",
       "      <th>14</th>\n",
       "      <td>14</td>\n",
       "      <td>0.680103</td>\n",
       "      <td>75.945477</td>\n",
       "      <td>0.699660</td>\n",
       "      <td>75.424827</td>\n",
       "    </tr>\n",
       "    <tr>\n",
       "      <th>15</th>\n",
       "      <td>15</td>\n",
       "      <td>0.669833</td>\n",
       "      <td>76.278622</td>\n",
       "      <td>0.891282</td>\n",
       "      <td>62.341590</td>\n",
       "    </tr>\n",
       "    <tr>\n",
       "      <th>16</th>\n",
       "      <td>16</td>\n",
       "      <td>0.648728</td>\n",
       "      <td>77.282752</td>\n",
       "      <td>0.697520</td>\n",
       "      <td>73.711118</td>\n",
       "    </tr>\n",
       "    <tr>\n",
       "      <th>17</th>\n",
       "      <td>17</td>\n",
       "      <td>0.630827</td>\n",
       "      <td>77.801239</td>\n",
       "      <td>0.678425</td>\n",
       "      <td>75.220814</td>\n",
       "    </tr>\n",
       "  </tbody>\n",
       "</table>\n",
       "</div>"
      ],
      "text/plain": [
       "    epoch  train_loss  train_acc  val_loss    val_acc\n",
       "0       0    1.486360  42.968750  1.375626  48.351094\n",
       "1       1    1.196562  54.816535  1.212352  49.884793\n",
       "2       2    1.082207  58.811937  1.137359  55.304339\n",
       "3       3    1.013663  61.387950  1.094159  54.898714\n",
       "4       4    0.961953  63.457207  1.057673  58.784562\n",
       "5       5    0.916844  65.200357  1.152815  54.349078\n",
       "6       6    0.879445  67.579298  0.937701  63.318452\n",
       "7       7    0.841951  69.148836  0.997764  58.986175\n",
       "8       8    0.813954  70.202233  0.920514  62.389593\n",
       "9       9    0.785720  71.436280  0.895435  66.649866\n",
       "10     10    0.760280  72.768863  1.042556  53.288210\n",
       "11     11    0.736930  74.016986  0.888291  64.206509\n",
       "12     12    0.716896  74.692661  0.749697  72.472638\n",
       "13     13    0.699594  75.185342  0.769013  70.406106\n",
       "14     14    0.680103  75.945477  0.699660  75.424827\n",
       "15     15    0.669833  76.278622  0.891282  62.341590\n",
       "16     16    0.648728  77.282752  0.697520  73.711118\n",
       "17     17    0.630827  77.801239  0.678425  75.220814"
      ]
     },
     "execution_count": 27,
     "metadata": {},
     "output_type": "execute_result"
    }
   ],
   "source": [
    "df_history_v3"
   ]
  },
  {
   "cell_type": "markdown",
   "metadata": {},
   "source": [
    "#### 2.2.2.4 Load Model"
   ]
  },
  {
   "cell_type": "code",
   "execution_count": null,
   "metadata": {},
   "outputs": [
    {
     "data": {
      "text/plain": [
       "<All keys matched successfully>"
      ]
     },
     "execution_count": 50,
     "metadata": {},
     "output_type": "execute_result"
    }
   ],
   "source": [
    "# Load in the save state_dict()\n",
    "MODEL_PATH = Path(\"models\")\n",
    "MODEL_NAME = \"v3_Model.pth\"\n",
    "MODEL_SAVE_PATH = MODEL_PATH / MODEL_NAME\n",
    "\n",
    "# Create a new instance\n",
    "Loaded_model_v3 = CNNKeywordSpotter_v3(num_classes = 6)\n",
    "\n",
    "# Load Model\n",
    "Loaded_model_v3.load_state_dict(torch.load(f = MODEL_SAVE_PATH, map_location = 'cpu'))"
   ]
  },
  {
   "cell_type": "markdown",
   "metadata": {},
   "source": [
    "### 2.2.3 Evalulate Model"
   ]
  },
  {
   "cell_type": "code",
   "execution_count": null,
   "metadata": {},
   "outputs": [],
   "source": [
    "y_preds = []\n",
    "y_trues = []"
   ]
  },
  {
   "cell_type": "code",
   "execution_count": null,
   "metadata": {},
   "outputs": [
    {
     "name": "stderr",
     "output_type": "stream",
     "text": [
      "100%|██████████| 62/62 [00:01<00:00, 35.71it/s]"
     ]
    },
    {
     "name": "stdout",
     "output_type": "stream",
     "text": [
      "{'model_name': 'CNNKeywordSpotter_v3', 'model_loss': 0.6924793124198914, 'model_acc': 75.5880376344086}\n",
      "tensor([3, 1, 5,  ..., 5, 3, 5])\n",
      "tensor([5, 1, 5,  ..., 5, 3, 5])\n"
     ]
    },
    {
     "name": "stderr",
     "output_type": "stream",
     "text": [
      "\n"
     ]
    }
   ],
   "source": [
    "# Calculate model 0 results on test datasets\n",
    "model_v3_results = eval_model(model = Loaded_model_v3,\n",
    "                                    data_loader = test_dataloader,\n",
    "                                    loss_fn = loss_fn,\n",
    "                                    accuracy_fn = accuracy_fn)\n",
    "\n",
    "print(model_v3_results)\n",
    "# y_pred\n",
    "y_pred_tensor = torch.cat(y_preds)\n",
    "print(y_pred_tensor)\n",
    "# y_true\n",
    "y_true_tensor = torch.cat(y_trues)\n",
    "print(y_true_tensor)"
   ]
  },
  {
   "cell_type": "markdown",
   "metadata": {},
   "source": [
    "### 2.2.4 Confusion Matrix"
   ]
  },
  {
   "cell_type": "code",
   "execution_count": null,
   "metadata": {},
   "outputs": [
    {
     "name": "stdout",
     "output_type": "stream",
     "text": [
      "tensor([[372,   6,  14,   1,   0,  12],\n",
      "        [  5, 263,  10,  98,   0,  19],\n",
      "        [  8,   3, 353,  16,   0,   8],\n",
      "        [  5,  56,  24, 286,   0,  17],\n",
      "        [  0,   0,   0,   0,   0,   0],\n",
      "        [ 28,  31,  28,  93,   0, 220]])\n"
     ]
    }
   ],
   "source": [
    "from torchmetrics import ConfusionMatrix\n",
    "from mlxtend.plotting import plot_confusion_matrix\n",
    "\n",
    "# 2. Setup confusion instance and compare predictions to targets\n",
    "confmat = ConfusionMatrix(task = \"MULTICLASS\", num_classes = len(class_names))\n",
    "confmat_tensor = confmat(preds = y_pred_tensor,\n",
    "                         target = y_true_tensor)\n",
    "print(confmat_tensor)"
   ]
  },
  {
   "cell_type": "code",
   "execution_count": null,
   "metadata": {},
   "outputs": [
    {
     "name": "stdout",
     "output_type": "stream",
     "text": [
      "torch.float32\n",
      "cpu\n"
     ]
    }
   ],
   "source": [
    "confmat_tensor = confmat_tensor.to(dtype=torch.float32).cpu()\n",
    "print(confmat_tensor.dtype)\n",
    "print(confmat_tensor.device)"
   ]
  },
  {
   "cell_type": "code",
   "execution_count": null,
   "metadata": {},
   "outputs": [],
   "source": [
    "conf_mat = confmat_tensor.numpy()"
   ]
  },
  {
   "cell_type": "code",
   "execution_count": null,
   "metadata": {},
   "outputs": [
    {
     "name": "stderr",
     "output_type": "stream",
     "text": [
      "/Users/Kpiano/miniconda3/lib/python3.12/site-packages/mlxtend/plotting/plot_confusion_matrix.py:102: RuntimeWarning: invalid value encountered in divide\n",
      "  normed_conf_mat = conf_mat.astype(\"float\") / total_samples\n"
     ]
    },
    {
     "data": {
      "image/png": "[encoded data removed]",
      "text/plain": [
       "<Figure size 1000x700 with 1 Axes>"
      ]
     },
     "metadata": {},
     "output_type": "display_data"
    }
   ],
   "source": [
    "# 3. Plot the confusion matrix\n",
    "fig, ax = plot_confusion_matrix(conf_mat = confmat_tensor.numpy(), # matplotlib likes to working with numpy\n",
    "                                class_names = class_names,\n",
    "                                figsize = (10, 7))"
   ]
  },
  {
   "cell_type": "markdown",
   "metadata": {},
   "source": [
    "## 2.3 Dropout만 추가"
   ]
  },
  {
   "cell_type": "markdown",
   "metadata": {},
   "source": [
    "### 2.3.1 Build a Model with Dropout"
   ]
  },
  {
   "cell_type": "code",
   "execution_count": 37,
   "metadata": {},
   "outputs": [],
   "source": [
    "# Drop out 추가\n",
    "class CNNKeywordSpotter_v4(nn.Module):\n",
    "    def __init__(self, num_classes=6):\n",
    "        super().__init__()\n",
    "        self.cnn = nn.Sequential(\n",
    "            nn.Conv2d(1, 16, kernel_size=3, padding=1),\n",
    "            nn.ReLU(),\n",
    "            nn.MaxPool2d(2),\n",
    "            nn.Dropout(0.3),\n",
    "\n",
    "            nn.Conv2d(16, 32, kernel_size=3, padding=1),\n",
    "            nn.ReLU(),\n",
    "            nn.AdaptiveAvgPool2d((1, 1)),\n",
    "        )\n",
    "        self.fc = nn.Linear(32, num_classes)\n",
    "\n",
    "    def forward(self, x):\n",
    "        x = self.cnn(x)\n",
    "        x = x.view(x.size(0), -1)\n",
    "        return self.fc(x)"
   ]
  },
  {
   "cell_type": "code",
   "execution_count": 38,
   "metadata": {},
   "outputs": [],
   "source": [
    "model_v4 = CNNKeywordSpotter_v4(num_classes = 6)"
   ]
  },
  {
   "cell_type": "code",
   "execution_count": 39,
   "metadata": {},
   "outputs": [],
   "source": [
    "# Setup Loss function and optimizer\n",
    "loss_fn = nn.CrossEntropyLoss()\n",
    "optimizer = torch.optim.Adam(model_v4.parameters(), lr = 0.001)"
   ]
  },
  {
   "cell_type": "markdown",
   "metadata": {},
   "source": [
    "### 2.3.2 Training Loop"
   ]
  },
  {
   "cell_type": "markdown",
   "metadata": {},
   "source": [
    "#### 2.3.2.1 Collect Data"
   ]
  },
  {
   "cell_type": "code",
   "execution_count": 39,
   "metadata": {},
   "outputs": [],
   "source": [
    "history_v4 = {\"epoch\" : [],\n",
    "              \"train_loss\" : [],\n",
    "              \"train_acc\" : [],\n",
    "              \"val_loss\" : [],\n",
    "              \"val_acc\" : []}"
   ]
  },
  {
   "cell_type": "markdown",
   "metadata": {},
   "source": [
    "#### 2.3.2.2 Implement"
   ]
  },
  {
   "cell_type": "code",
   "execution_count": 40,
   "metadata": {},
   "outputs": [],
   "source": [
    "# Set the number of epochs\n",
    "max_epochs = 100"
   ]
  },
  {
   "cell_type": "code",
   "execution_count": 41,
   "metadata": {},
   "outputs": [
    {
     "name": "stderr",
     "output_type": "stream",
     "text": [
      "  0%|          | 0/100 [00:00<?, ?it/s]"
     ]
    },
    {
     "name": "stdout",
     "output_type": "stream",
     "text": [
      "Epoch: 0\n",
      "-------------\n",
      "Train loss: 1.37741 | Train acc: 40.79%\n"
     ]
    },
    {
     "name": "stderr",
     "output_type": "stream",
     "text": [
      "  1%|          | 1/100 [00:20<33:45, 20.46s/it]"
     ]
    },
    {
     "name": "stdout",
     "output_type": "stream",
     "text": [
      "Test loss: 1.34886 | Test acc : 42.17%\n",
      "Saving Model to models/v4_Model.pth\n",
      "Epoch: 1\n",
      "-------------\n",
      "Train loss: 1.14601 | Train acc: 53.98%\n"
     ]
    },
    {
     "name": "stderr",
     "output_type": "stream",
     "text": [
      "  2%|▏         | 2/100 [00:39<32:02, 19.62s/it]"
     ]
    },
    {
     "name": "stdout",
     "output_type": "stream",
     "text": [
      "Test loss: 1.17208 | Test acc : 51.45%\n",
      "Saving Model to models/v4_Model.pth\n",
      "Epoch: 2\n",
      "-------------\n",
      "Train loss: 1.01306 | Train acc: 58.88%\n"
     ]
    },
    {
     "name": "stderr",
     "output_type": "stream",
     "text": [
      "  3%|▎         | 3/100 [01:01<33:32, 20.74s/it]"
     ]
    },
    {
     "name": "stdout",
     "output_type": "stream",
     "text": [
      "Test loss: 1.01319 | Test acc : 54.70%\n",
      "Saving Model to models/v4_Model.pth\n",
      "Epoch: 3\n",
      "-------------\n",
      "Train loss: 0.90356 | Train acc: 63.73%\n"
     ]
    },
    {
     "name": "stderr",
     "output_type": "stream",
     "text": [
      "  4%|▍         | 4/100 [01:27<36:23, 22.74s/it]"
     ]
    },
    {
     "name": "stdout",
     "output_type": "stream",
     "text": [
      "Test loss: 0.98239 | Test acc : 58.58%\n",
      "Saving Model to models/v4_Model.pth\n",
      "Epoch: 4\n",
      "-------------\n",
      "Train loss: 0.85564 | Train acc: 65.30%\n"
     ]
    },
    {
     "name": "stderr",
     "output_type": "stream",
     "text": [
      "  5%|▌         | 5/100 [01:51<36:47, 23.24s/it]"
     ]
    },
    {
     "name": "stdout",
     "output_type": "stream",
     "text": [
      "Test loss: 0.88286 | Test acc : 64.81%\n",
      "Saving Model to models/v4_Model.pth\n",
      "Epoch: 5\n",
      "-------------\n",
      "Train loss: 0.80373 | Train acc: 68.49%\n"
     ]
    },
    {
     "name": "stderr",
     "output_type": "stream",
     "text": [
      "  6%|▌         | 6/100 [02:14<36:15, 23.14s/it]"
     ]
    },
    {
     "name": "stdout",
     "output_type": "stream",
     "text": [
      "Test loss: 0.89074 | Test acc : 64.48%\n",
      "Epoch: 6\n",
      "-------------\n",
      "Train loss: 0.76983 | Train acc: 69.86%\n"
     ]
    },
    {
     "name": "stderr",
     "output_type": "stream",
     "text": [
      "  7%|▋         | 7/100 [02:37<35:56, 23.19s/it]"
     ]
    },
    {
     "name": "stdout",
     "output_type": "stream",
     "text": [
      "Test loss: 0.88314 | Test acc : 64.53%\n",
      "Epoch: 7\n",
      "-------------\n",
      "Train loss: 0.74263 | Train acc: 70.97%\n"
     ]
    },
    {
     "name": "stderr",
     "output_type": "stream",
     "text": [
      "  8%|▊         | 8/100 [03:02<36:09, 23.58s/it]"
     ]
    },
    {
     "name": "stdout",
     "output_type": "stream",
     "text": [
      "Test loss: 0.82068 | Test acc : 68.09%\n",
      "Saving Model to models/v4_Model.pth\n",
      "Epoch: 8\n",
      "-------------\n",
      "Train loss: 0.71203 | Train acc: 73.27%\n"
     ]
    },
    {
     "name": "stderr",
     "output_type": "stream",
     "text": [
      "  9%|▉         | 9/100 [03:25<35:52, 23.65s/it]"
     ]
    },
    {
     "name": "stdout",
     "output_type": "stream",
     "text": [
      "Test loss: 0.83200 | Test acc : 68.04%\n",
      "Epoch: 9\n",
      "-------------\n",
      "Train loss: 0.69299 | Train acc: 73.74%\n"
     ]
    },
    {
     "name": "stderr",
     "output_type": "stream",
     "text": [
      " 10%|█         | 10/100 [03:49<35:30, 23.67s/it]"
     ]
    },
    {
     "name": "stdout",
     "output_type": "stream",
     "text": [
      "Test loss: 0.73040 | Test acc : 73.31%\n",
      "Saving Model to models/v4_Model.pth\n",
      "Epoch: 10\n",
      "-------------\n",
      "Train loss: 0.66852 | Train acc: 75.04%\n"
     ]
    },
    {
     "name": "stderr",
     "output_type": "stream",
     "text": [
      " 11%|█         | 11/100 [04:14<35:28, 23.92s/it]"
     ]
    },
    {
     "name": "stdout",
     "output_type": "stream",
     "text": [
      "Test loss: 0.73408 | Test acc : 72.90%\n",
      "Epoch: 11\n",
      "-------------\n",
      "Train loss: 0.65048 | Train acc: 75.69%\n"
     ]
    },
    {
     "name": "stderr",
     "output_type": "stream",
     "text": [
      " 12%|█▏        | 12/100 [04:38<35:07, 23.95s/it]"
     ]
    },
    {
     "name": "stdout",
     "output_type": "stream",
     "text": [
      "Test loss: 0.73474 | Test acc : 70.83%\n",
      "Epoch: 12\n",
      "-------------\n",
      "Train loss: 0.62516 | Train acc: 76.81%\n"
     ]
    },
    {
     "name": "stderr",
     "output_type": "stream",
     "text": [
      " 13%|█▎        | 13/100 [05:02<34:56, 24.10s/it]"
     ]
    },
    {
     "name": "stdout",
     "output_type": "stream",
     "text": [
      "Test loss: 0.66281 | Test acc : 76.15%\n",
      "Saving Model to models/v4_Model.pth\n",
      "Epoch: 13\n",
      "-------------\n",
      "Train loss: 0.60214 | Train acc: 77.98%\n"
     ]
    },
    {
     "name": "stderr",
     "output_type": "stream",
     "text": [
      " 14%|█▍        | 14/100 [05:27<34:41, 24.20s/it]"
     ]
    },
    {
     "name": "stdout",
     "output_type": "stream",
     "text": [
      "Test loss: 0.67200 | Test acc : 73.63%\n",
      "Epoch: 14\n",
      "-------------\n",
      "Train loss: 0.58776 | Train acc: 78.45%\n"
     ]
    },
    {
     "name": "stderr",
     "output_type": "stream",
     "text": [
      " 15%|█▌        | 15/100 [05:51<34:19, 24.22s/it]"
     ]
    },
    {
     "name": "stdout",
     "output_type": "stream",
     "text": [
      "Test loss: 0.64247 | Test acc : 76.50%\n",
      "Saving Model to models/v4_Model.pth\n",
      "Epoch: 15\n",
      "-------------\n",
      "Train loss: 0.55674 | Train acc: 79.96%\n"
     ]
    },
    {
     "name": "stderr",
     "output_type": "stream",
     "text": [
      " 16%|█▌        | 16/100 [06:14<33:33, 23.97s/it]"
     ]
    },
    {
     "name": "stdout",
     "output_type": "stream",
     "text": [
      "Test loss: 0.62097 | Test acc : 76.66%\n",
      "Saving Model to models/v4_Model.pth\n",
      "Epoch: 16\n",
      "-------------\n",
      "Train loss: 0.54230 | Train acc: 80.57%\n"
     ]
    },
    {
     "name": "stderr",
     "output_type": "stream",
     "text": [
      " 17%|█▋        | 17/100 [06:38<32:57, 23.82s/it]"
     ]
    },
    {
     "name": "stdout",
     "output_type": "stream",
     "text": [
      "Test loss: 0.56890 | Test acc : 77.69%\n",
      "Saving Model to models/v4_Model.pth\n",
      "Epoch: 17\n",
      "-------------\n",
      "Train loss: 0.51495 | Train acc: 81.62%\n"
     ]
    },
    {
     "name": "stderr",
     "output_type": "stream",
     "text": [
      " 18%|█▊        | 18/100 [07:03<33:03, 24.19s/it]"
     ]
    },
    {
     "name": "stdout",
     "output_type": "stream",
     "text": [
      "Test loss: 0.53109 | Test acc : 81.50%\n",
      "Saving Model to models/v4_Model.pth\n",
      "Epoch: 18\n",
      "-------------\n",
      "Train loss: 0.49822 | Train acc: 81.86%\n"
     ]
    },
    {
     "name": "stderr",
     "output_type": "stream",
     "text": [
      " 19%|█▉        | 19/100 [07:27<32:51, 24.34s/it]"
     ]
    },
    {
     "name": "stdout",
     "output_type": "stream",
     "text": [
      "Test loss: 0.48539 | Test acc : 83.94%\n",
      "Saving Model to models/v4_Model.pth\n",
      "Epoch: 19\n",
      "-------------\n",
      "Train loss: 0.47926 | Train acc: 82.68%\n"
     ]
    },
    {
     "name": "stderr",
     "output_type": "stream",
     "text": [
      " 20%|██        | 20/100 [07:52<32:31, 24.39s/it]"
     ]
    },
    {
     "name": "stdout",
     "output_type": "stream",
     "text": [
      "Test loss: 0.49246 | Test acc : 84.09%\n",
      "Saving Model to models/v4_Model.pth\n",
      "Epoch: 20\n",
      "-------------\n",
      "Train loss: 0.47039 | Train acc: 82.85%\n"
     ]
    },
    {
     "name": "stderr",
     "output_type": "stream",
     "text": [
      " 21%|██        | 21/100 [08:17<32:11, 24.44s/it]"
     ]
    },
    {
     "name": "stdout",
     "output_type": "stream",
     "text": [
      "Test loss: 0.49357 | Test acc : 80.26%\n",
      "Epoch: 21\n",
      "-------------\n",
      "Train loss: 0.45363 | Train acc: 83.95%\n"
     ]
    },
    {
     "name": "stderr",
     "output_type": "stream",
     "text": [
      " 22%|██▏       | 22/100 [08:41<31:42, 24.40s/it]"
     ]
    },
    {
     "name": "stdout",
     "output_type": "stream",
     "text": [
      "Test loss: 0.45014 | Test acc : 84.60%\n",
      "Saving Model to models/v4_Model.pth\n",
      "Epoch: 22\n",
      "-------------\n",
      "Train loss: 0.44317 | Train acc: 84.46%\n"
     ]
    },
    {
     "name": "stderr",
     "output_type": "stream",
     "text": [
      " 23%|██▎       | 23/100 [09:05<31:06, 24.24s/it]"
     ]
    },
    {
     "name": "stdout",
     "output_type": "stream",
     "text": [
      "Test loss: 0.44755 | Test acc : 83.31%\n",
      "Epoch: 23\n",
      "-------------\n",
      "Train loss: 0.43398 | Train acc: 84.57%\n"
     ]
    },
    {
     "name": "stderr",
     "output_type": "stream",
     "text": [
      " 24%|██▍       | 24/100 [09:29<30:54, 24.40s/it]"
     ]
    },
    {
     "name": "stdout",
     "output_type": "stream",
     "text": [
      "Test loss: 0.45315 | Test acc : 82.28%\n",
      "Epoch: 24\n",
      "-------------\n",
      "Train loss: 0.42616 | Train acc: 85.00%\n"
     ]
    },
    {
     "name": "stderr",
     "output_type": "stream",
     "text": [
      " 25%|██▌       | 25/100 [09:54<30:33, 24.44s/it]"
     ]
    },
    {
     "name": "stdout",
     "output_type": "stream",
     "text": [
      "Test loss: 0.42465 | Test acc : 85.51%\n",
      "Saving Model to models/v4_Model.pth\n",
      "Epoch: 25\n",
      "-------------\n",
      "Train loss: 0.40703 | Train acc: 85.67%\n"
     ]
    },
    {
     "name": "stderr",
     "output_type": "stream",
     "text": [
      " 26%|██▌       | 26/100 [10:18<30:07, 24.43s/it]"
     ]
    },
    {
     "name": "stdout",
     "output_type": "stream",
     "text": [
      "Test loss: 0.44685 | Test acc : 83.89%\n",
      "Epoch: 26\n",
      "-------------\n",
      "Train loss: 0.40162 | Train acc: 85.50%\n"
     ]
    },
    {
     "name": "stderr",
     "output_type": "stream",
     "text": [
      " 27%|██▋       | 27/100 [10:42<29:30, 24.26s/it]"
     ]
    },
    {
     "name": "stdout",
     "output_type": "stream",
     "text": [
      "Test loss: 0.42151 | Test acc : 85.56%\n",
      "Saving Model to models/v4_Model.pth\n",
      "Epoch: 27\n",
      "-------------\n",
      "Train loss: 0.39208 | Train acc: 85.98%\n"
     ]
    },
    {
     "name": "stderr",
     "output_type": "stream",
     "text": [
      " 28%|██▊       | 28/100 [11:07<29:12, 24.34s/it]"
     ]
    },
    {
     "name": "stdout",
     "output_type": "stream",
     "text": [
      "Test loss: 0.44228 | Test acc : 84.32%\n",
      "Epoch: 28\n",
      "-------------\n",
      "Train loss: 0.38527 | Train acc: 86.33%\n"
     ]
    },
    {
     "name": "stderr",
     "output_type": "stream",
     "text": [
      " 29%|██▉       | 29/100 [11:31<28:53, 24.41s/it]"
     ]
    },
    {
     "name": "stdout",
     "output_type": "stream",
     "text": [
      "Test loss: 0.41921 | Test acc : 86.26%\n",
      "Saving Model to models/v4_Model.pth\n",
      "Epoch: 29\n",
      "-------------\n",
      "Train loss: 0.37193 | Train acc: 86.82%\n"
     ]
    },
    {
     "name": "stderr",
     "output_type": "stream",
     "text": [
      " 30%|███       | 30/100 [11:55<28:18, 24.26s/it]"
     ]
    },
    {
     "name": "stdout",
     "output_type": "stream",
     "text": [
      "Test loss: 0.36914 | Test acc : 86.69%\n",
      "Saving Model to models/v4_Model.pth\n",
      "Epoch: 30\n",
      "-------------\n",
      "Train loss: 0.36889 | Train acc: 87.10%\n"
     ]
    },
    {
     "name": "stderr",
     "output_type": "stream",
     "text": [
      " 31%|███       | 31/100 [12:19<27:50, 24.21s/it]"
     ]
    },
    {
     "name": "stdout",
     "output_type": "stream",
     "text": [
      "Test loss: 0.36291 | Test acc : 87.12%\n",
      "Saving Model to models/v4_Model.pth\n",
      "Epoch: 31\n",
      "-------------\n",
      "Train loss: 0.36248 | Train acc: 87.40%\n"
     ]
    },
    {
     "name": "stderr",
     "output_type": "stream",
     "text": [
      " 32%|███▏      | 32/100 [12:45<28:02, 24.75s/it]"
     ]
    },
    {
     "name": "stdout",
     "output_type": "stream",
     "text": [
      "Test loss: 0.36128 | Test acc : 87.80%\n",
      "Saving Model to models/v4_Model.pth\n",
      "Epoch: 32\n",
      "-------------\n",
      "Train loss: 0.35618 | Train acc: 87.55%\n"
     ]
    },
    {
     "name": "stderr",
     "output_type": "stream",
     "text": [
      " 33%|███▎      | 33/100 [13:14<28:54, 25.88s/it]"
     ]
    },
    {
     "name": "stdout",
     "output_type": "stream",
     "text": [
      "Test loss: 0.36965 | Test acc : 86.29%\n",
      "Epoch: 33\n",
      "-------------\n",
      "Train loss: 0.35158 | Train acc: 87.48%\n"
     ]
    },
    {
     "name": "stderr",
     "output_type": "stream",
     "text": [
      " 34%|███▍      | 34/100 [13:38<28:03, 25.50s/it]"
     ]
    },
    {
     "name": "stdout",
     "output_type": "stream",
     "text": [
      "Test loss: 0.34612 | Test acc : 88.33%\n",
      "Saving Model to models/v4_Model.pth\n",
      "Epoch: 34\n",
      "-------------\n",
      "Train loss: 0.34848 | Train acc: 87.79%\n"
     ]
    },
    {
     "name": "stderr",
     "output_type": "stream",
     "text": [
      " 35%|███▌      | 35/100 [14:04<27:28, 25.37s/it]"
     ]
    },
    {
     "name": "stdout",
     "output_type": "stream",
     "text": [
      "Test loss: 0.32513 | Test acc : 88.68%\n",
      "Saving Model to models/v4_Model.pth\n",
      "Epoch: 35\n",
      "-------------\n",
      "Train loss: 0.33637 | Train acc: 88.21%\n"
     ]
    },
    {
     "name": "stderr",
     "output_type": "stream",
     "text": [
      " 36%|███▌      | 36/100 [14:28<26:45, 25.09s/it]"
     ]
    },
    {
     "name": "stdout",
     "output_type": "stream",
     "text": [
      "Test loss: 0.44184 | Test acc : 83.29%\n",
      "Epoch: 36\n",
      "-------------\n",
      "Train loss: 0.33190 | Train acc: 88.35%\n"
     ]
    },
    {
     "name": "stderr",
     "output_type": "stream",
     "text": [
      " 37%|███▋      | 37/100 [14:53<26:11, 24.95s/it]"
     ]
    },
    {
     "name": "stdout",
     "output_type": "stream",
     "text": [
      "Test loss: 0.36527 | Test acc : 87.50%\n",
      "Epoch: 37\n",
      "-------------\n",
      "Train loss: 0.33547 | Train acc: 87.95%\n"
     ]
    },
    {
     "name": "stderr",
     "output_type": "stream",
     "text": [
      " 37%|███▋      | 37/100 [15:17<26:02, 24.80s/it]"
     ]
    },
    {
     "name": "stdout",
     "output_type": "stream",
     "text": [
      "Test loss: 0.35971 | Test acc : 87.85%\n",
      "Early stopping triggered.\n",
      "Train time on cpu: 917.745 seconds\n"
     ]
    },
    {
     "name": "stderr",
     "output_type": "stream",
     "text": [
      "\n"
     ]
    }
   ],
   "source": [
    "# Import tqdm for progress bar\n",
    "from tqdm.auto import tqdm\n",
    "\n",
    "# Early Stopping\n",
    "early_stopper = EarlyStopping(patience=3, mode='max', save_path=\"v4_Model.pth\")\n",
    "\n",
    "# Measure time\n",
    "from timeit import default_timer as Timer\n",
    "v4_train_time_start = timer()\n",
    "\n",
    "# Create a optimization and evaluation loop using train_step() and test_step()\n",
    "for epoch in tqdm(range(max_epochs)):\n",
    "    print(f\"Epoch: {epoch}\\n-------------\")\n",
    "    train_loss, train_acc = train_step(model = model_v4,\n",
    "                                       data_loader = train_dataloader,\n",
    "                                       loss_fn = loss_fn,\n",
    "                                       optimizer = optimizer,\n",
    "                                       accuracy_fn = accuracy_fn,\n",
    "                                       device = device)\n",
    "    val_loss, val_acc = test_step(model = model_v4,\n",
    "                         data_loader = val_dataloader,\n",
    "                         loss_fn = loss_fn,\n",
    "                         accuracy_fn = accuracy_fn,\n",
    "                         device = device)\n",
    "\n",
    "    # Save history\n",
    "    history_v4[\"epoch\"].append(to_scalar(epoch))\n",
    "    history_v4[\"train_loss\"].append(to_scalar(train_loss))\n",
    "    history_v4[\"train_acc\"].append(to_scalar(train_acc))\n",
    "    history_v4[\"val_loss\"].append(to_scalar(val_loss))\n",
    "    history_v4[\"val_acc\"].append(to_scalar(val_acc))\n",
    "\n",
    "    early_stopper(val_acc, model_v4)\n",
    "    if early_stopper.early_stop:\n",
    "        break\n",
    "    \n",
    "v4_train_time_end = timer()\n",
    "total_train_time_model_baseline = print_train_time(start = v4_train_time_start,\n",
    "                                                   end = v4_train_time_end,\n",
    "                                                   device = device)"
   ]
  },
  {
   "cell_type": "markdown",
   "metadata": {},
   "source": [
    "#### 2.3.2.3 Save History"
   ]
  },
  {
   "cell_type": "code",
   "execution_count": 42,
   "metadata": {},
   "outputs": [
    {
     "name": "stdout",
     "output_type": "stream",
     "text": [
      "Saved training history to training_history_v4.csv\n"
     ]
    }
   ],
   "source": [
    "df_history_v4 = pd.DataFrame(history_v4)\n",
    "df_history_v4.to_csv(\"training_history_v4.csv\", index=False)\n",
    "print(\"Saved training history to training_history_v4.csv\")"
   ]
  },
  {
   "cell_type": "code",
   "execution_count": 43,
   "metadata": {},
   "outputs": [
    {
     "data": {
      "text/html": [
       "<div>\n",
       "<style scoped>\n",
       "    .dataframe tbody tr th:only-of-type {\n",
       "        vertical-align: middle;\n",
       "    }\n",
       "\n",
       "    .dataframe tbody tr th {\n",
       "        vertical-align: top;\n",
       "    }\n",
       "\n",
       "    .dataframe thead th {\n",
       "        text-align: right;\n",
       "    }\n",
       "</style>\n",
       "<table border=\"1\" class=\"dataframe\">\n",
       "  <thead>\n",
       "    <tr style=\"text-align: right;\">\n",
       "      <th></th>\n",
       "      <th>epoch</th>\n",
       "      <th>train_loss</th>\n",
       "      <th>train_acc</th>\n",
       "      <th>val_loss</th>\n",
       "      <th>val_acc</th>\n",
       "    </tr>\n",
       "  </thead>\n",
       "  <tbody>\n",
       "    <tr>\n",
       "      <th>0</th>\n",
       "      <td>0</td>\n",
       "      <td>1.377410</td>\n",
       "      <td>40.791573</td>\n",
       "      <td>1.348861</td>\n",
       "      <td>42.170699</td>\n",
       "    </tr>\n",
       "    <tr>\n",
       "      <th>1</th>\n",
       "      <td>1</td>\n",
       "      <td>1.146012</td>\n",
       "      <td>53.983671</td>\n",
       "      <td>1.172082</td>\n",
       "      <td>51.447293</td>\n",
       "    </tr>\n",
       "    <tr>\n",
       "      <th>2</th>\n",
       "      <td>2</td>\n",
       "      <td>1.013059</td>\n",
       "      <td>58.882320</td>\n",
       "      <td>1.013191</td>\n",
       "      <td>54.699501</td>\n",
       "    </tr>\n",
       "    <tr>\n",
       "      <th>3</th>\n",
       "      <td>3</td>\n",
       "      <td>0.903564</td>\n",
       "      <td>63.729354</td>\n",
       "      <td>0.982393</td>\n",
       "      <td>58.580549</td>\n",
       "    </tr>\n",
       "    <tr>\n",
       "      <th>4</th>\n",
       "      <td>4</td>\n",
       "      <td>0.855635</td>\n",
       "      <td>65.303585</td>\n",
       "      <td>0.882859</td>\n",
       "      <td>64.811348</td>\n",
       "    </tr>\n",
       "    <tr>\n",
       "      <th>5</th>\n",
       "      <td>5</td>\n",
       "      <td>0.803726</td>\n",
       "      <td>68.494276</td>\n",
       "      <td>0.890743</td>\n",
       "      <td>64.475326</td>\n",
       "    </tr>\n",
       "    <tr>\n",
       "      <th>6</th>\n",
       "      <td>6</td>\n",
       "      <td>0.769825</td>\n",
       "      <td>69.864396</td>\n",
       "      <td>0.883138</td>\n",
       "      <td>64.530530</td>\n",
       "    </tr>\n",
       "    <tr>\n",
       "      <th>7</th>\n",
       "      <td>7</td>\n",
       "      <td>0.742628</td>\n",
       "      <td>70.967061</td>\n",
       "      <td>0.820676</td>\n",
       "      <td>68.085157</td>\n",
       "    </tr>\n",
       "    <tr>\n",
       "      <th>8</th>\n",
       "      <td>8</td>\n",
       "      <td>0.712028</td>\n",
       "      <td>73.266235</td>\n",
       "      <td>0.831996</td>\n",
       "      <td>68.037154</td>\n",
       "    </tr>\n",
       "    <tr>\n",
       "      <th>9</th>\n",
       "      <td>9</td>\n",
       "      <td>0.692987</td>\n",
       "      <td>73.740146</td>\n",
       "      <td>0.730398</td>\n",
       "      <td>73.310292</td>\n",
       "    </tr>\n",
       "    <tr>\n",
       "      <th>10</th>\n",
       "      <td>10</td>\n",
       "      <td>0.668520</td>\n",
       "      <td>75.039884</td>\n",
       "      <td>0.734084</td>\n",
       "      <td>72.899866</td>\n",
       "    </tr>\n",
       "    <tr>\n",
       "      <th>11</th>\n",
       "      <td>11</td>\n",
       "      <td>0.650477</td>\n",
       "      <td>75.689752</td>\n",
       "      <td>0.734737</td>\n",
       "      <td>70.833333</td>\n",
       "    </tr>\n",
       "    <tr>\n",
       "      <th>12</th>\n",
       "      <td>12</td>\n",
       "      <td>0.625163</td>\n",
       "      <td>76.806494</td>\n",
       "      <td>0.662807</td>\n",
       "      <td>76.149674</td>\n",
       "    </tr>\n",
       "    <tr>\n",
       "      <th>13</th>\n",
       "      <td>13</td>\n",
       "      <td>0.602143</td>\n",
       "      <td>77.979542</td>\n",
       "      <td>0.672001</td>\n",
       "      <td>73.634313</td>\n",
       "    </tr>\n",
       "    <tr>\n",
       "      <th>14</th>\n",
       "      <td>14</td>\n",
       "      <td>0.587756</td>\n",
       "      <td>78.451107</td>\n",
       "      <td>0.642469</td>\n",
       "      <td>76.504896</td>\n",
       "    </tr>\n",
       "    <tr>\n",
       "      <th>15</th>\n",
       "      <td>15</td>\n",
       "      <td>0.556741</td>\n",
       "      <td>79.961993</td>\n",
       "      <td>0.620968</td>\n",
       "      <td>76.658506</td>\n",
       "    </tr>\n",
       "    <tr>\n",
       "      <th>16</th>\n",
       "      <td>16</td>\n",
       "      <td>0.542297</td>\n",
       "      <td>80.574324</td>\n",
       "      <td>0.568899</td>\n",
       "      <td>77.690572</td>\n",
       "    </tr>\n",
       "    <tr>\n",
       "      <th>17</th>\n",
       "      <td>17</td>\n",
       "      <td>0.514946</td>\n",
       "      <td>81.620683</td>\n",
       "      <td>0.531085</td>\n",
       "      <td>81.497216</td>\n",
       "    </tr>\n",
       "    <tr>\n",
       "      <th>18</th>\n",
       "      <td>18</td>\n",
       "      <td>0.498217</td>\n",
       "      <td>81.859985</td>\n",
       "      <td>0.485390</td>\n",
       "      <td>83.942972</td>\n",
       "    </tr>\n",
       "    <tr>\n",
       "      <th>19</th>\n",
       "      <td>19</td>\n",
       "      <td>0.479258</td>\n",
       "      <td>82.678773</td>\n",
       "      <td>0.492455</td>\n",
       "      <td>84.094182</td>\n",
       "    </tr>\n",
       "    <tr>\n",
       "      <th>20</th>\n",
       "      <td>20</td>\n",
       "      <td>0.470390</td>\n",
       "      <td>82.852384</td>\n",
       "      <td>0.493573</td>\n",
       "      <td>80.263537</td>\n",
       "    </tr>\n",
       "    <tr>\n",
       "      <th>21</th>\n",
       "      <td>21</td>\n",
       "      <td>0.453630</td>\n",
       "      <td>83.950357</td>\n",
       "      <td>0.450143</td>\n",
       "      <td>84.600614</td>\n",
       "    </tr>\n",
       "    <tr>\n",
       "      <th>22</th>\n",
       "      <td>22</td>\n",
       "      <td>0.443173</td>\n",
       "      <td>84.459459</td>\n",
       "      <td>0.447554</td>\n",
       "      <td>83.309332</td>\n",
       "    </tr>\n",
       "    <tr>\n",
       "      <th>23</th>\n",
       "      <td>23</td>\n",
       "      <td>0.433983</td>\n",
       "      <td>84.572072</td>\n",
       "      <td>0.453152</td>\n",
       "      <td>82.277266</td>\n",
       "    </tr>\n",
       "    <tr>\n",
       "      <th>24</th>\n",
       "      <td>24</td>\n",
       "      <td>0.426162</td>\n",
       "      <td>84.996715</td>\n",
       "      <td>0.424645</td>\n",
       "      <td>85.505472</td>\n",
       "    </tr>\n",
       "    <tr>\n",
       "      <th>25</th>\n",
       "      <td>25</td>\n",
       "      <td>0.407028</td>\n",
       "      <td>85.674737</td>\n",
       "      <td>0.446846</td>\n",
       "      <td>83.894969</td>\n",
       "    </tr>\n",
       "    <tr>\n",
       "      <th>26</th>\n",
       "      <td>26</td>\n",
       "      <td>0.401621</td>\n",
       "      <td>85.501126</td>\n",
       "      <td>0.421509</td>\n",
       "      <td>85.558276</td>\n",
       "    </tr>\n",
       "    <tr>\n",
       "      <th>27</th>\n",
       "      <td>27</td>\n",
       "      <td>0.392080</td>\n",
       "      <td>85.984422</td>\n",
       "      <td>0.442282</td>\n",
       "      <td>84.317396</td>\n",
       "    </tr>\n",
       "    <tr>\n",
       "      <th>28</th>\n",
       "      <td>28</td>\n",
       "      <td>0.385272</td>\n",
       "      <td>86.326952</td>\n",
       "      <td>0.419213</td>\n",
       "      <td>86.259121</td>\n",
       "    </tr>\n",
       "    <tr>\n",
       "      <th>29</th>\n",
       "      <td>29</td>\n",
       "      <td>0.371926</td>\n",
       "      <td>86.819632</td>\n",
       "      <td>0.369144</td>\n",
       "      <td>86.691148</td>\n",
       "    </tr>\n",
       "    <tr>\n",
       "      <th>30</th>\n",
       "      <td>30</td>\n",
       "      <td>0.368889</td>\n",
       "      <td>87.103510</td>\n",
       "      <td>0.362909</td>\n",
       "      <td>87.118376</td>\n",
       "    </tr>\n",
       "    <tr>\n",
       "      <th>31</th>\n",
       "      <td>31</td>\n",
       "      <td>0.362478</td>\n",
       "      <td>87.401464</td>\n",
       "      <td>0.361281</td>\n",
       "      <td>87.800019</td>\n",
       "    </tr>\n",
       "    <tr>\n",
       "      <th>32</th>\n",
       "      <td>32</td>\n",
       "      <td>0.356184</td>\n",
       "      <td>87.551614</td>\n",
       "      <td>0.369653</td>\n",
       "      <td>86.287922</td>\n",
       "    </tr>\n",
       "    <tr>\n",
       "      <th>33</th>\n",
       "      <td>33</td>\n",
       "      <td>0.351577</td>\n",
       "      <td>87.483577</td>\n",
       "      <td>0.346116</td>\n",
       "      <td>88.330453</td>\n",
       "    </tr>\n",
       "    <tr>\n",
       "      <th>34</th>\n",
       "      <td>34</td>\n",
       "      <td>0.348476</td>\n",
       "      <td>87.786224</td>\n",
       "      <td>0.325127</td>\n",
       "      <td>88.683276</td>\n",
       "    </tr>\n",
       "    <tr>\n",
       "      <th>35</th>\n",
       "      <td>35</td>\n",
       "      <td>0.336365</td>\n",
       "      <td>88.210867</td>\n",
       "      <td>0.441836</td>\n",
       "      <td>83.285330</td>\n",
       "    </tr>\n",
       "    <tr>\n",
       "      <th>36</th>\n",
       "      <td>36</td>\n",
       "      <td>0.331898</td>\n",
       "      <td>88.346941</td>\n",
       "      <td>0.365272</td>\n",
       "      <td>87.497600</td>\n",
       "    </tr>\n",
       "    <tr>\n",
       "      <th>37</th>\n",
       "      <td>37</td>\n",
       "      <td>0.335466</td>\n",
       "      <td>87.952797</td>\n",
       "      <td>0.359712</td>\n",
       "      <td>87.850422</td>\n",
       "    </tr>\n",
       "  </tbody>\n",
       "</table>\n",
       "</div>"
      ],
      "text/plain": [
       "    epoch  train_loss  train_acc  val_loss    val_acc\n",
       "0       0    1.377410  40.791573  1.348861  42.170699\n",
       "1       1    1.146012  53.983671  1.172082  51.447293\n",
       "2       2    1.013059  58.882320  1.013191  54.699501\n",
       "3       3    0.903564  63.729354  0.982393  58.580549\n",
       "4       4    0.855635  65.303585  0.882859  64.811348\n",
       "5       5    0.803726  68.494276  0.890743  64.475326\n",
       "6       6    0.769825  69.864396  0.883138  64.530530\n",
       "7       7    0.742628  70.967061  0.820676  68.085157\n",
       "8       8    0.712028  73.266235  0.831996  68.037154\n",
       "9       9    0.692987  73.740146  0.730398  73.310292\n",
       "10     10    0.668520  75.039884  0.734084  72.899866\n",
       "11     11    0.650477  75.689752  0.734737  70.833333\n",
       "12     12    0.625163  76.806494  0.662807  76.149674\n",
       "13     13    0.602143  77.979542  0.672001  73.634313\n",
       "14     14    0.587756  78.451107  0.642469  76.504896\n",
       "15     15    0.556741  79.961993  0.620968  76.658506\n",
       "16     16    0.542297  80.574324  0.568899  77.690572\n",
       "17     17    0.514946  81.620683  0.531085  81.497216\n",
       "18     18    0.498217  81.859985  0.485390  83.942972\n",
       "19     19    0.479258  82.678773  0.492455  84.094182\n",
       "20     20    0.470390  82.852384  0.493573  80.263537\n",
       "21     21    0.453630  83.950357  0.450143  84.600614\n",
       "22     22    0.443173  84.459459  0.447554  83.309332\n",
       "23     23    0.433983  84.572072  0.453152  82.277266\n",
       "24     24    0.426162  84.996715  0.424645  85.505472\n",
       "25     25    0.407028  85.674737  0.446846  83.894969\n",
       "26     26    0.401621  85.501126  0.421509  85.558276\n",
       "27     27    0.392080  85.984422  0.442282  84.317396\n",
       "28     28    0.385272  86.326952  0.419213  86.259121\n",
       "29     29    0.371926  86.819632  0.369144  86.691148\n",
       "30     30    0.368889  87.103510  0.362909  87.118376\n",
       "31     31    0.362478  87.401464  0.361281  87.800019\n",
       "32     32    0.356184  87.551614  0.369653  86.287922\n",
       "33     33    0.351577  87.483577  0.346116  88.330453\n",
       "34     34    0.348476  87.786224  0.325127  88.683276\n",
       "35     35    0.336365  88.210867  0.441836  83.285330\n",
       "36     36    0.331898  88.346941  0.365272  87.497600\n",
       "37     37    0.335466  87.952797  0.359712  87.850422"
      ]
     },
     "execution_count": 43,
     "metadata": {},
     "output_type": "execute_result"
    }
   ],
   "source": [
    "df_history_v4"
   ]
  },
  {
   "cell_type": "markdown",
   "metadata": {},
   "source": [
    "#### 2.3.2.4 Load Model"
   ]
  },
  {
   "cell_type": "code",
   "execution_count": 40,
   "metadata": {},
   "outputs": [
    {
     "data": {
      "text/plain": [
       "<All keys matched successfully>"
      ]
     },
     "execution_count": 40,
     "metadata": {},
     "output_type": "execute_result"
    }
   ],
   "source": [
    "# Load in the save state_dict()\n",
    "MODEL_PATH = Path(\"models\")\n",
    "MODEL_NAME = \"v4_Model.pth\"\n",
    "MODEL_SAVE_PATH = MODEL_PATH / MODEL_NAME\n",
    "\n",
    "# Create a new instance\n",
    "Loaded_model_v4 = CNNKeywordSpotter_v4(num_classes = 6)\n",
    "\n",
    "# Load Model\n",
    "Loaded_model_v4.load_state_dict(torch.load(f = MODEL_SAVE_PATH, map_location = 'cpu'))"
   ]
  },
  {
   "cell_type": "markdown",
   "metadata": {},
   "source": [
    "### 2.3.3 Evaluate Model"
   ]
  },
  {
   "cell_type": "code",
   "execution_count": 323,
   "metadata": {},
   "outputs": [],
   "source": [
    "y_preds = []\n",
    "y_trues = []"
   ]
  },
  {
   "cell_type": "code",
   "execution_count": 324,
   "metadata": {},
   "outputs": [
    {
     "name": "stderr",
     "output_type": "stream",
     "text": [
      "100%|██████████| 62/62 [00:01<00:00, 38.18it/s]"
     ]
    },
    {
     "name": "stdout",
     "output_type": "stream",
     "text": [
      "{'model_name': 'CNNKeywordSpotter_v4', 'model_loss': 0.3115907311439514, 'model_acc': 89.9361559139785}\n",
      "tensor([0, 3, 1,  ..., 1, 0, 5])\n",
      "tensor([0, 3, 1,  ..., 1, 0, 5])\n"
     ]
    },
    {
     "name": "stderr",
     "output_type": "stream",
     "text": [
      "\n"
     ]
    }
   ],
   "source": [
    "# Calculate model 0 results on test datasets\n",
    "model_v4_results = eval_model(model = Loaded_model_v4,\n",
    "                                    data_loader = test_dataloader,\n",
    "                                    loss_fn = loss_fn,\n",
    "                                    accuracy_fn = accuracy_fn)\n",
    "\n",
    "print(model_v4_results)\n",
    "# y_pred\n",
    "y_pred_tensor = torch.cat(y_preds)\n",
    "print(y_pred_tensor)\n",
    "# y_true\n",
    "y_true_tensor = torch.cat(y_trues)\n",
    "print(y_true_tensor)"
   ]
  },
  {
   "cell_type": "markdown",
   "metadata": {},
   "source": [
    "### 2.3.4 Confusion Matrix"
   ]
  },
  {
   "cell_type": "code",
   "execution_count": 325,
   "metadata": {},
   "outputs": [
    {
     "name": "stdout",
     "output_type": "stream",
     "text": [
      "tensor([[388,   8,   1,   2,   0,   6],\n",
      "        [  3, 347,   2,  37,   0,   6],\n",
      "        [  3,   1, 365,  15,   0,   4],\n",
      "        [  1,  36,   7, 333,   0,  11],\n",
      "        [  0,   0,   0,   0,   0,   0],\n",
      "        [ 10,   7,  10,  29,   0, 344]])\n"
     ]
    }
   ],
   "source": [
    "from torchmetrics import ConfusionMatrix\n",
    "from mlxtend.plotting import plot_confusion_matrix\n",
    "\n",
    "# 2. Setup confusion instance and compare predictions to targets\n",
    "confmat = ConfusionMatrix(task = \"MULTICLASS\", num_classes = len(class_names))\n",
    "confmat_tensor = confmat(preds = y_pred_tensor,\n",
    "                         target = y_true_tensor)\n",
    "print(confmat_tensor)"
   ]
  },
  {
   "cell_type": "code",
   "execution_count": 65,
   "metadata": {},
   "outputs": [
    {
     "name": "stdout",
     "output_type": "stream",
     "text": [
      "torch.float32\n",
      "cpu\n"
     ]
    }
   ],
   "source": [
    "confmat_tensor = confmat_tensor.to(dtype=torch.float32).cpu()\n",
    "print(confmat_tensor.dtype)\n",
    "print(confmat_tensor.device)"
   ]
  },
  {
   "cell_type": "code",
   "execution_count": 66,
   "metadata": {},
   "outputs": [],
   "source": [
    "conf_mat = confmat_tensor.numpy()"
   ]
  },
  {
   "cell_type": "code",
   "execution_count": 67,
   "metadata": {},
   "outputs": [
    {
     "name": "stderr",
     "output_type": "stream",
     "text": [
      "/Users/Kpiano/miniconda3/lib/python3.12/site-packages/mlxtend/plotting/plot_confusion_matrix.py:102: RuntimeWarning: invalid value encountered in divide\n",
      "  normed_conf_mat = conf_mat.astype(\"float\") / total_samples\n"
     ]
    },
    {
     "data": {
      "image/png": "[encoded data removed]",
      "text/plain": [
       "<Figure size 1000x700 with 1 Axes>"
      ]
     },
     "metadata": {},
     "output_type": "display_data"
    }
   ],
   "source": [
    "# 3. Plot the confusion matrix\n",
    "fig, ax = plot_confusion_matrix(conf_mat = confmat_tensor.numpy(), # matplotlib likes to working with numpy\n",
    "                                class_names = class_names,\n",
    "                                figsize = (10, 7))"
   ]
  },
  {
   "cell_type": "markdown",
   "metadata": {},
   "source": [
    "## 2.4 Dropout + Light BatchNorm"
   ]
  },
  {
   "cell_type": "markdown",
   "metadata": {},
   "source": [
    "### 2.4.1 Build a Model with Dropout + LightBatchNorm"
   ]
  },
  {
   "cell_type": "code",
   "execution_count": 68,
   "metadata": {},
   "outputs": [],
   "source": [
    "# Batch Norm 추가\n",
    "class CNNKeywordSpotter_v5(nn.Module):\n",
    "    def __init__(self, num_classes=6):\n",
    "        super().__init__()\n",
    "        self.cnn = nn.Sequential(\n",
    "            nn.Conv2d(1, 16, kernel_size=3, padding=1),\n",
    "            nn.BatchNorm2d(16), # Conv1만 BatchNorm 추가\n",
    "            nn.ReLU(),\n",
    "            nn.MaxPool2d(2),\n",
    "            nn.Dropout(0.3),\n",
    "\n",
    "            nn.Conv2d(16, 32, kernel_size=3, padding=1),\n",
    "            nn.ReLU(),\n",
    "            nn.AdaptiveAvgPool2d((1, 1)),\n",
    "        )\n",
    "        self.fc = nn.Linear(32, num_classes)\n",
    "\n",
    "    def forward(self, x):\n",
    "        x = self.cnn(x)\n",
    "        x = x.view(x.size(0), -1)\n",
    "        return self.fc(x)"
   ]
  },
  {
   "cell_type": "code",
   "execution_count": 69,
   "metadata": {},
   "outputs": [],
   "source": [
    "model_v5 = CNNKeywordSpotter_v5(num_classes = 6)"
   ]
  },
  {
   "cell_type": "code",
   "execution_count": 70,
   "metadata": {},
   "outputs": [],
   "source": [
    "# Setup Loss function and optimizer\n",
    "loss_fn = nn.CrossEntropyLoss()\n",
    "optimizer = torch.optim.Adam(model_v5.parameters(), lr = 0.001)"
   ]
  },
  {
   "cell_type": "markdown",
   "metadata": {},
   "source": [
    "### 2.4.2 Training Loop"
   ]
  },
  {
   "cell_type": "markdown",
   "metadata": {},
   "source": [
    "#### 2.4.2.1 Collect Data"
   ]
  },
  {
   "cell_type": "code",
   "execution_count": 58,
   "metadata": {},
   "outputs": [],
   "source": [
    "history_v5 = {\"epoch\" : [],\n",
    "              \"train_loss\" : [],\n",
    "              \"train_acc\" : [],\n",
    "              \"val_loss\" : [],\n",
    "              \"val_acc\" : []}"
   ]
  },
  {
   "cell_type": "markdown",
   "metadata": {},
   "source": [
    "#### 2.4.2.2 Implement"
   ]
  },
  {
   "cell_type": "code",
   "execution_count": 59,
   "metadata": {},
   "outputs": [],
   "source": [
    "# Set the number of epochs\n",
    "max_epochs = 100"
   ]
  },
  {
   "cell_type": "code",
   "execution_count": 61,
   "metadata": {},
   "outputs": [
    {
     "name": "stderr",
     "output_type": "stream",
     "text": [
      "  0%|          | 0/100 [00:00<?, ?it/s]"
     ]
    },
    {
     "name": "stdout",
     "output_type": "stream",
     "text": [
      "Epoch: 0\n",
      "-------------\n",
      "Train loss: 1.35941 | Train acc: 43.06%\n"
     ]
    },
    {
     "name": "stderr",
     "output_type": "stream",
     "text": [
      "  1%|          | 1/100 [00:21<36:04, 21.86s/it]"
     ]
    },
    {
     "name": "stdout",
     "output_type": "stream",
     "text": [
      "Test loss: 1.35845 | Test acc : 45.09%\n",
      "Saving Model to models/v5_Model.pth\n",
      "Epoch: 1\n",
      "-------------\n",
      "Train loss: 1.22859 | Train acc: 50.60%\n"
     ]
    },
    {
     "name": "stderr",
     "output_type": "stream",
     "text": [
      "  2%|▏         | 2/100 [00:44<36:49, 22.54s/it]"
     ]
    },
    {
     "name": "stdout",
     "output_type": "stream",
     "text": [
      "Test loss: 1.25827 | Test acc : 48.17%\n",
      "Saving Model to models/v5_Model.pth\n",
      "Epoch: 2\n",
      "-------------\n",
      "Train loss: 1.16320 | Train acc: 53.53%\n"
     ]
    },
    {
     "name": "stderr",
     "output_type": "stream",
     "text": [
      "  3%|▎         | 3/100 [01:07<36:51, 22.80s/it]"
     ]
    },
    {
     "name": "stdout",
     "output_type": "stream",
     "text": [
      "Test loss: 1.23395 | Test acc : 49.91%\n",
      "Saving Model to models/v5_Model.pth\n",
      "Epoch: 3\n",
      "-------------\n",
      "Train loss: 1.12164 | Train acc: 55.36%\n"
     ]
    },
    {
     "name": "stderr",
     "output_type": "stream",
     "text": [
      "  4%|▍         | 4/100 [01:30<36:35, 22.87s/it]"
     ]
    },
    {
     "name": "stdout",
     "output_type": "stream",
     "text": [
      "Test loss: 1.18589 | Test acc : 50.66%\n",
      "Saving Model to models/v5_Model.pth\n",
      "Epoch: 4\n",
      "-------------\n",
      "Train loss: 1.08659 | Train acc: 56.41%\n"
     ]
    },
    {
     "name": "stderr",
     "output_type": "stream",
     "text": [
      "  5%|▌         | 5/100 [01:55<36:53, 23.30s/it]"
     ]
    },
    {
     "name": "stdout",
     "output_type": "stream",
     "text": [
      "Test loss: 1.19035 | Test acc : 50.90%\n",
      "Saving Model to models/v5_Model.pth\n",
      "Epoch: 5\n",
      "-------------\n",
      "Train loss: 1.06311 | Train acc: 57.47%\n"
     ]
    },
    {
     "name": "stderr",
     "output_type": "stream",
     "text": [
      "  6%|▌         | 6/100 [02:17<36:08, 23.07s/it]"
     ]
    },
    {
     "name": "stdout",
     "output_type": "stream",
     "text": [
      "Test loss: 1.13667 | Test acc : 53.47%\n",
      "Saving Model to models/v5_Model.pth\n",
      "Epoch: 6\n",
      "-------------\n",
      "Train loss: 1.04257 | Train acc: 57.87%\n"
     ]
    },
    {
     "name": "stderr",
     "output_type": "stream",
     "text": [
      "  7%|▋         | 7/100 [02:41<35:58, 23.20s/it]"
     ]
    },
    {
     "name": "stdout",
     "output_type": "stream",
     "text": [
      "Test loss: 1.09896 | Test acc : 55.36%\n",
      "Saving Model to models/v5_Model.pth\n",
      "Epoch: 7\n",
      "-------------\n",
      "Train loss: 1.02486 | Train acc: 58.53%\n"
     ]
    },
    {
     "name": "stderr",
     "output_type": "stream",
     "text": [
      "  8%|▊         | 8/100 [03:05<36:10, 23.59s/it]"
     ]
    },
    {
     "name": "stdout",
     "output_type": "stream",
     "text": [
      "Test loss: 1.12554 | Test acc : 53.64%\n",
      "Epoch: 8\n",
      "-------------\n",
      "Train loss: 1.00414 | Train acc: 59.94%\n"
     ]
    },
    {
     "name": "stderr",
     "output_type": "stream",
     "text": [
      "  9%|▉         | 9/100 [03:29<35:52, 23.65s/it]"
     ]
    },
    {
     "name": "stdout",
     "output_type": "stream",
     "text": [
      "Test loss: 1.10921 | Test acc : 54.95%\n",
      "Epoch: 9\n",
      "-------------\n",
      "Train loss: 0.98932 | Train acc: 60.06%\n"
     ]
    },
    {
     "name": "stderr",
     "output_type": "stream",
     "text": [
      "  9%|▉         | 9/100 [03:53<39:23, 25.97s/it]"
     ]
    },
    {
     "name": "stdout",
     "output_type": "stream",
     "text": [
      "Test loss: 1.06454 | Test acc : 55.21%\n",
      "Early stopping triggered.\n",
      "Train time on cpu: 233.776 seconds\n"
     ]
    },
    {
     "name": "stderr",
     "output_type": "stream",
     "text": [
      "\n"
     ]
    }
   ],
   "source": [
    "# Import tqdm for progress bar\n",
    "from tqdm.auto import tqdm\n",
    "\n",
    "# Early Stopping\n",
    "early_stopper = EarlyStopping(patience=3, mode='max', save_path=\"v5_Model.pth\")\n",
    "\n",
    "# Measure time\n",
    "from timeit import default_timer as Timer\n",
    "v5_train_time_start = timer()\n",
    "\n",
    "# Create a optimization and evaluation loop using train_step() and test_step()\n",
    "for epoch in tqdm(range(max_epochs)):\n",
    "    print(f\"Epoch: {epoch}\\n-------------\")\n",
    "    train_loss, train_acc = train_step(model = model_v5,\n",
    "                                       data_loader = train_dataloader,\n",
    "                                       loss_fn = loss_fn,\n",
    "                                       optimizer = optimizer,\n",
    "                                       accuracy_fn = accuracy_fn,\n",
    "                                       device = device)\n",
    "    val_loss, val_acc = test_step(model = model_v5,\n",
    "                         data_loader = val_dataloader,\n",
    "                         loss_fn = loss_fn,\n",
    "                         accuracy_fn = accuracy_fn,\n",
    "                         device = device)\n",
    "\n",
    "    # Save history\n",
    "    history_v5[\"epoch\"].append(to_scalar(epoch))\n",
    "    history_v5[\"train_loss\"].append(to_scalar(train_loss))\n",
    "    history_v5[\"train_acc\"].append(to_scalar(train_acc))\n",
    "    history_v5[\"val_loss\"].append(to_scalar(val_loss))\n",
    "    history_v5[\"val_acc\"].append(to_scalar(val_acc))\n",
    "\n",
    "    early_stopper(val_acc, model_v5)\n",
    "    if early_stopper.early_stop:\n",
    "        break\n",
    "    \n",
    "v5_train_time_end = timer()\n",
    "total_train_time_model_baseline = print_train_time(start = v5_train_time_start,\n",
    "                                                   end = v5_train_time_end,\n",
    "                                                   device = device)"
   ]
  },
  {
   "cell_type": "markdown",
   "metadata": {},
   "source": [
    "#### 2.4.2.3 Save History"
   ]
  },
  {
   "cell_type": "code",
   "execution_count": 62,
   "metadata": {},
   "outputs": [
    {
     "name": "stdout",
     "output_type": "stream",
     "text": [
      "Saved training history to training_history_v5.csv\n"
     ]
    }
   ],
   "source": [
    "df_history_v5 = pd.DataFrame(history_v5)\n",
    "df_history_v5.to_csv(\"training_history_v5.csv\", index=False)\n",
    "print(\"Saved training history to training_history_v5.csv\")"
   ]
  },
  {
   "cell_type": "code",
   "execution_count": 63,
   "metadata": {},
   "outputs": [
    {
     "data": {
      "text/html": [
       "<div>\n",
       "<style scoped>\n",
       "    .dataframe tbody tr th:only-of-type {\n",
       "        vertical-align: middle;\n",
       "    }\n",
       "\n",
       "    .dataframe tbody tr th {\n",
       "        vertical-align: top;\n",
       "    }\n",
       "\n",
       "    .dataframe thead th {\n",
       "        text-align: right;\n",
       "    }\n",
       "</style>\n",
       "<table border=\"1\" class=\"dataframe\">\n",
       "  <thead>\n",
       "    <tr style=\"text-align: right;\">\n",
       "      <th></th>\n",
       "      <th>epoch</th>\n",
       "      <th>train_loss</th>\n",
       "      <th>train_acc</th>\n",
       "      <th>val_loss</th>\n",
       "      <th>val_acc</th>\n",
       "    </tr>\n",
       "  </thead>\n",
       "  <tbody>\n",
       "    <tr>\n",
       "      <th>0</th>\n",
       "      <td>0</td>\n",
       "      <td>1.359406</td>\n",
       "      <td>43.055556</td>\n",
       "      <td>1.358453</td>\n",
       "      <td>45.091686</td>\n",
       "    </tr>\n",
       "    <tr>\n",
       "      <th>1</th>\n",
       "      <td>1</td>\n",
       "      <td>1.228594</td>\n",
       "      <td>50.598255</td>\n",
       "      <td>1.258267</td>\n",
       "      <td>48.173483</td>\n",
       "    </tr>\n",
       "    <tr>\n",
       "      <th>2</th>\n",
       "      <td>2</td>\n",
       "      <td>1.163200</td>\n",
       "      <td>53.530875</td>\n",
       "      <td>1.233953</td>\n",
       "      <td>49.911194</td>\n",
       "    </tr>\n",
       "    <tr>\n",
       "      <th>3</th>\n",
       "      <td>3</td>\n",
       "      <td>1.121639</td>\n",
       "      <td>55.356137</td>\n",
       "      <td>1.185892</td>\n",
       "      <td>50.664843</td>\n",
       "    </tr>\n",
       "    <tr>\n",
       "      <th>4</th>\n",
       "      <td>4</td>\n",
       "      <td>1.086586</td>\n",
       "      <td>56.411881</td>\n",
       "      <td>1.190352</td>\n",
       "      <td>50.895257</td>\n",
       "    </tr>\n",
       "    <tr>\n",
       "      <th>5</th>\n",
       "      <td>5</td>\n",
       "      <td>1.063109</td>\n",
       "      <td>57.469970</td>\n",
       "      <td>1.136671</td>\n",
       "      <td>53.470622</td>\n",
       "    </tr>\n",
       "    <tr>\n",
       "      <th>6</th>\n",
       "      <td>6</td>\n",
       "      <td>1.042566</td>\n",
       "      <td>57.871152</td>\n",
       "      <td>1.098961</td>\n",
       "      <td>55.361943</td>\n",
       "    </tr>\n",
       "    <tr>\n",
       "      <th>7</th>\n",
       "      <td>7</td>\n",
       "      <td>1.024855</td>\n",
       "      <td>58.532752</td>\n",
       "      <td>1.125536</td>\n",
       "      <td>53.638633</td>\n",
       "    </tr>\n",
       "    <tr>\n",
       "      <th>8</th>\n",
       "      <td>8</td>\n",
       "      <td>1.004136</td>\n",
       "      <td>59.940409</td>\n",
       "      <td>1.109211</td>\n",
       "      <td>54.949117</td>\n",
       "    </tr>\n",
       "    <tr>\n",
       "      <th>9</th>\n",
       "      <td>9</td>\n",
       "      <td>0.989320</td>\n",
       "      <td>60.057714</td>\n",
       "      <td>1.064541</td>\n",
       "      <td>55.205933</td>\n",
       "    </tr>\n",
       "  </tbody>\n",
       "</table>\n",
       "</div>"
      ],
      "text/plain": [
       "   epoch  train_loss  train_acc  val_loss    val_acc\n",
       "0      0    1.359406  43.055556  1.358453  45.091686\n",
       "1      1    1.228594  50.598255  1.258267  48.173483\n",
       "2      2    1.163200  53.530875  1.233953  49.911194\n",
       "3      3    1.121639  55.356137  1.185892  50.664843\n",
       "4      4    1.086586  56.411881  1.190352  50.895257\n",
       "5      5    1.063109  57.469970  1.136671  53.470622\n",
       "6      6    1.042566  57.871152  1.098961  55.361943\n",
       "7      7    1.024855  58.532752  1.125536  53.638633\n",
       "8      8    1.004136  59.940409  1.109211  54.949117\n",
       "9      9    0.989320  60.057714  1.064541  55.205933"
      ]
     },
     "execution_count": 63,
     "metadata": {},
     "output_type": "execute_result"
    }
   ],
   "source": [
    "df_history_v5"
   ]
  },
  {
   "cell_type": "markdown",
   "metadata": {},
   "source": [
    "#### 2.4.2.4 Load Model"
   ]
  },
  {
   "cell_type": "code",
   "execution_count": 72,
   "metadata": {},
   "outputs": [
    {
     "data": {
      "text/plain": [
       "<All keys matched successfully>"
      ]
     },
     "execution_count": 72,
     "metadata": {},
     "output_type": "execute_result"
    }
   ],
   "source": [
    "# Load in the save state_dict()\n",
    "MODEL_PATH = Path(\"models\")\n",
    "MODEL_NAME = \"v5_Model.pth\"\n",
    "MODEL_SAVE_PATH = MODEL_PATH / MODEL_NAME\n",
    "\n",
    "# Create a new instance\n",
    "Loaded_model_v5 = CNNKeywordSpotter_v5(num_classes = 6)\n",
    "\n",
    "# Load Model\n",
    "Loaded_model_v5.load_state_dict(torch.load(f = MODEL_SAVE_PATH, map_location = 'cpu'))"
   ]
  },
  {
   "cell_type": "markdown",
   "metadata": {},
   "source": [
    "### 2.4.3 Evalulate Model"
   ]
  },
  {
   "cell_type": "code",
   "execution_count": 73,
   "metadata": {},
   "outputs": [],
   "source": [
    "y_preds = []\n",
    "y_trues = []"
   ]
  },
  {
   "cell_type": "code",
   "execution_count": 74,
   "metadata": {},
   "outputs": [
    {
     "name": "stderr",
     "output_type": "stream",
     "text": [
      "100%|██████████| 62/62 [00:01<00:00, 36.10it/s]"
     ]
    },
    {
     "name": "stdout",
     "output_type": "stream",
     "text": [
      "{'model_name': 'CNNKeywordSpotter_v5', 'model_loss': 1.1158703565597534, 'model_acc': 54.82190860215054}\n",
      "tensor([3, 1, 0,  ..., 3, 2, 3])\n",
      "tensor([3, 3, 2,  ..., 1, 2, 1])\n"
     ]
    },
    {
     "name": "stderr",
     "output_type": "stream",
     "text": [
      "\n"
     ]
    }
   ],
   "source": [
    "# Calculate model 0 results on test datasets\n",
    "model_v5_results = eval_model(model = Loaded_model_v5,\n",
    "                                    data_loader = test_dataloader,\n",
    "                                    loss_fn = loss_fn,\n",
    "                                    accuracy_fn = accuracy_fn)\n",
    "\n",
    "print(model_v5_results)\n",
    "# y_pred\n",
    "y_pred_tensor = torch.cat(y_preds)\n",
    "print(y_pred_tensor)\n",
    "# y_true\n",
    "y_true_tensor = torch.cat(y_trues)\n",
    "print(y_true_tensor)"
   ]
  },
  {
   "cell_type": "markdown",
   "metadata": {},
   "source": [
    "### 2.4.4 Confusion Matrix"
   ]
  },
  {
   "cell_type": "code",
   "execution_count": 75,
   "metadata": {},
   "outputs": [
    {
     "name": "stdout",
     "output_type": "stream",
     "text": [
      "tensor([[311,  42,  21,  18,   0,  13],\n",
      "        [ 21, 279,  10,  75,   0,  10],\n",
      "        [ 35,  21, 305,  27,   0,   0],\n",
      "        [ 17, 197,  27, 141,   0,   6],\n",
      "        [  0,   0,   0,   0,   0,   0],\n",
      "        [ 86, 170,  21,  76,   0,  47]])\n"
     ]
    }
   ],
   "source": [
    "from torchmetrics import ConfusionMatrix\n",
    "from mlxtend.plotting import plot_confusion_matrix\n",
    "\n",
    "# 2. Setup confusion instance and compare predictions to targets\n",
    "confmat = ConfusionMatrix(task = \"MULTICLASS\", num_classes = len(class_names))\n",
    "confmat_tensor = confmat(preds = y_pred_tensor,\n",
    "                         target = y_true_tensor)\n",
    "print(confmat_tensor)"
   ]
  },
  {
   "cell_type": "code",
   "execution_count": 76,
   "metadata": {},
   "outputs": [
    {
     "name": "stdout",
     "output_type": "stream",
     "text": [
      "torch.float32\n",
      "cpu\n"
     ]
    }
   ],
   "source": [
    "confmat_tensor = confmat_tensor.to(dtype=torch.float32).cpu()\n",
    "print(confmat_tensor.dtype)\n",
    "print(confmat_tensor.device)"
   ]
  },
  {
   "cell_type": "code",
   "execution_count": 77,
   "metadata": {},
   "outputs": [],
   "source": [
    "conf_mat = confmat_tensor.numpy()"
   ]
  },
  {
   "cell_type": "code",
   "execution_count": 78,
   "metadata": {},
   "outputs": [
    {
     "name": "stderr",
     "output_type": "stream",
     "text": [
      "/Users/Kpiano/miniconda3/lib/python3.12/site-packages/mlxtend/plotting/plot_confusion_matrix.py:102: RuntimeWarning: invalid value encountered in divide\n",
      "  normed_conf_mat = conf_mat.astype(\"float\") / total_samples\n"
     ]
    },
    {
     "data": {
      "image/png": "[encoded data removed]",
      "text/plain": [
       "<Figure size 1000x700 with 1 Axes>"
      ]
     },
     "metadata": {},
     "output_type": "display_data"
    }
   ],
   "source": [
    "# 3. Plot the confusion matrix\n",
    "fig, ax = plot_confusion_matrix(conf_mat = confmat_tensor.numpy(), # matplotlib likes to working with numpy\n",
    "                                class_names = class_names,\n",
    "                                figsize = (10, 7))"
   ]
  },
  {
   "cell_type": "markdown",
   "metadata": {},
   "source": [
    "-> Drop out only 구조로 확정"
   ]
  },
  {
   "cell_type": "markdown",
   "metadata": {},
   "source": [
    "# 3. Quantized Model"
   ]
  },
  {
   "cell_type": "markdown",
   "metadata": {},
   "source": [
    "## 3.0 Direction"
   ]
  },
  {
   "cell_type": "markdown",
   "metadata": {},
   "source": [
    "지금 정확도가 높고, 구조가 안정된 상태니까\n",
    "\n",
    "✅ “Post-training Quantization을 먼저 해보고” →\n",
    "\n",
    "📉 정확도 손실이 크면 → 그때 n_mfcc 등 입력 튜닝으로 가는 게 더 효율적이야."
   ]
  },
  {
   "cell_type": "markdown",
   "metadata": {},
   "source": [
    " Dropout-only 모델 → torch.quantization.quantize_dynamic() 적용\n",
    "\n",
    " 테스트 정확도 비교\n",
    "\n",
    " 모델 크기 .pt 비교\n",
    "\n",
    " ONNX 변환 & 추론 시간 측정까지 확장 가능"
   ]
  },
  {
   "cell_type": "markdown",
   "metadata": {},
   "source": [
    "## 3.1 Post- Training Quantization"
   ]
  },
  {
   "cell_type": "markdown",
   "metadata": {},
   "source": [
    "### 3.1.1 Make Quantized Model"
   ]
  },
  {
   "cell_type": "code",
   "execution_count": 16,
   "metadata": {},
   "outputs": [],
   "source": [
    "import torch.quantization\n",
    "import torch\n",
    "torch.backends.quantized.engine = 'fbgemm'"
   ]
  },
  {
   "cell_type": "code",
   "execution_count": 17,
   "metadata": {},
   "outputs": [],
   "source": [
    "class CNNKeywordSpotter_PTQ(nn.Module):\n",
    "    def __init__(self, num_classes=6):\n",
    "        super().__init__()\n",
    "        self.quant = torch.quantization.QuantStub()\n",
    "\n",
    "        self.conv_relu1 = nn.Sequential(\n",
    "            nn.Conv2d(1, 16, kernel_size=3, padding=1),\n",
    "            nn.ReLU()\n",
    "        )\n",
    "        self.pool1 = nn.MaxPool2d(2)\n",
    "        self.drop1 = nn.Dropout(0.3)\n",
    "\n",
    "        self.conv_relu2 = nn.Sequential(\n",
    "            nn.Conv2d(16, 32, kernel_size=3, padding=1),\n",
    "            nn.ReLU()\n",
    "        )\n",
    "        self.pool2 = nn.AdaptiveAvgPool2d((1, 1))\n",
    "\n",
    "        self.fc = nn.Linear(32, num_classes)\n",
    "        self.dequant = torch.quantization.DeQuantStub()\n",
    "\n",
    "    def forward(self, x):\n",
    "        x = self.quant(x)\n",
    "\n",
    "        x = self.conv_relu1(x)\n",
    "        x = self.pool1(x)\n",
    "        x = self.drop1(x)\n",
    "\n",
    "        x = self.conv_relu2(x)\n",
    "        x = self.pool2(x)\n",
    "\n",
    "        x = x.view(x.size(0), -1)\n",
    "        x = self.fc(x)\n",
    "\n",
    "        x = self.dequant(x)\n",
    "        return x\n"
   ]
  },
  {
   "cell_type": "code",
   "execution_count": 18,
   "metadata": {},
   "outputs": [],
   "source": [
    "# Create a new instance\n",
    "model_fp32 = CNNKeywordSpotter_PTQ(num_classes = 6)"
   ]
  },
  {
   "cell_type": "code",
   "execution_count": 19,
   "metadata": {},
   "outputs": [
    {
     "data": {
      "text/plain": [
       "CNNKeywordSpotter_PTQ(\n",
       "  (quant): QuantStub()\n",
       "  (conv_relu1): Sequential(\n",
       "    (0): ConvReLU2d(\n",
       "      (0): Conv2d(1, 16, kernel_size=(3, 3), stride=(1, 1), padding=(1, 1))\n",
       "      (1): ReLU()\n",
       "    )\n",
       "    (1): Identity()\n",
       "  )\n",
       "  (pool1): MaxPool2d(kernel_size=2, stride=2, padding=0, dilation=1, ceil_mode=False)\n",
       "  (drop1): Dropout(p=0.3, inplace=False)\n",
       "  (conv_relu2): Sequential(\n",
       "    (0): ConvReLU2d(\n",
       "      (0): Conv2d(16, 32, kernel_size=(3, 3), stride=(1, 1), padding=(1, 1))\n",
       "      (1): ReLU()\n",
       "    )\n",
       "    (1): Identity()\n",
       "  )\n",
       "  (pool2): AdaptiveAvgPool2d(output_size=(1, 1))\n",
       "  (fc): Linear(in_features=32, out_features=6, bias=True)\n",
       "  (dequant): DeQuantStub()\n",
       ")"
      ]
     },
     "execution_count": 19,
     "metadata": {},
     "output_type": "execute_result"
    }
   ],
   "source": [
    "model_fp32.eval()\n",
    "torch.quantization.fuse_modules(\n",
    "    model_fp32,\n",
    "    [['conv_relu1.0', 'conv_relu1.1'],\n",
    "     ['conv_relu2.0', 'conv_relu2.1']],\n",
    "     inplace = True)"
   ]
  },
  {
   "cell_type": "code",
   "execution_count": 20,
   "metadata": {},
   "outputs": [
    {
     "data": {
      "text/plain": [
       "odict_keys(['conv_relu1.0.0.weight', 'conv_relu1.0.0.bias', 'conv_relu2.0.0.weight', 'conv_relu2.0.0.bias', 'fc.weight', 'fc.bias'])"
      ]
     },
     "execution_count": 20,
     "metadata": {},
     "output_type": "execute_result"
    }
   ],
   "source": [
    "model_fp32.state_dict().keys()"
   ]
  },
  {
   "cell_type": "code",
   "execution_count": 21,
   "metadata": {},
   "outputs": [],
   "source": [
    "# Load in the save state_dict()\n",
    "MODEL_PATH = Path(\"models\")\n",
    "MODEL_NAME = \"v4_Model.pth\"\n",
    "MODEL_SAVE_PATH = MODEL_PATH / MODEL_NAME\n",
    "\n",
    "# Load Model\n",
    "old_state_dict = torch.load(f = MODEL_SAVE_PATH, map_location = 'cpu')\n",
    "new_state_dict = {}"
   ]
  },
  {
   "cell_type": "code",
   "execution_count": 22,
   "metadata": {},
   "outputs": [
    {
     "data": {
      "text/plain": [
       "<All keys matched successfully>"
      ]
     },
     "execution_count": 22,
     "metadata": {},
     "output_type": "execute_result"
    }
   ],
   "source": [
    "key_map = {\n",
    "    \"cnn.0.weight\": \"conv_relu1.0.0.weight\",\n",
    "    \"cnn.0.bias\":   \"conv_relu1.0.0.bias\",\n",
    "    \"cnn.4.weight\": \"conv_relu2.0.0.weight\",\n",
    "    \"cnn.4.bias\":   \"conv_relu2.0.0.bias\",\n",
    "    \"fc.weight\":    \"fc.weight\",\n",
    "    \"fc.bias\":      \"fc.bias\"\n",
    "}\n",
    "\n",
    "for old_key, new_key in key_map.items():\n",
    "    if old_key in old_state_dict:\n",
    "        new_state_dict[new_key] = old_state_dict[old_key]\n",
    "    else:\n",
    "        print(f\"[WARNING] Key not found: {old_key}\")\n",
    "\n",
    "model_fp32.load_state_dict(new_state_dict, strict=False)"
   ]
  },
  {
   "cell_type": "code",
   "execution_count": 23,
   "metadata": {},
   "outputs": [],
   "source": [
    "model_fp32.qconfig = torch.quantization.get_default_qconfig('fbgemm')"
   ]
  },
  {
   "cell_type": "code",
   "execution_count": 24,
   "metadata": {},
   "outputs": [
    {
     "name": "stderr",
     "output_type": "stream",
     "text": [
      "c:\\Users\\Minseo\\AppData\\Local\\Programs\\Python\\Python313\\Lib\\site-packages\\torch\\ao\\quantization\\observer.py:244: UserWarning: Please use quant_min and quant_max to specify the range for observers.                     reduce_range will be deprecated in a future release of PyTorch.\n",
      "  warnings.warn(\n"
     ]
    }
   ],
   "source": [
    "model_prepared = torch.quantization.prepare(model_fp32)"
   ]
  },
  {
   "cell_type": "code",
   "execution_count": 25,
   "metadata": {},
   "outputs": [],
   "source": [
    "model_prepared.eval()\n",
    "with torch.no_grad():\n",
    "    for X_calib, _ in train_dataloader:  # calibration 용 dataloader (한 100~200개면 충분)\n",
    "        model_prepared(X_calib)"
   ]
  },
  {
   "cell_type": "code",
   "execution_count": 26,
   "metadata": {},
   "outputs": [],
   "source": [
    "model_int8 = torch.quantization.convert(model_prepared)"
   ]
  },
  {
   "cell_type": "code",
   "execution_count": 27,
   "metadata": {},
   "outputs": [
    {
     "name": "stdout",
     "output_type": "stream",
     "text": [
      "odict_keys(['quant.scale', 'quant.zero_point', 'conv_relu1.0.weight', 'conv_relu1.0.bias', 'conv_relu1.0.scale', 'conv_relu1.0.zero_point', 'conv_relu2.0.weight', 'conv_relu2.0.bias', 'conv_relu2.0.scale', 'conv_relu2.0.zero_point', 'fc.scale', 'fc.zero_point', 'fc._packed_params.dtype', 'fc._packed_params._packed_params'])\n"
     ]
    }
   ],
   "source": [
    "print(model_int8.state_dict().keys())"
   ]
  },
  {
   "cell_type": "markdown",
   "metadata": {},
   "source": [
    "### 3.1.2 Evaluate Model"
   ]
  },
  {
   "cell_type": "code",
   "execution_count": 28,
   "metadata": {},
   "outputs": [],
   "source": [
    "y_preds = []\n",
    "y_trues = []"
   ]
  },
  {
   "cell_type": "code",
   "execution_count": 29,
   "metadata": {},
   "outputs": [
    {
     "name": "stdout",
     "output_type": "stream",
     "text": [
      "['none', 'onednn', 'x86', 'fbgemm']\n"
     ]
    }
   ],
   "source": [
    "import torch\n",
    "print(torch.backends.quantized.supported_engines)"
   ]
  },
  {
   "cell_type": "code",
   "execution_count": 31,
   "metadata": {},
   "outputs": [],
   "source": [
    "loss_fn = nn.CrossEntropyLoss()"
   ]
  },
  {
   "cell_type": "code",
   "execution_count": 32,
   "metadata": {},
   "outputs": [
    {
     "name": "stderr",
     "output_type": "stream",
     "text": [
      "100%|██████████| 62/62 [00:25<00:00,  2.41it/s]"
     ]
    },
    {
     "name": "stdout",
     "output_type": "stream",
     "text": [
      "{'model_name': 'CNNKeywordSpotter_PTQ', 'model_loss': 1.1802372932434082, 'model_acc': 59.96303763440861}\n",
      "tensor([5, 0, 5,  ..., 1, 1, 3])\n",
      "tensor([5, 3, 3,  ..., 3, 1, 5])\n"
     ]
    },
    {
     "name": "stderr",
     "output_type": "stream",
     "text": [
      "\n"
     ]
    }
   ],
   "source": [
    "# Calculate model 0 results on test datasets\n",
    "model_PTQ_results = eval_model(model = model_int8,\n",
    "                                    data_loader = test_dataloader,\n",
    "                                    loss_fn = loss_fn,\n",
    "                                    accuracy_fn = accuracy_fn)\n",
    "\n",
    "print(model_PTQ_results)\n",
    "# y_pred\n",
    "y_pred_tensor = torch.cat(y_preds)\n",
    "print(y_pred_tensor)\n",
    "# y_true\n",
    "y_true_tensor = torch.cat(y_trues)\n",
    "print(y_true_tensor)"
   ]
  },
  {
   "cell_type": "markdown",
   "metadata": {},
   "source": [
    "### 3.1.3 Confusion Matrix"
   ]
  },
  {
   "cell_type": "code",
   "execution_count": 33,
   "metadata": {},
   "outputs": [
    {
     "ename": "NameError",
     "evalue": "name 'class_names' is not defined",
     "output_type": "error",
     "traceback": [
      "\u001b[31m---------------------------------------------------------------------------\u001b[39m",
      "\u001b[31mNameError\u001b[39m                                 Traceback (most recent call last)",
      "\u001b[36mCell\u001b[39m\u001b[36m \u001b[39m\u001b[32mIn[33]\u001b[39m\u001b[32m, line 5\u001b[39m\n\u001b[32m      2\u001b[39m \u001b[38;5;28;01mfrom\u001b[39;00m\u001b[38;5;250m \u001b[39m\u001b[34;01mmlxtend\u001b[39;00m\u001b[34;01m.\u001b[39;00m\u001b[34;01mplotting\u001b[39;00m\u001b[38;5;250m \u001b[39m\u001b[38;5;28;01mimport\u001b[39;00m plot_confusion_matrix\n\u001b[32m      4\u001b[39m \u001b[38;5;66;03m# 2. Setup confusion instance and compare predictions to targets\u001b[39;00m\n\u001b[32m----> \u001b[39m\u001b[32m5\u001b[39m confmat = ConfusionMatrix(task = \u001b[33m\"\u001b[39m\u001b[33mMULTICLASS\u001b[39m\u001b[33m\"\u001b[39m, num_classes = \u001b[38;5;28mlen\u001b[39m(\u001b[43mclass_names\u001b[49m))\n\u001b[32m      6\u001b[39m confmat_tensor = confmat(preds = y_pred_tensor,\n\u001b[32m      7\u001b[39m                          target = y_true_tensor)\n\u001b[32m      8\u001b[39m \u001b[38;5;28mprint\u001b[39m(confmat_tensor)\n",
      "\u001b[31mNameError\u001b[39m: name 'class_names' is not defined"
     ]
    }
   ],
   "source": [
    "from torchmetrics import ConfusionMatrix\n",
    "from mlxtend.plotting import plot_confusion_matrix\n",
    "\n",
    "# 2. Setup confusion instance and compare predictions to targets\n",
    "confmat = ConfusionMatrix(task = \"MULTICLASS\", num_classes = len(class_names))\n",
    "confmat_tensor = confmat(preds = y_pred_tensor,\n",
    "                         target = y_true_tensor)\n",
    "print(confmat_tensor)"
   ]
  },
  {
   "cell_type": "code",
   "execution_count": 351,
   "metadata": {},
   "outputs": [
    {
     "name": "stdout",
     "output_type": "stream",
     "text": [
      "torch.float32\n",
      "cpu\n"
     ]
    }
   ],
   "source": [
    "confmat_tensor = confmat_tensor.to(dtype=torch.float32).cpu()\n",
    "print(confmat_tensor.dtype)\n",
    "print(confmat_tensor.device)"
   ]
  },
  {
   "cell_type": "code",
   "execution_count": 352,
   "metadata": {},
   "outputs": [],
   "source": [
    "conf_mat = confmat_tensor.numpy()"
   ]
  },
  {
   "cell_type": "code",
   "execution_count": 353,
   "metadata": {},
   "outputs": [
    {
     "name": "stderr",
     "output_type": "stream",
     "text": [
      "/Users/Kpiano/miniconda3/lib/python3.12/site-packages/mlxtend/plotting/plot_confusion_matrix.py:102: RuntimeWarning: invalid value encountered in divide\n",
      "  normed_conf_mat = conf_mat.astype(\"float\") / total_samples\n"
     ]
    },
    {
     "data": {
      "image/png": "[encoded data removed]",
      "text/plain": [
       "<Figure size 1000x700 with 1 Axes>"
      ]
     },
     "metadata": {},
     "output_type": "display_data"
    }
   ],
   "source": [
    "# 3. Plot the confusion matrix\n",
    "fig, ax = plot_confusion_matrix(conf_mat = confmat_tensor.numpy(), # matplotlib likes to working with numpy\n",
    "                                class_names = class_names,\n",
    "                                figsize = (10, 7))"
   ]
  },
  {
   "cell_type": "markdown",
   "metadata": {},
   "source": [
    "## 3.2 Quantization-Aware Training"
   ]
  },
  {
   "cell_type": "markdown",
   "metadata": {},
   "source": [
    "### 3.2.1 Build a Model with QAT"
   ]
  },
  {
   "cell_type": "code",
   "execution_count": 8,
   "metadata": {},
   "outputs": [],
   "source": [
    "from torch.autograd.function import InplaceFunction\n",
    "import torch.nn.functional as F"
   ]
  },
  {
   "cell_type": "code",
   "execution_count": 9,
   "metadata": {},
   "outputs": [],
   "source": [
    "# min_value과 max_value(-2^(8-1) ~ 2^(8-1)-1)를 넘어가는 값을 자른다.\n",
    "def clip(input, qbit):\n",
    "    max_value = 2.**(qbit-1) - 1\n",
    "    min_value = -2.**(qbit-1)\n",
    "    output = torch.clamp(input = input, min = min_value, max = max_value)\n",
    "    return output"
   ]
  },
  {
   "cell_type": "code",
   "execution_count": 10,
   "metadata": {},
   "outputs": [],
   "source": [
    "class UniformQuantize(InplaceFunction):\n",
    "    @classmethod\n",
    "    def forward(cls, ctx, input, qbit):\n",
    "        qmax = 2.**(qbit-1) - 1\n",
    "        scale = torch.max(torch.abs(input)).item() / qmax\n",
    "        scale = max(scale, 1e-8)\n",
    "        output = clip(torch.round(input / scale), qbit)\n",
    "        output.mul_(scale)\n",
    "        return output\n",
    "    @staticmethod\n",
    "    def backward(ctx, grad_output):\n",
    "        grad_input = grad_output\n",
    "        return grad_input, None"
   ]
  },
  {
   "cell_type": "code",
   "execution_count": 11,
   "metadata": {},
   "outputs": [],
   "source": [
    "def quant_minmax(input, qbit):\n",
    "  return UniformQuantize().apply(input, qbit)"
   ]
  },
  {
   "cell_type": "code",
   "execution_count": 12,
   "metadata": {},
   "outputs": [],
   "source": [
    "class MinMaxTracker:\n",
    "    def __init__(self, momentum=0.99):\n",
    "        self.min_val = None\n",
    "        self.max_val = None\n",
    "        self.momentum = momentum\n",
    "\n",
    "    def update(self, x):\n",
    "        batch_min = x.min().item()\n",
    "        batch_max = x.max().item()\n",
    "        if self.min_val is None:\n",
    "            self.min_val = batch_min\n",
    "            self.max_val = batch_max\n",
    "        else:\n",
    "            self.min_val = self.momentum * self.min_val + (1 - self.momentum) * batch_min\n",
    "            self.max_val = self.momentum * self.max_val + (1 - self.momentum) * batch_max\n",
    "\n",
    "    def get(self):\n",
    "        return self.min_val, self.max_val"
   ]
  },
  {
   "cell_type": "code",
   "execution_count": 13,
   "metadata": {},
   "outputs": [],
   "source": [
    "class QLinear(nn.Linear):\n",
    "  def __init__(self, in_features, out_features, bias = True, quantize = True, bita = 8, bitw = 8):\n",
    "    super().__init__(in_features, out_features, bias = bias)\n",
    "    self.in_features = in_features\n",
    "    self.out_features = out_features\n",
    "    self._bias = bias\n",
    "    self.quantize = quantize\n",
    "    self.bita = bita\n",
    "    self.bitw = bitw\n",
    "    self.input_tracker = MinMaxTracker(momentum = 0.95)\n",
    "    self.register_buffer(\"scale_i\", torch.tensor(0.0))\n",
    "    self.register_buffer(\"scale_w\", torch.tensor(0.0))\n",
    "    self.register_buffer(\"bias_q\", torch.zeros_like(self.bias.data))\n",
    "    self.register_buffer(\"weight_q\", torch.zeros_like(self.weight.data))\n",
    "\n",
    "  def freeze(self):\n",
    "    # 1. input scale 계산\n",
    "    x_min, x_max = self.input_tracker.get()\n",
    "    max_input = max(abs(x_min), abs(x_max))\n",
    "    self.scale_i.copy_(torch.tensor(max_input / (2**(self.bita-1) - 1)))\n",
    "\n",
    "    # 2. weight scale 계산\n",
    "    max_weight = torch.max(torch.abs(self.weight.data)).item()\n",
    "    self.scale_w.copy_(torch.tensor(max_weight / (2**(self.bitw - 1) - 1)))\n",
    "\n",
    "    # 3. weight 양자화\n",
    "    self.weight_q.copy_(torch.round(self.weight.data / self.scale_w))\n",
    "\n",
    "    # 4. bias 양자화\n",
    "    if self.bias is not None:\n",
    "      self.bias_q.copy_(torch.round(self.bias.data / (self.scale_i * self.scale_w)))\n",
    "\n",
    "  def forward(self, input):\n",
    "    if self.quantize:\n",
    "      # 매번 update (훈련 중)\n",
    "      if self.training:\n",
    "        self.input_tracker.update(input)\n",
    "        # 훈련 중일 때 Fake Quantization 적용\n",
    "        Qinput = quant_minmax(input, qbit = self.bita)\n",
    "        Qweight = quant_minmax(self.weight, qbit = self.bitw)\n",
    "        bias = self.bias\n",
    "      else:\n",
    "        # 추론 시에는 고정된 scale로 양자화\n",
    "        Qinput = torch.round(input / self.scale_i)\n",
    "        Qweight = torch.round(self.weight / self.scale_w)\n",
    "        bias = self.bias_q if self.bias is not None else None\n",
    "      # Fully connected Layer  \n",
    "      y = F.linear(Qinput, Qweight, bias)\n",
    "\n",
    "      # Dequantization\n",
    "      if not self.training:\n",
    "        y = y * (self.scale_i * self.scale_w)\n",
    "\n",
    "      return y\n",
    "    else:\n",
    "      return F.linear(input, self.weight, self.bias if self._bias else None)"
   ]
  },
  {
   "cell_type": "code",
   "execution_count": 14,
   "metadata": {},
   "outputs": [],
   "source": [
    "class QConv2d(nn.Conv2d):\n",
    "    def __init__(self, in_channels, out_channels, kernel_size, quantize = True, bita = 8, bitw = 8, **kwargs):\n",
    "        super().__init__(in_channels, out_channels, kernel_size, **kwargs)\n",
    "        self.quantize = quantize\n",
    "        self.bita = bita\n",
    "        self.bitw = bitw\n",
    "        self.input_tracker = MinMaxTracker(momentum = 0.95)\n",
    "        self.register_buffer(\"scale_i\", torch.tensor(0.0))\n",
    "        self.register_buffer(\"scale_w\", torch.tensor(0.0))\n",
    "        self.register_buffer(\"bias_q\", torch.zeros_like(self.bias.data))\n",
    "        self.register_buffer(\"weight_q\", torch.zeros_like(self.weight.data))\n",
    "\n",
    "    def freeze(self):\n",
    "        # 1. input scale (symmetric)\n",
    "        x_min, x_max = self.input_tracker.get()\n",
    "        max_input = max(abs(x_min), abs(x_max))\n",
    "        self.scale_i.copy_(torch.tensor(max_input / (2**(self.bita-1) - 1)))\n",
    "\n",
    "        # 2. weight scale (symmetric)\n",
    "        max_weight = torch.max(torch.abs(self.weight.data)).item()\n",
    "        self.scale_w.copy_(torch.tensor(max_weight / (2**(self.bitw - 1) - 1)))\n",
    "\n",
    "        # 3. weight quantization\n",
    "        self.weight_q.copy_(torch.round(self.weight.data / self.scale_w))\n",
    "\n",
    "        # 4. bias quantization\n",
    "        if self.bias is not None:\n",
    "            self.bias_q.copy_(torch.round(self.bias.data / (self.scale_i * self.scale_w)))\n",
    "\n",
    "    def forward(self, input):\n",
    "        if self.quantize:\n",
    "            if self.training:\n",
    "                self.input_tracker.update(input)\n",
    "                Qinput = quant_minmax(input, qbit=self.bita)\n",
    "                Qweight = quant_minmax(self.weight, qbit=self.bitw)\n",
    "                bias = self.bias\n",
    "            else:\n",
    "                Qinput = torch.round(input / self.scale_i)\n",
    "                Qweight = torch.round(self.weight / self.scale_w)\n",
    "                bias = self.bias_q if self.bias is not None else None\n",
    "            \n",
    "            y = F.conv2d(Qinput, Qweight, bias, stride = self.stride, padding = self.padding, dilation = self.dilation, groups = self.groups)\n",
    "\n",
    "            # Dequantization\n",
    "            if not self.training:\n",
    "                y = y * (self.scale_i * self.scale_w)\n",
    "\n",
    "            return y\n",
    "        else:\n",
    "            return F.conv2d(input, self.weight, self.bias, stride = self.stride, padding = self.padding, dilation = self.dilation, groups = self.groups)"
   ]
  },
  {
   "cell_type": "code",
   "execution_count": 15,
   "metadata": {},
   "outputs": [],
   "source": [
    "class CNNKeywordSpotter_QAT(nn.Module):\n",
    "    def __init__(self, num_classes=6):\n",
    "        super().__init__()\n",
    "        self.cnn = nn.Sequential(\n",
    "            QConv2d(in_channels = 1, out_channels = 16, kernel_size = 3, quantize = True, padding = 1),\n",
    "            nn.ReLU(),\n",
    "            nn.MaxPool2d(2),\n",
    "            nn.Dropout(0.3),\n",
    "\n",
    "            QConv2d(in_channels = 16, out_channels = 32, kernel_size = 3, quantize = True, padding = 1),\n",
    "            nn.ReLU(),\n",
    "            nn.AdaptiveAvgPool2d((1, 1)),\n",
    "        )\n",
    "\n",
    "        # 여기를 QLinear로 교체!\n",
    "        self.fc = QLinear(in_features = 32, out_features = num_classes, quantize = True, bita = 8, bitw = 8)\n",
    "\n",
    "    def forward(self, x):\n",
    "        x = self.cnn(x)\n",
    "        x = x.view(x.size(0), -1)\n",
    "        return self.fc(x)"
   ]
  },
  {
   "cell_type": "code",
   "execution_count": 16,
   "metadata": {},
   "outputs": [],
   "source": [
    "model_QAT = CNNKeywordSpotter_QAT(num_classes = 6)"
   ]
  },
  {
   "cell_type": "code",
   "execution_count": 17,
   "metadata": {},
   "outputs": [],
   "source": [
    "# Setup Loss function and optimizer\n",
    "loss_fn = nn.CrossEntropyLoss()\n",
    "optimizer = torch.optim.Adam(model_QAT.parameters(), lr = 0.001)"
   ]
  },
  {
   "cell_type": "markdown",
   "metadata": {},
   "source": [
    "### 3.2.2 Training Loop"
   ]
  },
  {
   "cell_type": "markdown",
   "metadata": {},
   "source": [
    "#### 3.2.2.1 Collect Data"
   ]
  },
  {
   "cell_type": "code",
   "execution_count": 89,
   "metadata": {},
   "outputs": [],
   "source": [
    "history_QAT = {\"epoch\" : [],\n",
    "              \"train_loss\" : [],\n",
    "              \"train_acc\" : [],\n",
    "              \"val_loss\" : [],\n",
    "              \"val_acc\" : []}"
   ]
  },
  {
   "cell_type": "markdown",
   "metadata": {},
   "source": [
    "#### 3.2.2.2 Implement"
   ]
  },
  {
   "cell_type": "code",
   "execution_count": 90,
   "metadata": {},
   "outputs": [],
   "source": [
    "# Set the number of epochs\n",
    "max_epochs = 100"
   ]
  },
  {
   "cell_type": "code",
   "execution_count": 91,
   "metadata": {},
   "outputs": [
    {
     "name": "stderr",
     "output_type": "stream",
     "text": [
      "  0%|          | 0/100 [00:00<?, ?it/s]"
     ]
    },
    {
     "name": "stdout",
     "output_type": "stream",
     "text": [
      "Epoch: 0\n",
      "-------------\n",
      "Train loss: 1.38617 | Train acc: 40.84%\n"
     ]
    },
    {
     "name": "stderr",
     "output_type": "stream",
     "text": [
      "  1%|          | 1/100 [00:20<33:33, 20.34s/it]"
     ]
    },
    {
     "name": "stdout",
     "output_type": "stream",
     "text": [
      "Test loss: 1.33997 | Test acc : 41.49%\n",
      "Saving Model to models/QAT_Model_float.pth\n",
      "Epoch: 1\n",
      "-------------\n",
      "Train loss: 1.13716 | Train acc: 54.14%\n"
     ]
    },
    {
     "name": "stderr",
     "output_type": "stream",
     "text": [
      "  2%|▏         | 2/100 [00:40<33:14, 20.35s/it]"
     ]
    },
    {
     "name": "stdout",
     "output_type": "stream",
     "text": [
      "Test loss: 1.09962 | Test acc : 55.92%\n",
      "Saving Model to models/QAT_Model_float.pth\n",
      "Epoch: 2\n",
      "-------------\n",
      "Train loss: 1.00206 | Train acc: 59.74%\n"
     ]
    },
    {
     "name": "stderr",
     "output_type": "stream",
     "text": [
      "  3%|▎         | 3/100 [01:02<33:44, 20.87s/it]"
     ]
    },
    {
     "name": "stdout",
     "output_type": "stream",
     "text": [
      "Test loss: 1.01368 | Test acc : 56.16%\n",
      "Saving Model to models/QAT_Model_float.pth\n",
      "Epoch: 3\n",
      "-------------\n",
      "Train loss: 0.92871 | Train acc: 63.06%\n"
     ]
    },
    {
     "name": "stderr",
     "output_type": "stream",
     "text": [
      "  4%|▍         | 4/100 [01:24<34:11, 21.37s/it]"
     ]
    },
    {
     "name": "stdout",
     "output_type": "stream",
     "text": [
      "Test loss: 0.96483 | Test acc : 60.55%\n",
      "Saving Model to models/QAT_Model_float.pth\n",
      "Epoch: 4\n",
      "-------------\n",
      "Train loss: 0.85556 | Train acc: 66.98%\n"
     ]
    },
    {
     "name": "stderr",
     "output_type": "stream",
     "text": [
      "  5%|▌         | 5/100 [01:46<34:16, 21.65s/it]"
     ]
    },
    {
     "name": "stdout",
     "output_type": "stream",
     "text": [
      "Test loss: 0.92926 | Test acc : 63.37%\n",
      "Saving Model to models/QAT_Model_float.pth\n",
      "Epoch: 5\n",
      "-------------\n",
      "Train loss: 0.81042 | Train acc: 69.22%\n"
     ]
    },
    {
     "name": "stderr",
     "output_type": "stream",
     "text": [
      "  6%|▌         | 6/100 [02:08<34:02, 21.73s/it]"
     ]
    },
    {
     "name": "stdout",
     "output_type": "stream",
     "text": [
      "Test loss: 0.83932 | Test acc : 68.94%\n",
      "Saving Model to models/QAT_Model_float.pth\n",
      "Epoch: 6\n",
      "-------------\n",
      "Train loss: 0.75938 | Train acc: 71.83%\n"
     ]
    },
    {
     "name": "stderr",
     "output_type": "stream",
     "text": [
      "  7%|▋         | 7/100 [02:30<33:39, 21.72s/it]"
     ]
    },
    {
     "name": "stdout",
     "output_type": "stream",
     "text": [
      "Test loss: 0.83314 | Test acc : 68.67%\n",
      "Epoch: 7\n",
      "-------------\n",
      "Train loss: 0.71773 | Train acc: 73.86%\n"
     ]
    },
    {
     "name": "stderr",
     "output_type": "stream",
     "text": [
      "  8%|▊         | 8/100 [02:53<34:13, 22.32s/it]"
     ]
    },
    {
     "name": "stdout",
     "output_type": "stream",
     "text": [
      "Test loss: 0.79893 | Test acc : 71.99%\n",
      "Saving Model to models/QAT_Model_float.pth\n",
      "Epoch: 8\n",
      "-------------\n",
      "Train loss: 0.68357 | Train acc: 75.27%\n"
     ]
    },
    {
     "name": "stderr",
     "output_type": "stream",
     "text": [
      "  9%|▉         | 9/100 [03:17<34:25, 22.70s/it]"
     ]
    },
    {
     "name": "stdout",
     "output_type": "stream",
     "text": [
      "Test loss: 0.71978 | Test acc : 75.65%\n",
      "Saving Model to models/QAT_Model_float.pth\n",
      "Epoch: 9\n",
      "-------------\n",
      "Train loss: 0.63485 | Train acc: 77.39%\n"
     ]
    },
    {
     "name": "stderr",
     "output_type": "stream",
     "text": [
      " 10%|█         | 10/100 [03:40<34:14, 22.83s/it]"
     ]
    },
    {
     "name": "stdout",
     "output_type": "stream",
     "text": [
      "Test loss: 0.71914 | Test acc : 75.30%\n",
      "Epoch: 10\n",
      "-------------\n",
      "Train loss: 0.60496 | Train acc: 78.54%\n"
     ]
    },
    {
     "name": "stderr",
     "output_type": "stream",
     "text": [
      " 11%|█         | 11/100 [04:03<34:00, 22.93s/it]"
     ]
    },
    {
     "name": "stdout",
     "output_type": "stream",
     "text": [
      "Test loss: 0.66572 | Test acc : 77.36%\n",
      "Saving Model to models/QAT_Model_float.pth\n",
      "Epoch: 11\n",
      "-------------\n",
      "Train loss: 0.57270 | Train acc: 79.74%\n"
     ]
    },
    {
     "name": "stderr",
     "output_type": "stream",
     "text": [
      " 12%|█▏        | 12/100 [04:27<34:13, 23.34s/it]"
     ]
    },
    {
     "name": "stdout",
     "output_type": "stream",
     "text": [
      "Test loss: 0.64485 | Test acc : 75.92%\n",
      "Epoch: 12\n",
      "-------------\n",
      "Train loss: 0.55985 | Train acc: 79.95%\n"
     ]
    },
    {
     "name": "stderr",
     "output_type": "stream",
     "text": [
      " 13%|█▎        | 13/100 [04:51<33:59, 23.44s/it]"
     ]
    },
    {
     "name": "stdout",
     "output_type": "stream",
     "text": [
      "Test loss: 0.59834 | Test acc : 78.42%\n",
      "Saving Model to models/QAT_Model_float.pth\n",
      "Epoch: 13\n",
      "-------------\n",
      "Train loss: 0.52561 | Train acc: 81.37%\n"
     ]
    },
    {
     "name": "stderr",
     "output_type": "stream",
     "text": [
      " 14%|█▍        | 14/100 [05:15<33:41, 23.50s/it]"
     ]
    },
    {
     "name": "stdout",
     "output_type": "stream",
     "text": [
      "Test loss: 0.57755 | Test acc : 80.89%\n",
      "Saving Model to models/QAT_Model_float.pth\n",
      "Epoch: 14\n",
      "-------------\n",
      "Train loss: 0.50667 | Train acc: 82.52%\n"
     ]
    },
    {
     "name": "stderr",
     "output_type": "stream",
     "text": [
      " 15%|█▌        | 15/100 [05:38<33:23, 23.57s/it]"
     ]
    },
    {
     "name": "stdout",
     "output_type": "stream",
     "text": [
      "Test loss: 0.53955 | Test acc : 81.72%\n",
      "Saving Model to models/QAT_Model_float.pth\n",
      "Epoch: 15\n",
      "-------------\n",
      "Train loss: 0.48281 | Train acc: 83.19%\n"
     ]
    },
    {
     "name": "stderr",
     "output_type": "stream",
     "text": [
      " 16%|█▌        | 16/100 [06:03<33:27, 23.90s/it]"
     ]
    },
    {
     "name": "stdout",
     "output_type": "stream",
     "text": [
      "Test loss: 0.55419 | Test acc : 81.22%\n",
      "Epoch: 16\n",
      "-------------\n",
      "Train loss: 0.46805 | Train acc: 83.46%\n"
     ]
    },
    {
     "name": "stderr",
     "output_type": "stream",
     "text": [
      " 17%|█▋        | 17/100 [06:27<33:07, 23.94s/it]"
     ]
    },
    {
     "name": "stdout",
     "output_type": "stream",
     "text": [
      "Test loss: 0.54874 | Test acc : 80.49%\n",
      "Epoch: 17\n",
      "-------------\n",
      "Train loss: 0.45616 | Train acc: 83.70%\n"
     ]
    },
    {
     "name": "stderr",
     "output_type": "stream",
     "text": [
      " 18%|█▊        | 18/100 [06:51<32:42, 23.93s/it]"
     ]
    },
    {
     "name": "stdout",
     "output_type": "stream",
     "text": [
      "Test loss: 0.45634 | Test acc : 84.82%\n",
      "Saving Model to models/QAT_Model_float.pth\n",
      "Epoch: 18\n",
      "-------------\n",
      "Train loss: 0.43348 | Train acc: 84.85%\n"
     ]
    },
    {
     "name": "stderr",
     "output_type": "stream",
     "text": [
      " 19%|█▉        | 19/100 [07:15<32:31, 24.10s/it]"
     ]
    },
    {
     "name": "stdout",
     "output_type": "stream",
     "text": [
      "Test loss: 0.43327 | Test acc : 86.14%\n",
      "Saving Model to models/QAT_Model_float.pth\n",
      "Epoch: 19\n",
      "-------------\n",
      "Train loss: 0.42759 | Train acc: 84.90%\n"
     ]
    },
    {
     "name": "stderr",
     "output_type": "stream",
     "text": [
      " 20%|██        | 20/100 [07:40<32:14, 24.19s/it]"
     ]
    },
    {
     "name": "stdout",
     "output_type": "stream",
     "text": [
      "Test loss: 0.43853 | Test acc : 85.48%\n",
      "Epoch: 20\n",
      "-------------\n",
      "Train loss: 0.41262 | Train acc: 85.57%\n"
     ]
    },
    {
     "name": "stderr",
     "output_type": "stream",
     "text": [
      " 21%|██        | 21/100 [08:05<32:19, 24.55s/it]"
     ]
    },
    {
     "name": "stdout",
     "output_type": "stream",
     "text": [
      "Test loss: 0.41715 | Test acc : 86.59%\n",
      "Saving Model to models/QAT_Model_float.pth\n",
      "Epoch: 21\n",
      "-------------\n",
      "Train loss: 0.40525 | Train acc: 86.01%\n"
     ]
    },
    {
     "name": "stderr",
     "output_type": "stream",
     "text": [
      " 22%|██▏       | 22/100 [08:30<32:01, 24.63s/it]"
     ]
    },
    {
     "name": "stdout",
     "output_type": "stream",
     "text": [
      "Test loss: 0.42119 | Test acc : 86.04%\n",
      "Epoch: 22\n",
      "-------------\n",
      "Train loss: 0.40545 | Train acc: 85.79%\n"
     ]
    },
    {
     "name": "stderr",
     "output_type": "stream",
     "text": [
      " 23%|██▎       | 23/100 [08:54<31:30, 24.56s/it]"
     ]
    },
    {
     "name": "stdout",
     "output_type": "stream",
     "text": [
      "Test loss: 0.42369 | Test acc : 85.71%\n",
      "Epoch: 23\n",
      "-------------\n",
      "Train loss: 0.38400 | Train acc: 86.12%\n"
     ]
    },
    {
     "name": "stderr",
     "output_type": "stream",
     "text": [
      " 23%|██▎       | 23/100 [09:19<31:14, 24.35s/it]"
     ]
    },
    {
     "name": "stdout",
     "output_type": "stream",
     "text": [
      "Test loss: 0.44085 | Test acc : 84.65%\n",
      "Early stopping triggered.\n",
      "Train time on cpu: 559.964 seconds\n"
     ]
    },
    {
     "name": "stderr",
     "output_type": "stream",
     "text": [
      "\n"
     ]
    }
   ],
   "source": [
    "# Import tqdm for progress bar\n",
    "from tqdm.auto import tqdm\n",
    "\n",
    "# Early Stopping\n",
    "early_stopper = EarlyStopping(patience=3, mode='max', save_path=\"QAT_Model_float.pth\")\n",
    "\n",
    "# Measure time\n",
    "from timeit import default_timer as Timer\n",
    "QAT_train_time_start = timer()\n",
    "\n",
    "# Create a optimization and evaluation loop using train_step() and test_step()\n",
    "for epoch in tqdm(range(max_epochs)):\n",
    "    print(f\"Epoch: {epoch}\\n-------------\")\n",
    "    train_loss, train_acc = train_step(model = model_QAT,\n",
    "                                       data_loader = train_dataloader,\n",
    "                                       loss_fn = loss_fn,\n",
    "                                       optimizer = optimizer,\n",
    "                                       accuracy_fn = accuracy_fn,\n",
    "                                       device = device)\n",
    "    \n",
    "    # QLinear, QConv2d를 freeze로\n",
    "    for module in model_QAT.modules():\n",
    "        if hasattr(module, \"freeze\"):\n",
    "            module.freeze()\n",
    "            \n",
    "    val_loss, val_acc = test_step(model = model_QAT,\n",
    "                         data_loader = val_dataloader,\n",
    "                         loss_fn = loss_fn,\n",
    "                         accuracy_fn = accuracy_fn,\n",
    "                         device = device)\n",
    "\n",
    "    # Save history\n",
    "    history_QAT[\"epoch\"].append(to_scalar(epoch))\n",
    "    history_QAT[\"train_loss\"].append(to_scalar(train_loss))\n",
    "    history_QAT[\"train_acc\"].append(to_scalar(train_acc))\n",
    "    history_QAT[\"val_loss\"].append(to_scalar(val_loss))\n",
    "    history_QAT[\"val_acc\"].append(to_scalar(val_acc))\n",
    "\n",
    "    early_stopper(val_acc, model_QAT)\n",
    "    if early_stopper.early_stop:\n",
    "        break\n",
    "    \n",
    "QAT_train_time_end = timer()\n",
    "total_train_time_model_baseline = print_train_time(start = QAT_train_time_start,\n",
    "                                                   end = QAT_train_time_end,\n",
    "                                                   device = device)"
   ]
  },
  {
   "cell_type": "markdown",
   "metadata": {},
   "source": [
    "#### 3.2.2.3 Save History"
   ]
  },
  {
   "cell_type": "code",
   "execution_count": 92,
   "metadata": {},
   "outputs": [
    {
     "name": "stdout",
     "output_type": "stream",
     "text": [
      "Saved training history to training_history_QAT.csv\n"
     ]
    }
   ],
   "source": [
    "df_history_QAT = pd.DataFrame(history_QAT)\n",
    "df_history_QAT.to_csv(\"training_history_QAT.csv\", index = False)\n",
    "print(\"Saved training history to training_history_QAT.csv\")"
   ]
  },
  {
   "cell_type": "code",
   "execution_count": 93,
   "metadata": {},
   "outputs": [
    {
     "data": {
      "text/html": [
       "<div>\n",
       "<style scoped>\n",
       "    .dataframe tbody tr th:only-of-type {\n",
       "        vertical-align: middle;\n",
       "    }\n",
       "\n",
       "    .dataframe tbody tr th {\n",
       "        vertical-align: top;\n",
       "    }\n",
       "\n",
       "    .dataframe thead th {\n",
       "        text-align: right;\n",
       "    }\n",
       "</style>\n",
       "<table border=\"1\" class=\"dataframe\">\n",
       "  <thead>\n",
       "    <tr style=\"text-align: right;\">\n",
       "      <th></th>\n",
       "      <th>epoch</th>\n",
       "      <th>train_loss</th>\n",
       "      <th>train_acc</th>\n",
       "      <th>val_loss</th>\n",
       "      <th>val_acc</th>\n",
       "    </tr>\n",
       "  </thead>\n",
       "  <tbody>\n",
       "    <tr>\n",
       "      <th>0</th>\n",
       "      <td>0</td>\n",
       "      <td>1.386172</td>\n",
       "      <td>40.838495</td>\n",
       "      <td>1.339967</td>\n",
       "      <td>41.491455</td>\n",
       "    </tr>\n",
       "    <tr>\n",
       "      <th>1</th>\n",
       "      <td>1</td>\n",
       "      <td>1.137165</td>\n",
       "      <td>54.136167</td>\n",
       "      <td>1.099617</td>\n",
       "      <td>55.916379</td>\n",
       "    </tr>\n",
       "    <tr>\n",
       "      <th>2</th>\n",
       "      <td>2</td>\n",
       "      <td>1.002058</td>\n",
       "      <td>59.738645</td>\n",
       "      <td>1.013681</td>\n",
       "      <td>56.163594</td>\n",
       "    </tr>\n",
       "    <tr>\n",
       "      <th>3</th>\n",
       "      <td>3</td>\n",
       "      <td>0.928713</td>\n",
       "      <td>63.060717</td>\n",
       "      <td>0.964834</td>\n",
       "      <td>60.551075</td>\n",
       "    </tr>\n",
       "    <tr>\n",
       "      <th>4</th>\n",
       "      <td>4</td>\n",
       "      <td>0.855556</td>\n",
       "      <td>66.976351</td>\n",
       "      <td>0.929262</td>\n",
       "      <td>63.371256</td>\n",
       "    </tr>\n",
       "    <tr>\n",
       "      <th>5</th>\n",
       "      <td>5</td>\n",
       "      <td>0.810418</td>\n",
       "      <td>69.219219</td>\n",
       "      <td>0.839322</td>\n",
       "      <td>68.944412</td>\n",
       "    </tr>\n",
       "    <tr>\n",
       "      <th>6</th>\n",
       "      <td>6</td>\n",
       "      <td>0.759381</td>\n",
       "      <td>71.828078</td>\n",
       "      <td>0.833144</td>\n",
       "      <td>68.665995</td>\n",
       "    </tr>\n",
       "    <tr>\n",
       "      <th>7</th>\n",
       "      <td>7</td>\n",
       "      <td>0.717733</td>\n",
       "      <td>73.857451</td>\n",
       "      <td>0.798928</td>\n",
       "      <td>71.987807</td>\n",
       "    </tr>\n",
       "    <tr>\n",
       "      <th>8</th>\n",
       "      <td>8</td>\n",
       "      <td>0.683572</td>\n",
       "      <td>75.267455</td>\n",
       "      <td>0.719778</td>\n",
       "      <td>75.648041</td>\n",
       "    </tr>\n",
       "    <tr>\n",
       "      <th>9</th>\n",
       "      <td>9</td>\n",
       "      <td>0.634854</td>\n",
       "      <td>77.393018</td>\n",
       "      <td>0.719143</td>\n",
       "      <td>75.295219</td>\n",
       "    </tr>\n",
       "    <tr>\n",
       "      <th>10</th>\n",
       "      <td>10</td>\n",
       "      <td>0.604960</td>\n",
       "      <td>78.540259</td>\n",
       "      <td>0.665720</td>\n",
       "      <td>77.364151</td>\n",
       "    </tr>\n",
       "    <tr>\n",
       "      <th>11</th>\n",
       "      <td>11</td>\n",
       "      <td>0.572701</td>\n",
       "      <td>79.741460</td>\n",
       "      <td>0.644851</td>\n",
       "      <td>75.924059</td>\n",
       "    </tr>\n",
       "    <tr>\n",
       "      <th>12</th>\n",
       "      <td>12</td>\n",
       "      <td>0.559846</td>\n",
       "      <td>79.945571</td>\n",
       "      <td>0.598337</td>\n",
       "      <td>78.422619</td>\n",
       "    </tr>\n",
       "    <tr>\n",
       "      <th>13</th>\n",
       "      <td>13</td>\n",
       "      <td>0.525608</td>\n",
       "      <td>81.371997</td>\n",
       "      <td>0.577552</td>\n",
       "      <td>80.889977</td>\n",
       "    </tr>\n",
       "    <tr>\n",
       "      <th>14</th>\n",
       "      <td>14</td>\n",
       "      <td>0.506669</td>\n",
       "      <td>82.516892</td>\n",
       "      <td>0.539546</td>\n",
       "      <td>81.722830</td>\n",
       "    </tr>\n",
       "    <tr>\n",
       "      <th>15</th>\n",
       "      <td>15</td>\n",
       "      <td>0.482811</td>\n",
       "      <td>83.190221</td>\n",
       "      <td>0.554192</td>\n",
       "      <td>81.221198</td>\n",
       "    </tr>\n",
       "    <tr>\n",
       "      <th>16</th>\n",
       "      <td>16</td>\n",
       "      <td>0.468050</td>\n",
       "      <td>83.460023</td>\n",
       "      <td>0.548741</td>\n",
       "      <td>80.489151</td>\n",
       "    </tr>\n",
       "    <tr>\n",
       "      <th>17</th>\n",
       "      <td>17</td>\n",
       "      <td>0.456160</td>\n",
       "      <td>83.701670</td>\n",
       "      <td>0.456335</td>\n",
       "      <td>84.823829</td>\n",
       "    </tr>\n",
       "    <tr>\n",
       "      <th>18</th>\n",
       "      <td>18</td>\n",
       "      <td>0.433483</td>\n",
       "      <td>84.851258</td>\n",
       "      <td>0.433267</td>\n",
       "      <td>86.139113</td>\n",
       "    </tr>\n",
       "    <tr>\n",
       "      <th>19</th>\n",
       "      <td>19</td>\n",
       "      <td>0.427589</td>\n",
       "      <td>84.895833</td>\n",
       "      <td>0.438533</td>\n",
       "      <td>85.476671</td>\n",
       "    </tr>\n",
       "    <tr>\n",
       "      <th>20</th>\n",
       "      <td>20</td>\n",
       "      <td>0.412618</td>\n",
       "      <td>85.566817</td>\n",
       "      <td>0.417149</td>\n",
       "      <td>86.590342</td>\n",
       "    </tr>\n",
       "    <tr>\n",
       "      <th>21</th>\n",
       "      <td>21</td>\n",
       "      <td>0.405253</td>\n",
       "      <td>86.010229</td>\n",
       "      <td>0.421188</td>\n",
       "      <td>86.035906</td>\n",
       "    </tr>\n",
       "    <tr>\n",
       "      <th>22</th>\n",
       "      <td>22</td>\n",
       "      <td>0.405450</td>\n",
       "      <td>85.789696</td>\n",
       "      <td>0.423686</td>\n",
       "      <td>85.707085</td>\n",
       "    </tr>\n",
       "    <tr>\n",
       "      <th>23</th>\n",
       "      <td>23</td>\n",
       "      <td>0.384004</td>\n",
       "      <td>86.122842</td>\n",
       "      <td>0.440847</td>\n",
       "      <td>84.648618</td>\n",
       "    </tr>\n",
       "  </tbody>\n",
       "</table>\n",
       "</div>"
      ],
      "text/plain": [
       "    epoch  train_loss  train_acc  val_loss    val_acc\n",
       "0       0    1.386172  40.838495  1.339967  41.491455\n",
       "1       1    1.137165  54.136167  1.099617  55.916379\n",
       "2       2    1.002058  59.738645  1.013681  56.163594\n",
       "3       3    0.928713  63.060717  0.964834  60.551075\n",
       "4       4    0.855556  66.976351  0.929262  63.371256\n",
       "5       5    0.810418  69.219219  0.839322  68.944412\n",
       "6       6    0.759381  71.828078  0.833144  68.665995\n",
       "7       7    0.717733  73.857451  0.798928  71.987807\n",
       "8       8    0.683572  75.267455  0.719778  75.648041\n",
       "9       9    0.634854  77.393018  0.719143  75.295219\n",
       "10     10    0.604960  78.540259  0.665720  77.364151\n",
       "11     11    0.572701  79.741460  0.644851  75.924059\n",
       "12     12    0.559846  79.945571  0.598337  78.422619\n",
       "13     13    0.525608  81.371997  0.577552  80.889977\n",
       "14     14    0.506669  82.516892  0.539546  81.722830\n",
       "15     15    0.482811  83.190221  0.554192  81.221198\n",
       "16     16    0.468050  83.460023  0.548741  80.489151\n",
       "17     17    0.456160  83.701670  0.456335  84.823829\n",
       "18     18    0.433483  84.851258  0.433267  86.139113\n",
       "19     19    0.427589  84.895833  0.438533  85.476671\n",
       "20     20    0.412618  85.566817  0.417149  86.590342\n",
       "21     21    0.405253  86.010229  0.421188  86.035906\n",
       "22     22    0.405450  85.789696  0.423686  85.707085\n",
       "23     23    0.384004  86.122842  0.440847  84.648618"
      ]
     },
     "execution_count": 93,
     "metadata": {},
     "output_type": "execute_result"
    }
   ],
   "source": [
    "df_history_QAT"
   ]
  },
  {
   "cell_type": "markdown",
   "metadata": {},
   "source": [
    "#### 3.2.2.4 Load Model"
   ]
  },
  {
   "cell_type": "code",
   "execution_count": 18,
   "metadata": {},
   "outputs": [
    {
     "data": {
      "text/plain": [
       "<All keys matched successfully>"
      ]
     },
     "execution_count": 18,
     "metadata": {},
     "output_type": "execute_result"
    }
   ],
   "source": [
    "# Load in the save state_dict()\n",
    "MODEL_PATH = Path(\"models\")\n",
    "MODEL_NAME = \"QAT_Model_float.pth\"\n",
    "MODEL_SAVE_PATH = MODEL_PATH / MODEL_NAME\n",
    "\n",
    "# Create a new instance\n",
    "Loaded_model_QAT_float = CNNKeywordSpotter_QAT(num_classes = 6)\n",
    "\n",
    "# Load Model\n",
    "Loaded_model_QAT_float.load_state_dict(torch.load(f = MODEL_SAVE_PATH, map_location = 'cpu'))"
   ]
  },
  {
   "cell_type": "code",
   "execution_count": 19,
   "metadata": {},
   "outputs": [],
   "source": [
    "qat_state = {\n",
    "    \"conv1\": {\n",
    "        \"weight_q\": Loaded_model_QAT_float.cnn[0].weight_q.char(), \n",
    "        \"bias_q\": Loaded_model_QAT_float.cnn[0].bias_q.int() if Loaded_model_QAT_float.cnn[0].bias_q is not None else None,\n",
    "        \"scale_i\": Loaded_model_QAT_float.cnn[0].scale_i,\n",
    "        \"scale_w\": Loaded_model_QAT_float.cnn[0].scale_w,\n",
    "    },\n",
    "    \"conv2\": {\n",
    "        \"weight_q\": Loaded_model_QAT_float.cnn[4].weight_q.char(),\n",
    "        \"bias_q\": Loaded_model_QAT_float.cnn[4].bias_q.int() if Loaded_model_QAT_float.cnn[4].bias_q is not None else None,\n",
    "        \"scale_i\": Loaded_model_QAT_float.cnn[4].scale_i,\n",
    "        \"scale_w\": Loaded_model_QAT_float.cnn[4].scale_w,\n",
    "    },\n",
    "    \"fc\": {\n",
    "        \"weight_q\": Loaded_model_QAT_float.fc.weight_q.char(), \n",
    "        \"bias_q\": Loaded_model_QAT_float.fc.bias_q.int() if Loaded_model_QAT_float.fc.bias_q is not None else None, \n",
    "        \"scale_i\": Loaded_model_QAT_float.fc.scale_i,\n",
    "        \"scale_w\": Loaded_model_QAT_float.fc.scale_w,\n",
    "    }\n",
    "}"
   ]
  },
  {
   "cell_type": "code",
   "execution_count": 96,
   "metadata": {},
   "outputs": [
    {
     "name": "stdout",
     "output_type": "stream",
     "text": [
      "Saving Model to QAT_Model_int8.pth\n"
     ]
    }
   ],
   "source": [
    "torch.save(qat_state, f = Path(\"models\") / \"QAT_Model_int8.pth\")\n",
    "print(f\"Saving Model to {\"QAT_Model_int8.pth\"}\")"
   ]
  },
  {
   "cell_type": "code",
   "execution_count": 97,
   "metadata": {},
   "outputs": [],
   "source": [
    "# Load in the save state_dict()\n",
    "MODEL_PATH = Path(\"models\")\n",
    "MODEL_NAME = \"QAT_Model_int8.pth\"\n",
    "MODEL_SAVE_PATH = MODEL_PATH / MODEL_NAME\n",
    "\n",
    "# Load State\n",
    "qat_state_loaded = torch.load(f = MODEL_SAVE_PATH, map_location = 'cpu')"
   ]
  },
  {
   "cell_type": "code",
   "execution_count": 99,
   "metadata": {},
   "outputs": [],
   "source": [
    "# Create a new instance\n",
    "Loaded_model_QAT_int8 = CNNKeywordSpotter_QAT(num_classes = 6)"
   ]
  },
  {
   "cell_type": "code",
   "execution_count": 100,
   "metadata": {},
   "outputs": [],
   "source": [
    "# conv1\n",
    "Loaded_model_QAT_int8.cnn[0].weight_q = qat_state_loaded[\"conv1\"][\"weight_q\"]\n",
    "Loaded_model_QAT_int8.cnn[0].bias_q = qat_state_loaded[\"conv1\"][\"bias_q\"]\n",
    "Loaded_model_QAT_int8.cnn[0].scale_i = qat_state_loaded[\"conv1\"][\"scale_i\"]\n",
    "Loaded_model_QAT_int8.cnn[0].scale_w = qat_state_loaded[\"conv1\"][\"scale_w\"]\n",
    "\n",
    "# conv2\n",
    "Loaded_model_QAT_int8.cnn[4].weight_q = qat_state_loaded[\"conv2\"][\"weight_q\"]\n",
    "Loaded_model_QAT_int8.cnn[4].bias_q = qat_state_loaded[\"conv2\"][\"bias_q\"]\n",
    "Loaded_model_QAT_int8.cnn[4].scale_i = qat_state_loaded[\"conv2\"][\"scale_i\"]\n",
    "Loaded_model_QAT_int8.cnn[4].scale_w = qat_state_loaded[\"conv2\"][\"scale_w\"]\n",
    "\n",
    "# fc\n",
    "Loaded_model_QAT_int8.fc.weight_q = qat_state_loaded[\"fc\"][\"weight_q\"]\n",
    "Loaded_model_QAT_int8.fc.bias_q = qat_state_loaded[\"fc\"][\"bias_q\"]\n",
    "Loaded_model_QAT_int8.fc.scale_i = qat_state_loaded[\"fc\"][\"scale_i\"]\n",
    "Loaded_model_QAT_int8.fc.scale_w = qat_state_loaded[\"fc\"][\"scale_w\"]\n"
   ]
  },
  {
   "cell_type": "markdown",
   "metadata": {},
   "source": [
    "### 3.2.3 Evaluate Model"
   ]
  },
  {
   "cell_type": "code",
   "execution_count": 102,
   "metadata": {},
   "outputs": [],
   "source": [
    "y_preds = []\n",
    "y_trues = []"
   ]
  },
  {
   "cell_type": "code",
   "execution_count": 103,
   "metadata": {},
   "outputs": [
    {
     "name": "stderr",
     "output_type": "stream",
     "text": [
      "100%|██████████| 62/62 [00:03<00:00, 16.97it/s]"
     ]
    },
    {
     "name": "stdout",
     "output_type": "stream",
     "text": [
      "{'model_name': 'CNNKeywordSpotter_QAT', 'model_loss': 0.40676581859588623, 'model_acc': 86.8111559139785}\n",
      "tensor([3, 1, 2,  ..., 5, 1, 1])\n",
      "tensor([3, 1, 2,  ..., 5, 1, 2])\n"
     ]
    },
    {
     "name": "stderr",
     "output_type": "stream",
     "text": [
      "\n"
     ]
    }
   ],
   "source": [
    "# Calculate model 0 results on test datasets\n",
    "model_QAT_float_results = eval_model(model = Loaded_model_QAT_float,\n",
    "                                    data_loader = test_dataloader,\n",
    "                                    loss_fn = loss_fn,\n",
    "                                    accuracy_fn = accuracy_fn)\n",
    "\n",
    "print(model_QAT_float_results)\n",
    "# y_pred\n",
    "y_pred_tensor = torch.cat(y_preds)\n",
    "print(y_pred_tensor)\n",
    "# y_true\n",
    "y_true_tensor = torch.cat(y_trues)\n",
    "print(y_true_tensor)"
   ]
  },
  {
   "cell_type": "markdown",
   "metadata": {},
   "source": [
    "### 3.2.4 Confusion Matrix"
   ]
  },
  {
   "cell_type": "code",
   "execution_count": 35,
   "metadata": {},
   "outputs": [
    {
     "data": {
      "text/plain": [
       "['yes', 'no', 'stop', 'go', 'silence', 'other']"
      ]
     },
     "execution_count": 35,
     "metadata": {},
     "output_type": "execute_result"
    }
   ],
   "source": [
    "class_names = train_dataset.classes\n",
    "class_names"
   ]
  },
  {
   "cell_type": "code",
   "execution_count": 36,
   "metadata": {},
   "outputs": [
    {
     "name": "stdout",
     "output_type": "stream",
     "text": [
      "tensor([[259,  41,  63,  19,   0,  23],\n",
      "        [ 24, 194,  14, 114,   0,  49],\n",
      "        [ 22,  30, 260,  40,   0,  36],\n",
      "        [  5,  73,  20, 205,   0,  85],\n",
      "        [  0,   0,   0,   0,   0,   0],\n",
      "        [ 18,  29,  18,  68,   0, 267]])\n"
     ]
    }
   ],
   "source": [
    "from torchmetrics import ConfusionMatrix\n",
    "from mlxtend.plotting import plot_confusion_matrix\n",
    "\n",
    "# 2. Setup confusion instance and compare predictions to targets\n",
    "confmat = ConfusionMatrix(task = \"MULTICLASS\", num_classes = len(class_names))\n",
    "confmat_tensor = confmat(preds = y_pred_tensor,\n",
    "                         target = y_true_tensor)\n",
    "print(confmat_tensor)"
   ]
  },
  {
   "cell_type": "code",
   "execution_count": 37,
   "metadata": {},
   "outputs": [
    {
     "name": "stdout",
     "output_type": "stream",
     "text": [
      "torch.float32\n",
      "cpu\n"
     ]
    }
   ],
   "source": [
    "confmat_tensor = confmat_tensor.to(dtype=torch.float32).cpu()\n",
    "print(confmat_tensor.dtype)\n",
    "print(confmat_tensor.device)"
   ]
  },
  {
   "cell_type": "code",
   "execution_count": 38,
   "metadata": {},
   "outputs": [],
   "source": [
    "conf_mat = confmat_tensor.numpy()"
   ]
  },
  {
   "cell_type": "code",
   "execution_count": 39,
   "metadata": {},
   "outputs": [
    {
     "name": "stderr",
     "output_type": "stream",
     "text": [
      "c:\\Users\\Minseo\\AppData\\Local\\Programs\\Python\\Python313\\Lib\\site-packages\\mlxtend\\plotting\\plot_confusion_matrix.py:102: RuntimeWarning: invalid value encountered in divide\n",
      "  normed_conf_mat = conf_mat.astype(\"float\") / total_samples\n"
     ]
    },
    {
     "data": {
      "image/png": "[encoded data removed]",
      "text/plain": [
       "<Figure size 1000x700 with 1 Axes>"
      ]
     },
     "metadata": {},
     "output_type": "display_data"
    }
   ],
   "source": [
    "# 3. Plot the confusion matrix\n",
    "fig, ax = plot_confusion_matrix(conf_mat = confmat_tensor.numpy(), # matplotlib likes to working with numpy\n",
    "                                class_names = class_names,\n",
    "                                figsize = (10, 7))"
   ]
  },
  {
   "cell_type": "markdown",
   "metadata": {},
   "source": [
    "# 4. Onnx export -> Inference time 비교"
   ]
  },
  {
   "cell_type": "markdown",
   "metadata": {},
   "source": [
    "## 4.1 V4 Model"
   ]
  },
  {
   "cell_type": "code",
   "execution_count": 41,
   "metadata": {},
   "outputs": [
    {
     "data": {
      "text/plain": [
       "CNNKeywordSpotter_v4(\n",
       "  (cnn): Sequential(\n",
       "    (0): Conv2d(1, 16, kernel_size=(3, 3), stride=(1, 1), padding=(1, 1))\n",
       "    (1): ReLU()\n",
       "    (2): MaxPool2d(kernel_size=2, stride=2, padding=0, dilation=1, ceil_mode=False)\n",
       "    (3): Dropout(p=0.3, inplace=False)\n",
       "    (4): Conv2d(16, 32, kernel_size=(3, 3), stride=(1, 1), padding=(1, 1))\n",
       "    (5): ReLU()\n",
       "    (6): AdaptiveAvgPool2d(output_size=(1, 1))\n",
       "  )\n",
       "  (fc): Linear(in_features=32, out_features=6, bias=True)\n",
       ")"
      ]
     },
     "execution_count": 41,
     "metadata": {},
     "output_type": "execute_result"
    }
   ],
   "source": [
    "Loaded_model_v4.eval()"
   ]
  },
  {
   "cell_type": "code",
   "execution_count": 43,
   "metadata": {},
   "outputs": [],
   "source": [
    "# 3. 더미 입력 생성\n",
    "dummy_input = torch.randn(1, 1, 32, 32)  # (Batch, Channel, Height, Width)\n",
    "\n",
    "# 4. ONNX export\n",
    "torch.onnx.export(Loaded_model_v4,\n",
    "                  dummy_input,\n",
    "                  \"v4_model.onnx\",\n",
    "                  input_names=[\"input\"],\n",
    "                  output_names=[\"output\"],\n",
    "                  opset_version=13,\n",
    "                  do_constant_folding=True)"
   ]
  },
  {
   "cell_type": "code",
   "execution_count": 44,
   "metadata": {},
   "outputs": [
    {
     "name": "stdout",
     "output_type": "stream",
     "text": [
      "Average inference time: 0.06 ms\n"
     ]
    }
   ],
   "source": [
    "import onnxruntime as ort\n",
    "import numpy as np\n",
    "import time\n",
    "\n",
    "# 1. ONNX Runtime 세션 로드\n",
    "session = ort.InferenceSession(\"v4_model.onnx\", providers=[\"CPUExecutionProvider\"])\n",
    "\n",
    "# 2. 입력 이름 확인\n",
    "input_name = session.get_inputs()[0].name\n",
    "\n",
    "# 3. 더미 입력\n",
    "dummy_input = np.random.rand(1, 1, 32, 32).astype(np.float32)\n",
    "\n",
    "# 4. Warm-up\n",
    "for _ in range(10):\n",
    "    session.run(None, {input_name: dummy_input})\n",
    "\n",
    "# 5. 추론 시간 측정\n",
    "start = time.time()\n",
    "for _ in range(100):\n",
    "    session.run(None, {input_name: dummy_input})\n",
    "end = time.time()\n",
    "\n",
    "print(f\"Average inference time: {(end - start)/100 * 1000:.2f} ms\")"
   ]
  },
  {
   "cell_type": "markdown",
   "metadata": {},
   "source": [
    "## 4.2 PTQ Model"
   ]
  },
  {
   "cell_type": "code",
   "execution_count": null,
   "metadata": {},
   "outputs": [
    {
     "data": {
      "text/plain": [
       "CNNKeywordSpotter_v4(\n",
       "  (cnn): Sequential(\n",
       "    (0): Conv2d(1, 16, kernel_size=(3, 3), stride=(1, 1), padding=(1, 1))\n",
       "    (1): ReLU()\n",
       "    (2): MaxPool2d(kernel_size=2, stride=2, padding=0, dilation=1, ceil_mode=False)\n",
       "    (3): Dropout(p=0.3, inplace=False)\n",
       "    (4): Conv2d(16, 32, kernel_size=(3, 3), stride=(1, 1), padding=(1, 1))\n",
       "    (5): ReLU()\n",
       "    (6): AdaptiveAvgPool2d(output_size=(1, 1))\n",
       "  )\n",
       "  (fc): Linear(in_features=32, out_features=6, bias=True)\n",
       ")"
      ]
     },
     "metadata": {},
     "output_type": "display_data"
    }
   ],
   "source": [
    "model_int8.eval()"
   ]
  },
  {
   "cell_type": "code",
   "execution_count": 64,
   "metadata": {},
   "outputs": [],
   "source": [
    "# 3. 더미 입력 생성\n",
    "dummy_input = torch.randn(1, 1, 32, 32)  # (Batch, Channel, Height, Width)\n",
    "\n",
    "# 4. ONNX export\n",
    "torch.onnx.export(model_int8,\n",
    "                  dummy_input,\n",
    "                  \"PTQ_model.onnx\",\n",
    "                  input_names=[\"input\"],\n",
    "                  output_names=[\"output\"],\n",
    "                  opset_version=13,\n",
    "                  do_constant_folding=True)"
   ]
  },
  {
   "cell_type": "code",
   "execution_count": 66,
   "metadata": {},
   "outputs": [
    {
     "name": "stdout",
     "output_type": "stream",
     "text": [
      "Average inference time: 0.08 ms\n"
     ]
    }
   ],
   "source": [
    "import onnxruntime as ort\n",
    "import numpy as np\n",
    "import time\n",
    "\n",
    "# 1. ONNX Runtime 세션 로드\n",
    "session = ort.InferenceSession(\"PTQ_model.onnx\", providers=[\"CPUExecutionProvider\"])\n",
    "\n",
    "# 2. 입력 이름 확인\n",
    "input_name = session.get_inputs()[0].name\n",
    "\n",
    "# 3. 더미 입력\n",
    "dummy_input = np.random.rand(1, 1, 32, 32).astype(np.float32)\n",
    "\n",
    "# 4. Warm-up\n",
    "for _ in range(10):\n",
    "    session.run(None, {input_name: dummy_input})\n",
    "\n",
    "# 5. 추론 시간 측정\n",
    "start = time.time()\n",
    "for _ in range(100):\n",
    "    session.run(None, {input_name: dummy_input})\n",
    "end = time.time()\n",
    "\n",
    "print(f\"Average inference time: {(end - start)/100 * 1000:.2f} ms\")"
   ]
  },
  {
   "cell_type": "markdown",
   "metadata": {},
   "source": [
    "## 4.3 QAT Model"
   ]
  },
  {
   "cell_type": "code",
   "execution_count": 32,
   "metadata": {},
   "outputs": [],
   "source": [
    "import torch"
   ]
  },
  {
   "cell_type": "code",
   "execution_count": 67,
   "metadata": {},
   "outputs": [],
   "source": [
    "def strip_float_weights(model):\n",
    "    for module in model.modules():\n",
    "        if isinstance(module, QConv2d) or isinstance(module, QLinear):\n",
    "            if hasattr(module, 'weight'):\n",
    "                del module._parameters['weight']\n",
    "            if hasattr(module, 'bias') and module.bias is not None:\n",
    "                del module._parameters['bias']"
   ]
  },
  {
   "cell_type": "code",
   "execution_count": 68,
   "metadata": {},
   "outputs": [],
   "source": [
    "strip_float_weights(Loaded_model_QAT_float)"
   ]
  },
  {
   "cell_type": "code",
   "execution_count": 69,
   "metadata": {},
   "outputs": [
    {
     "ename": "AttributeError",
     "evalue": "'QConv2d' object has no attribute 'bias'",
     "output_type": "error",
     "traceback": [
      "\u001b[31m---------------------------------------------------------------------------\u001b[39m",
      "\u001b[31mAttributeError\u001b[39m                            Traceback (most recent call last)",
      "\u001b[36mFile \u001b[39m\u001b[32m~/miniconda3/lib/python3.12/site-packages/IPython/core/formatters.py:770\u001b[39m, in \u001b[36mPlainTextFormatter.__call__\u001b[39m\u001b[34m(self, obj)\u001b[39m\n\u001b[32m    763\u001b[39m stream = StringIO()\n\u001b[32m    764\u001b[39m printer = pretty.RepresentationPrinter(stream, \u001b[38;5;28mself\u001b[39m.verbose,\n\u001b[32m    765\u001b[39m     \u001b[38;5;28mself\u001b[39m.max_width, \u001b[38;5;28mself\u001b[39m.newline,\n\u001b[32m    766\u001b[39m     max_seq_length=\u001b[38;5;28mself\u001b[39m.max_seq_length,\n\u001b[32m    767\u001b[39m     singleton_pprinters=\u001b[38;5;28mself\u001b[39m.singleton_printers,\n\u001b[32m    768\u001b[39m     type_pprinters=\u001b[38;5;28mself\u001b[39m.type_printers,\n\u001b[32m    769\u001b[39m     deferred_pprinters=\u001b[38;5;28mself\u001b[39m.deferred_printers)\n\u001b[32m--> \u001b[39m\u001b[32m770\u001b[39m \u001b[43mprinter\u001b[49m\u001b[43m.\u001b[49m\u001b[43mpretty\u001b[49m\u001b[43m(\u001b[49m\u001b[43mobj\u001b[49m\u001b[43m)\u001b[49m\n\u001b[32m    771\u001b[39m printer.flush()\n\u001b[32m    772\u001b[39m \u001b[38;5;28;01mreturn\u001b[39;00m stream.getvalue()\n",
      "\u001b[36mFile \u001b[39m\u001b[32m~/miniconda3/lib/python3.12/site-packages/IPython/lib/pretty.py:411\u001b[39m, in \u001b[36mRepresentationPrinter.pretty\u001b[39m\u001b[34m(self, obj)\u001b[39m\n\u001b[32m    400\u001b[39m                         \u001b[38;5;28;01mreturn\u001b[39;00m meth(obj, \u001b[38;5;28mself\u001b[39m, cycle)\n\u001b[32m    401\u001b[39m                 \u001b[38;5;28;01mif\u001b[39;00m (\n\u001b[32m    402\u001b[39m                     \u001b[38;5;28mcls\u001b[39m \u001b[38;5;129;01mis\u001b[39;00m \u001b[38;5;129;01mnot\u001b[39;00m \u001b[38;5;28mobject\u001b[39m\n\u001b[32m    403\u001b[39m                     \u001b[38;5;66;03m# check if cls defines __repr__\u001b[39;00m\n\u001b[32m   (...)\u001b[39m\u001b[32m    409\u001b[39m                     \u001b[38;5;129;01mand\u001b[39;00m \u001b[38;5;28mcallable\u001b[39m(_safe_getattr(\u001b[38;5;28mcls\u001b[39m, \u001b[33m\"\u001b[39m\u001b[33m__repr__\u001b[39m\u001b[33m\"\u001b[39m, \u001b[38;5;28;01mNone\u001b[39;00m))\n\u001b[32m    410\u001b[39m                 ):\n\u001b[32m--> \u001b[39m\u001b[32m411\u001b[39m                     \u001b[38;5;28;01mreturn\u001b[39;00m \u001b[43m_repr_pprint\u001b[49m\u001b[43m(\u001b[49m\u001b[43mobj\u001b[49m\u001b[43m,\u001b[49m\u001b[43m \u001b[49m\u001b[38;5;28;43mself\u001b[39;49m\u001b[43m,\u001b[49m\u001b[43m \u001b[49m\u001b[43mcycle\u001b[49m\u001b[43m)\u001b[49m\n\u001b[32m    413\u001b[39m     \u001b[38;5;28;01mreturn\u001b[39;00m _default_pprint(obj, \u001b[38;5;28mself\u001b[39m, cycle)\n\u001b[32m    414\u001b[39m \u001b[38;5;28;01mfinally\u001b[39;00m:\n",
      "\u001b[36mFile \u001b[39m\u001b[32m~/miniconda3/lib/python3.12/site-packages/IPython/lib/pretty.py:786\u001b[39m, in \u001b[36m_repr_pprint\u001b[39m\u001b[34m(obj, p, cycle)\u001b[39m\n\u001b[32m    784\u001b[39m \u001b[38;5;250m\u001b[39m\u001b[33;03m\"\"\"A pprint that just redirects to the normal repr function.\"\"\"\u001b[39;00m\n\u001b[32m    785\u001b[39m \u001b[38;5;66;03m# Find newlines and replace them with p.break_()\u001b[39;00m\n\u001b[32m--> \u001b[39m\u001b[32m786\u001b[39m output = \u001b[38;5;28;43mrepr\u001b[39;49m\u001b[43m(\u001b[49m\u001b[43mobj\u001b[49m\u001b[43m)\u001b[49m\n\u001b[32m    787\u001b[39m lines = output.splitlines()\n\u001b[32m    788\u001b[39m \u001b[38;5;28;01mwith\u001b[39;00m p.group():\n",
      "\u001b[36mFile \u001b[39m\u001b[32m~/miniconda3/lib/python3.12/site-packages/torch/nn/modules/module.py:2490\u001b[39m, in \u001b[36mModule.__repr__\u001b[39m\u001b[34m(self)\u001b[39m\n\u001b[32m   2488\u001b[39m child_lines = []\n\u001b[32m   2489\u001b[39m \u001b[38;5;28;01mfor\u001b[39;00m key, module \u001b[38;5;129;01min\u001b[39;00m \u001b[38;5;28mself\u001b[39m._modules.items():\n\u001b[32m-> \u001b[39m\u001b[32m2490\u001b[39m     mod_str = \u001b[38;5;28;43mrepr\u001b[39;49m\u001b[43m(\u001b[49m\u001b[43mmodule\u001b[49m\u001b[43m)\u001b[49m\n\u001b[32m   2491\u001b[39m     mod_str = _addindent(mod_str, \u001b[32m2\u001b[39m)\n\u001b[32m   2492\u001b[39m     child_lines.append(\u001b[33m'\u001b[39m\u001b[33m(\u001b[39m\u001b[33m'\u001b[39m + key + \u001b[33m'\u001b[39m\u001b[33m): \u001b[39m\u001b[33m'\u001b[39m + mod_str)\n",
      "\u001b[36mFile \u001b[39m\u001b[32m~/miniconda3/lib/python3.12/site-packages/torch/nn/modules/module.py:2490\u001b[39m, in \u001b[36mModule.__repr__\u001b[39m\u001b[34m(self)\u001b[39m\n\u001b[32m   2488\u001b[39m child_lines = []\n\u001b[32m   2489\u001b[39m \u001b[38;5;28;01mfor\u001b[39;00m key, module \u001b[38;5;129;01min\u001b[39;00m \u001b[38;5;28mself\u001b[39m._modules.items():\n\u001b[32m-> \u001b[39m\u001b[32m2490\u001b[39m     mod_str = \u001b[38;5;28;43mrepr\u001b[39;49m\u001b[43m(\u001b[49m\u001b[43mmodule\u001b[49m\u001b[43m)\u001b[49m\n\u001b[32m   2491\u001b[39m     mod_str = _addindent(mod_str, \u001b[32m2\u001b[39m)\n\u001b[32m   2492\u001b[39m     child_lines.append(\u001b[33m'\u001b[39m\u001b[33m(\u001b[39m\u001b[33m'\u001b[39m + key + \u001b[33m'\u001b[39m\u001b[33m): \u001b[39m\u001b[33m'\u001b[39m + mod_str)\n",
      "\u001b[36mFile \u001b[39m\u001b[32m~/miniconda3/lib/python3.12/site-packages/torch/nn/modules/module.py:2484\u001b[39m, in \u001b[36mModule.__repr__\u001b[39m\u001b[34m(self)\u001b[39m\n\u001b[32m   2481\u001b[39m \u001b[38;5;28;01mdef\u001b[39;00m \u001b[34m__repr__\u001b[39m(\u001b[38;5;28mself\u001b[39m):\n\u001b[32m   2482\u001b[39m     \u001b[38;5;66;03m# We treat the extra repr like the sub-module, one item per line\u001b[39;00m\n\u001b[32m   2483\u001b[39m     extra_lines = []\n\u001b[32m-> \u001b[39m\u001b[32m2484\u001b[39m     extra_repr = \u001b[38;5;28;43mself\u001b[39;49m\u001b[43m.\u001b[49m\u001b[43mextra_repr\u001b[49m\u001b[43m(\u001b[49m\u001b[43m)\u001b[49m\n\u001b[32m   2485\u001b[39m     \u001b[38;5;66;03m# empty string will be split into list ['']\u001b[39;00m\n\u001b[32m   2486\u001b[39m     \u001b[38;5;28;01mif\u001b[39;00m extra_repr:\n",
      "\u001b[36mFile \u001b[39m\u001b[32m~/miniconda3/lib/python3.12/site-packages/torch/nn/modules/conv.py:165\u001b[39m, in \u001b[36m_ConvNd.extra_repr\u001b[39m\u001b[34m(self)\u001b[39m\n\u001b[32m    163\u001b[39m \u001b[38;5;28;01mif\u001b[39;00m \u001b[38;5;28mself\u001b[39m.groups != \u001b[32m1\u001b[39m:\n\u001b[32m    164\u001b[39m     s += \u001b[33m'\u001b[39m\u001b[33m, groups=\u001b[39m\u001b[38;5;132;01m{groups}\u001b[39;00m\u001b[33m'\u001b[39m\n\u001b[32m--> \u001b[39m\u001b[32m165\u001b[39m \u001b[38;5;28;01mif\u001b[39;00m \u001b[38;5;28;43mself\u001b[39;49m\u001b[43m.\u001b[49m\u001b[43mbias\u001b[49m \u001b[38;5;129;01mis\u001b[39;00m \u001b[38;5;28;01mNone\u001b[39;00m:\n\u001b[32m    166\u001b[39m     s += \u001b[33m'\u001b[39m\u001b[33m, bias=False\u001b[39m\u001b[33m'\u001b[39m\n\u001b[32m    167\u001b[39m \u001b[38;5;28;01mif\u001b[39;00m \u001b[38;5;28mself\u001b[39m.padding_mode != \u001b[33m'\u001b[39m\u001b[33mzeros\u001b[39m\u001b[33m'\u001b[39m:\n",
      "\u001b[36mFile \u001b[39m\u001b[32m~/miniconda3/lib/python3.12/site-packages/torch/nn/modules/module.py:1688\u001b[39m, in \u001b[36mModule.__getattr__\u001b[39m\u001b[34m(self, name)\u001b[39m\n\u001b[32m   1686\u001b[39m     \u001b[38;5;28;01mif\u001b[39;00m name \u001b[38;5;129;01min\u001b[39;00m modules:\n\u001b[32m   1687\u001b[39m         \u001b[38;5;28;01mreturn\u001b[39;00m modules[name]\n\u001b[32m-> \u001b[39m\u001b[32m1688\u001b[39m \u001b[38;5;28;01mraise\u001b[39;00m \u001b[38;5;167;01mAttributeError\u001b[39;00m(\u001b[33mf\u001b[39m\u001b[33m\"\u001b[39m\u001b[33m'\u001b[39m\u001b[38;5;132;01m{\u001b[39;00m\u001b[38;5;28mtype\u001b[39m(\u001b[38;5;28mself\u001b[39m).\u001b[34m__name__\u001b[39m\u001b[38;5;132;01m}\u001b[39;00m\u001b[33m'\u001b[39m\u001b[33m object has no attribute \u001b[39m\u001b[33m'\u001b[39m\u001b[38;5;132;01m{\u001b[39;00mname\u001b[38;5;132;01m}\u001b[39;00m\u001b[33m'\u001b[39m\u001b[33m\"\u001b[39m)\n",
      "\u001b[31mAttributeError\u001b[39m: 'QConv2d' object has no attribute 'bias'"
     ]
    }
   ],
   "source": [
    "Loaded_model_QAT_float.eval()"
   ]
  },
  {
   "cell_type": "code",
   "execution_count": 70,
   "metadata": {},
   "outputs": [
    {
     "ename": "AttributeError",
     "evalue": "'QConv2d' object has no attribute 'weight'",
     "output_type": "error",
     "traceback": [
      "\u001b[31m---------------------------------------------------------------------------\u001b[39m",
      "\u001b[31mAttributeError\u001b[39m                            Traceback (most recent call last)",
      "\u001b[36mCell\u001b[39m\u001b[36m \u001b[39m\u001b[32mIn[70]\u001b[39m\u001b[32m, line 5\u001b[39m\n\u001b[32m      2\u001b[39m dummy_input = torch.randn(\u001b[32m1\u001b[39m, \u001b[32m1\u001b[39m, \u001b[32m32\u001b[39m, \u001b[32m32\u001b[39m)  \u001b[38;5;66;03m# (Batch, Channel, Height, Width)\u001b[39;00m\n\u001b[32m      4\u001b[39m \u001b[38;5;66;03m# 4. ONNX export\u001b[39;00m\n\u001b[32m----> \u001b[39m\u001b[32m5\u001b[39m \u001b[43mtorch\u001b[49m\u001b[43m.\u001b[49m\u001b[43monnx\u001b[49m\u001b[43m.\u001b[49m\u001b[43mexport\u001b[49m\u001b[43m(\u001b[49m\u001b[43mLoaded_model_QAT_float\u001b[49m\u001b[43m,\u001b[49m\n\u001b[32m      6\u001b[39m \u001b[43m                  \u001b[49m\u001b[43mdummy_input\u001b[49m\u001b[43m,\u001b[49m\n\u001b[32m      7\u001b[39m \u001b[43m                  \u001b[49m\u001b[33;43m\"\u001b[39;49m\u001b[33;43mQAT_model.onnx\u001b[39;49m\u001b[33;43m\"\u001b[39;49m\u001b[43m,\u001b[49m\n\u001b[32m      8\u001b[39m \u001b[43m                  \u001b[49m\u001b[43minput_names\u001b[49m\u001b[43m=\u001b[49m\u001b[43m[\u001b[49m\u001b[33;43m\"\u001b[39;49m\u001b[33;43minput\u001b[39;49m\u001b[33;43m\"\u001b[39;49m\u001b[43m]\u001b[49m\u001b[43m,\u001b[49m\n\u001b[32m      9\u001b[39m \u001b[43m                  \u001b[49m\u001b[43moutput_names\u001b[49m\u001b[43m=\u001b[49m\u001b[43m[\u001b[49m\u001b[33;43m\"\u001b[39;49m\u001b[33;43moutput\u001b[39;49m\u001b[33;43m\"\u001b[39;49m\u001b[43m]\u001b[49m\u001b[43m,\u001b[49m\n\u001b[32m     10\u001b[39m \u001b[43m                  \u001b[49m\u001b[43mopset_version\u001b[49m\u001b[43m=\u001b[49m\u001b[32;43m13\u001b[39;49m\u001b[43m,\u001b[49m\n\u001b[32m     11\u001b[39m \u001b[43m                  \u001b[49m\u001b[43mdo_constant_folding\u001b[49m\u001b[43m=\u001b[49m\u001b[38;5;28;43;01mTrue\u001b[39;49;00m\u001b[43m)\u001b[49m\n",
      "\u001b[36mFile \u001b[39m\u001b[32m~/miniconda3/lib/python3.12/site-packages/torch/onnx/utils.py:516\u001b[39m, in \u001b[36mexport\u001b[39m\u001b[34m(model, args, f, export_params, verbose, training, input_names, output_names, operator_export_type, opset_version, do_constant_folding, dynamic_axes, keep_initializers_as_inputs, custom_opsets, export_modules_as_functions, autograd_inlining)\u001b[39m\n\u001b[32m    189\u001b[39m \u001b[38;5;129m@_beartype\u001b[39m.beartype\n\u001b[32m    190\u001b[39m \u001b[38;5;28;01mdef\u001b[39;00m \u001b[34mexport\u001b[39m(\n\u001b[32m    191\u001b[39m     model: Union[torch.nn.Module, torch.jit.ScriptModule, torch.jit.ScriptFunction],\n\u001b[32m   (...)\u001b[39m\u001b[32m    208\u001b[39m     autograd_inlining: Optional[\u001b[38;5;28mbool\u001b[39m] = \u001b[38;5;28;01mTrue\u001b[39;00m,\n\u001b[32m    209\u001b[39m ) -> \u001b[38;5;28;01mNone\u001b[39;00m:\n\u001b[32m    210\u001b[39m \u001b[38;5;250m    \u001b[39m\u001b[33mr\u001b[39m\u001b[33;03m\"\"\"Exports a model into ONNX format.\u001b[39;00m\n\u001b[32m    211\u001b[39m \n\u001b[32m    212\u001b[39m \u001b[33;03m    If ``model`` is not a :class:`torch.jit.ScriptModule` nor a\u001b[39;00m\n\u001b[32m   (...)\u001b[39m\u001b[32m    513\u001b[39m \u001b[33;03m            All errors are subclasses of :class:`errors.OnnxExporterError`.\u001b[39;00m\n\u001b[32m    514\u001b[39m \u001b[33;03m    \"\"\"\u001b[39;00m\n\u001b[32m--> \u001b[39m\u001b[32m516\u001b[39m     \u001b[43m_export\u001b[49m\u001b[43m(\u001b[49m\n\u001b[32m    517\u001b[39m \u001b[43m        \u001b[49m\u001b[43mmodel\u001b[49m\u001b[43m,\u001b[49m\n\u001b[32m    518\u001b[39m \u001b[43m        \u001b[49m\u001b[43margs\u001b[49m\u001b[43m,\u001b[49m\n\u001b[32m    519\u001b[39m \u001b[43m        \u001b[49m\u001b[43mf\u001b[49m\u001b[43m,\u001b[49m\n\u001b[32m    520\u001b[39m \u001b[43m        \u001b[49m\u001b[43mexport_params\u001b[49m\u001b[43m,\u001b[49m\n\u001b[32m    521\u001b[39m \u001b[43m        \u001b[49m\u001b[43mverbose\u001b[49m\u001b[43m,\u001b[49m\n\u001b[32m    522\u001b[39m \u001b[43m        \u001b[49m\u001b[43mtraining\u001b[49m\u001b[43m,\u001b[49m\n\u001b[32m    523\u001b[39m \u001b[43m        \u001b[49m\u001b[43minput_names\u001b[49m\u001b[43m,\u001b[49m\n\u001b[32m    524\u001b[39m \u001b[43m        \u001b[49m\u001b[43moutput_names\u001b[49m\u001b[43m,\u001b[49m\n\u001b[32m    525\u001b[39m \u001b[43m        \u001b[49m\u001b[43moperator_export_type\u001b[49m\u001b[43m=\u001b[49m\u001b[43moperator_export_type\u001b[49m\u001b[43m,\u001b[49m\n\u001b[32m    526\u001b[39m \u001b[43m        \u001b[49m\u001b[43mopset_version\u001b[49m\u001b[43m=\u001b[49m\u001b[43mopset_version\u001b[49m\u001b[43m,\u001b[49m\n\u001b[32m    527\u001b[39m \u001b[43m        \u001b[49m\u001b[43mdo_constant_folding\u001b[49m\u001b[43m=\u001b[49m\u001b[43mdo_constant_folding\u001b[49m\u001b[43m,\u001b[49m\n\u001b[32m    528\u001b[39m \u001b[43m        \u001b[49m\u001b[43mdynamic_axes\u001b[49m\u001b[43m=\u001b[49m\u001b[43mdynamic_axes\u001b[49m\u001b[43m,\u001b[49m\n\u001b[32m    529\u001b[39m \u001b[43m        \u001b[49m\u001b[43mkeep_initializers_as_inputs\u001b[49m\u001b[43m=\u001b[49m\u001b[43mkeep_initializers_as_inputs\u001b[49m\u001b[43m,\u001b[49m\n\u001b[32m    530\u001b[39m \u001b[43m        \u001b[49m\u001b[43mcustom_opsets\u001b[49m\u001b[43m=\u001b[49m\u001b[43mcustom_opsets\u001b[49m\u001b[43m,\u001b[49m\n\u001b[32m    531\u001b[39m \u001b[43m        \u001b[49m\u001b[43mexport_modules_as_functions\u001b[49m\u001b[43m=\u001b[49m\u001b[43mexport_modules_as_functions\u001b[49m\u001b[43m,\u001b[49m\n\u001b[32m    532\u001b[39m \u001b[43m        \u001b[49m\u001b[43mautograd_inlining\u001b[49m\u001b[43m=\u001b[49m\u001b[43mautograd_inlining\u001b[49m\u001b[43m,\u001b[49m\n\u001b[32m    533\u001b[39m \u001b[43m    \u001b[49m\u001b[43m)\u001b[49m\n",
      "\u001b[36mFile \u001b[39m\u001b[32m~/miniconda3/lib/python3.12/site-packages/torch/onnx/utils.py:1613\u001b[39m, in \u001b[36m_export\u001b[39m\u001b[34m(model, args, f, export_params, verbose, training, input_names, output_names, operator_export_type, export_type, opset_version, do_constant_folding, dynamic_axes, keep_initializers_as_inputs, fixed_batch_size, custom_opsets, add_node_names, onnx_shape_inference, export_modules_as_functions, autograd_inlining)\u001b[39m\n\u001b[32m   1610\u001b[39m     dynamic_axes = {}\n\u001b[32m   1611\u001b[39m _validate_dynamic_axes(dynamic_axes, model, input_names, output_names)\n\u001b[32m-> \u001b[39m\u001b[32m1613\u001b[39m graph, params_dict, torch_out = \u001b[43m_model_to_graph\u001b[49m\u001b[43m(\u001b[49m\n\u001b[32m   1614\u001b[39m \u001b[43m    \u001b[49m\u001b[43mmodel\u001b[49m\u001b[43m,\u001b[49m\n\u001b[32m   1615\u001b[39m \u001b[43m    \u001b[49m\u001b[43margs\u001b[49m\u001b[43m,\u001b[49m\n\u001b[32m   1616\u001b[39m \u001b[43m    \u001b[49m\u001b[43mverbose\u001b[49m\u001b[43m,\u001b[49m\n\u001b[32m   1617\u001b[39m \u001b[43m    \u001b[49m\u001b[43minput_names\u001b[49m\u001b[43m,\u001b[49m\n\u001b[32m   1618\u001b[39m \u001b[43m    \u001b[49m\u001b[43moutput_names\u001b[49m\u001b[43m,\u001b[49m\n\u001b[32m   1619\u001b[39m \u001b[43m    \u001b[49m\u001b[43moperator_export_type\u001b[49m\u001b[43m,\u001b[49m\n\u001b[32m   1620\u001b[39m \u001b[43m    \u001b[49m\u001b[43mval_do_constant_folding\u001b[49m\u001b[43m,\u001b[49m\n\u001b[32m   1621\u001b[39m \u001b[43m    \u001b[49m\u001b[43mfixed_batch_size\u001b[49m\u001b[43m=\u001b[49m\u001b[43mfixed_batch_size\u001b[49m\u001b[43m,\u001b[49m\n\u001b[32m   1622\u001b[39m \u001b[43m    \u001b[49m\u001b[43mtraining\u001b[49m\u001b[43m=\u001b[49m\u001b[43mtraining\u001b[49m\u001b[43m,\u001b[49m\n\u001b[32m   1623\u001b[39m \u001b[43m    \u001b[49m\u001b[43mdynamic_axes\u001b[49m\u001b[43m=\u001b[49m\u001b[43mdynamic_axes\u001b[49m\u001b[43m,\u001b[49m\n\u001b[32m   1624\u001b[39m \u001b[43m\u001b[49m\u001b[43m)\u001b[49m\n\u001b[32m   1626\u001b[39m \u001b[38;5;66;03m# TODO: Don't allocate a in-memory string for the protobuf\u001b[39;00m\n\u001b[32m   1627\u001b[39m defer_weight_export = (\n\u001b[32m   1628\u001b[39m     export_type \u001b[38;5;129;01mis\u001b[39;00m \u001b[38;5;129;01mnot\u001b[39;00m _exporter_states.ExportTypes.PROTOBUF_FILE\n\u001b[32m   1629\u001b[39m )\n",
      "\u001b[36mFile \u001b[39m\u001b[32m~/miniconda3/lib/python3.12/site-packages/torch/onnx/utils.py:1135\u001b[39m, in \u001b[36m_model_to_graph\u001b[39m\u001b[34m(model, args, verbose, input_names, output_names, operator_export_type, do_constant_folding, _disable_torch_constant_prop, fixed_batch_size, training, dynamic_axes)\u001b[39m\n\u001b[32m   1132\u001b[39m     args = (args,)\n\u001b[32m   1134\u001b[39m model = _pre_trace_quant_model(model, args)\n\u001b[32m-> \u001b[39m\u001b[32m1135\u001b[39m graph, params, torch_out, module = \u001b[43m_create_jit_graph\u001b[49m\u001b[43m(\u001b[49m\u001b[43mmodel\u001b[49m\u001b[43m,\u001b[49m\u001b[43m \u001b[49m\u001b[43margs\u001b[49m\u001b[43m)\u001b[49m\n\u001b[32m   1136\u001b[39m params_dict = _get_named_param_dict(graph, params)\n\u001b[32m   1138\u001b[39m \u001b[38;5;28;01mtry\u001b[39;00m:\n",
      "\u001b[36mFile \u001b[39m\u001b[32m~/miniconda3/lib/python3.12/site-packages/torch/onnx/utils.py:1011\u001b[39m, in \u001b[36m_create_jit_graph\u001b[39m\u001b[34m(model, args)\u001b[39m\n\u001b[32m   1006\u001b[39m     graph = _C._propagate_and_assign_input_shapes(\n\u001b[32m   1007\u001b[39m         graph, flattened_args, param_count_list, \u001b[38;5;28;01mFalse\u001b[39;00m, \u001b[38;5;28;01mFalse\u001b[39;00m\n\u001b[32m   1008\u001b[39m     )\n\u001b[32m   1009\u001b[39m     \u001b[38;5;28;01mreturn\u001b[39;00m graph, params, torch_out, \u001b[38;5;28;01mNone\u001b[39;00m\n\u001b[32m-> \u001b[39m\u001b[32m1011\u001b[39m graph, torch_out = \u001b[43m_trace_and_get_graph_from_model\u001b[49m\u001b[43m(\u001b[49m\u001b[43mmodel\u001b[49m\u001b[43m,\u001b[49m\u001b[43m \u001b[49m\u001b[43margs\u001b[49m\u001b[43m)\u001b[49m\n\u001b[32m   1012\u001b[39m _C._jit_pass_onnx_lint(graph)\n\u001b[32m   1013\u001b[39m state_dict = torch.jit._unique_state_dict(model)\n",
      "\u001b[36mFile \u001b[39m\u001b[32m~/miniconda3/lib/python3.12/site-packages/torch/onnx/utils.py:915\u001b[39m, in \u001b[36m_trace_and_get_graph_from_model\u001b[39m\u001b[34m(model, args)\u001b[39m\n\u001b[32m    913\u001b[39m prev_autocast_cache_enabled = torch.is_autocast_cache_enabled()\n\u001b[32m    914\u001b[39m torch.set_autocast_cache_enabled(\u001b[38;5;28;01mFalse\u001b[39;00m)\n\u001b[32m--> \u001b[39m\u001b[32m915\u001b[39m trace_graph, torch_out, inputs_states = \u001b[43mtorch\u001b[49m\u001b[43m.\u001b[49m\u001b[43mjit\u001b[49m\u001b[43m.\u001b[49m\u001b[43m_get_trace_graph\u001b[49m\u001b[43m(\u001b[49m\n\u001b[32m    916\u001b[39m \u001b[43m    \u001b[49m\u001b[43mmodel\u001b[49m\u001b[43m,\u001b[49m\n\u001b[32m    917\u001b[39m \u001b[43m    \u001b[49m\u001b[43margs\u001b[49m\u001b[43m,\u001b[49m\n\u001b[32m    918\u001b[39m \u001b[43m    \u001b[49m\u001b[43mstrict\u001b[49m\u001b[43m=\u001b[49m\u001b[38;5;28;43;01mFalse\u001b[39;49;00m\u001b[43m,\u001b[49m\n\u001b[32m    919\u001b[39m \u001b[43m    \u001b[49m\u001b[43m_force_outplace\u001b[49m\u001b[43m=\u001b[49m\u001b[38;5;28;43;01mFalse\u001b[39;49;00m\u001b[43m,\u001b[49m\n\u001b[32m    920\u001b[39m \u001b[43m    \u001b[49m\u001b[43m_return_inputs_states\u001b[49m\u001b[43m=\u001b[49m\u001b[38;5;28;43;01mTrue\u001b[39;49;00m\u001b[43m,\u001b[49m\n\u001b[32m    921\u001b[39m \u001b[43m\u001b[49m\u001b[43m)\u001b[49m\n\u001b[32m    922\u001b[39m torch.set_autocast_cache_enabled(prev_autocast_cache_enabled)\n\u001b[32m    924\u001b[39m warn_on_static_input_change(inputs_states)\n",
      "\u001b[36mFile \u001b[39m\u001b[32m~/miniconda3/lib/python3.12/site-packages/torch/jit/_trace.py:1296\u001b[39m, in \u001b[36m_get_trace_graph\u001b[39m\u001b[34m(f, args, kwargs, strict, _force_outplace, return_inputs, _return_inputs_states)\u001b[39m\n\u001b[32m   1294\u001b[39m \u001b[38;5;28;01mif\u001b[39;00m \u001b[38;5;129;01mnot\u001b[39;00m \u001b[38;5;28misinstance\u001b[39m(args, \u001b[38;5;28mtuple\u001b[39m):\n\u001b[32m   1295\u001b[39m     args = (args,)\n\u001b[32m-> \u001b[39m\u001b[32m1296\u001b[39m outs = \u001b[43mONNXTracedModule\u001b[49m\u001b[43m(\u001b[49m\n\u001b[32m   1297\u001b[39m \u001b[43m    \u001b[49m\u001b[43mf\u001b[49m\u001b[43m,\u001b[49m\u001b[43m \u001b[49m\u001b[43mstrict\u001b[49m\u001b[43m,\u001b[49m\u001b[43m \u001b[49m\u001b[43m_force_outplace\u001b[49m\u001b[43m,\u001b[49m\u001b[43m \u001b[49m\u001b[43mreturn_inputs\u001b[49m\u001b[43m,\u001b[49m\u001b[43m \u001b[49m\u001b[43m_return_inputs_states\u001b[49m\n\u001b[32m   1298\u001b[39m \u001b[43m\u001b[49m\u001b[43m)\u001b[49m\u001b[43m(\u001b[49m\u001b[43m*\u001b[49m\u001b[43margs\u001b[49m\u001b[43m,\u001b[49m\u001b[43m \u001b[49m\u001b[43m*\u001b[49m\u001b[43m*\u001b[49m\u001b[43mkwargs\u001b[49m\u001b[43m)\u001b[49m\n\u001b[32m   1299\u001b[39m \u001b[38;5;28;01mreturn\u001b[39;00m outs\n",
      "\u001b[36mFile \u001b[39m\u001b[32m~/miniconda3/lib/python3.12/site-packages/torch/nn/modules/module.py:1511\u001b[39m, in \u001b[36mModule._wrapped_call_impl\u001b[39m\u001b[34m(self, *args, **kwargs)\u001b[39m\n\u001b[32m   1509\u001b[39m     \u001b[38;5;28;01mreturn\u001b[39;00m \u001b[38;5;28mself\u001b[39m._compiled_call_impl(*args, **kwargs)  \u001b[38;5;66;03m# type: ignore[misc]\u001b[39;00m\n\u001b[32m   1510\u001b[39m \u001b[38;5;28;01melse\u001b[39;00m:\n\u001b[32m-> \u001b[39m\u001b[32m1511\u001b[39m     \u001b[38;5;28;01mreturn\u001b[39;00m \u001b[38;5;28;43mself\u001b[39;49m\u001b[43m.\u001b[49m\u001b[43m_call_impl\u001b[49m\u001b[43m(\u001b[49m\u001b[43m*\u001b[49m\u001b[43margs\u001b[49m\u001b[43m,\u001b[49m\u001b[43m \u001b[49m\u001b[43m*\u001b[49m\u001b[43m*\u001b[49m\u001b[43mkwargs\u001b[49m\u001b[43m)\u001b[49m\n",
      "\u001b[36mFile \u001b[39m\u001b[32m~/miniconda3/lib/python3.12/site-packages/torch/nn/modules/module.py:1520\u001b[39m, in \u001b[36mModule._call_impl\u001b[39m\u001b[34m(self, *args, **kwargs)\u001b[39m\n\u001b[32m   1515\u001b[39m \u001b[38;5;66;03m# If we don't have any hooks, we want to skip the rest of the logic in\u001b[39;00m\n\u001b[32m   1516\u001b[39m \u001b[38;5;66;03m# this function, and just call forward.\u001b[39;00m\n\u001b[32m   1517\u001b[39m \u001b[38;5;28;01mif\u001b[39;00m \u001b[38;5;129;01mnot\u001b[39;00m (\u001b[38;5;28mself\u001b[39m._backward_hooks \u001b[38;5;129;01mor\u001b[39;00m \u001b[38;5;28mself\u001b[39m._backward_pre_hooks \u001b[38;5;129;01mor\u001b[39;00m \u001b[38;5;28mself\u001b[39m._forward_hooks \u001b[38;5;129;01mor\u001b[39;00m \u001b[38;5;28mself\u001b[39m._forward_pre_hooks\n\u001b[32m   1518\u001b[39m         \u001b[38;5;129;01mor\u001b[39;00m _global_backward_pre_hooks \u001b[38;5;129;01mor\u001b[39;00m _global_backward_hooks\n\u001b[32m   1519\u001b[39m         \u001b[38;5;129;01mor\u001b[39;00m _global_forward_hooks \u001b[38;5;129;01mor\u001b[39;00m _global_forward_pre_hooks):\n\u001b[32m-> \u001b[39m\u001b[32m1520\u001b[39m     \u001b[38;5;28;01mreturn\u001b[39;00m \u001b[43mforward_call\u001b[49m\u001b[43m(\u001b[49m\u001b[43m*\u001b[49m\u001b[43margs\u001b[49m\u001b[43m,\u001b[49m\u001b[43m \u001b[49m\u001b[43m*\u001b[49m\u001b[43m*\u001b[49m\u001b[43mkwargs\u001b[49m\u001b[43m)\u001b[49m\n\u001b[32m   1522\u001b[39m \u001b[38;5;28;01mtry\u001b[39;00m:\n\u001b[32m   1523\u001b[39m     result = \u001b[38;5;28;01mNone\u001b[39;00m\n",
      "\u001b[36mFile \u001b[39m\u001b[32m~/miniconda3/lib/python3.12/site-packages/torch/jit/_trace.py:138\u001b[39m, in \u001b[36mONNXTracedModule.forward\u001b[39m\u001b[34m(self, *args)\u001b[39m\n\u001b[32m    135\u001b[39m     \u001b[38;5;28;01melse\u001b[39;00m:\n\u001b[32m    136\u001b[39m         \u001b[38;5;28;01mreturn\u001b[39;00m \u001b[38;5;28mtuple\u001b[39m(out_vars)\n\u001b[32m--> \u001b[39m\u001b[32m138\u001b[39m graph, out = \u001b[43mtorch\u001b[49m\u001b[43m.\u001b[49m\u001b[43m_C\u001b[49m\u001b[43m.\u001b[49m\u001b[43m_create_graph_by_tracing\u001b[49m\u001b[43m(\u001b[49m\n\u001b[32m    139\u001b[39m \u001b[43m    \u001b[49m\u001b[43mwrapper\u001b[49m\u001b[43m,\u001b[49m\n\u001b[32m    140\u001b[39m \u001b[43m    \u001b[49m\u001b[43min_vars\u001b[49m\u001b[43m \u001b[49m\u001b[43m+\u001b[49m\u001b[43m \u001b[49m\u001b[43mmodule_state\u001b[49m\u001b[43m,\u001b[49m\n\u001b[32m    141\u001b[39m \u001b[43m    \u001b[49m\u001b[43m_create_interpreter_name_lookup_fn\u001b[49m\u001b[43m(\u001b[49m\u001b[43m)\u001b[49m\u001b[43m,\u001b[49m\n\u001b[32m    142\u001b[39m \u001b[43m    \u001b[49m\u001b[38;5;28;43mself\u001b[39;49m\u001b[43m.\u001b[49m\u001b[43mstrict\u001b[49m\u001b[43m,\u001b[49m\n\u001b[32m    143\u001b[39m \u001b[43m    \u001b[49m\u001b[38;5;28;43mself\u001b[39;49m\u001b[43m.\u001b[49m\u001b[43m_force_outplace\u001b[49m\u001b[43m,\u001b[49m\n\u001b[32m    144\u001b[39m \u001b[43m\u001b[49m\u001b[43m)\u001b[49m\n\u001b[32m    146\u001b[39m \u001b[38;5;28;01mif\u001b[39;00m \u001b[38;5;28mself\u001b[39m._return_inputs:\n\u001b[32m    147\u001b[39m     \u001b[38;5;28;01mreturn\u001b[39;00m graph, outs[\u001b[32m0\u001b[39m], ret_inputs[\u001b[32m0\u001b[39m]\n",
      "\u001b[36mFile \u001b[39m\u001b[32m~/miniconda3/lib/python3.12/site-packages/torch/jit/_trace.py:129\u001b[39m, in \u001b[36mONNXTracedModule.forward.<locals>.wrapper\u001b[39m\u001b[34m(*args)\u001b[39m\n\u001b[32m    127\u001b[39m \u001b[38;5;28;01mif\u001b[39;00m \u001b[38;5;28mself\u001b[39m._return_inputs_states:\n\u001b[32m    128\u001b[39m     inputs_states.append(_unflatten(in_args, in_desc))\n\u001b[32m--> \u001b[39m\u001b[32m129\u001b[39m outs.append(\u001b[38;5;28;43mself\u001b[39;49m\u001b[43m.\u001b[49m\u001b[43minner\u001b[49m\u001b[43m(\u001b[49m\u001b[43m*\u001b[49m\u001b[43mtrace_inputs\u001b[49m\u001b[43m)\u001b[49m)\n\u001b[32m    130\u001b[39m \u001b[38;5;28;01mif\u001b[39;00m \u001b[38;5;28mself\u001b[39m._return_inputs_states:\n\u001b[32m    131\u001b[39m     inputs_states[\u001b[32m0\u001b[39m] = (inputs_states[\u001b[32m0\u001b[39m], trace_inputs)\n",
      "\u001b[36mFile \u001b[39m\u001b[32m~/miniconda3/lib/python3.12/site-packages/torch/nn/modules/module.py:1511\u001b[39m, in \u001b[36mModule._wrapped_call_impl\u001b[39m\u001b[34m(self, *args, **kwargs)\u001b[39m\n\u001b[32m   1509\u001b[39m     \u001b[38;5;28;01mreturn\u001b[39;00m \u001b[38;5;28mself\u001b[39m._compiled_call_impl(*args, **kwargs)  \u001b[38;5;66;03m# type: ignore[misc]\u001b[39;00m\n\u001b[32m   1510\u001b[39m \u001b[38;5;28;01melse\u001b[39;00m:\n\u001b[32m-> \u001b[39m\u001b[32m1511\u001b[39m     \u001b[38;5;28;01mreturn\u001b[39;00m \u001b[38;5;28;43mself\u001b[39;49m\u001b[43m.\u001b[49m\u001b[43m_call_impl\u001b[49m\u001b[43m(\u001b[49m\u001b[43m*\u001b[49m\u001b[43margs\u001b[49m\u001b[43m,\u001b[49m\u001b[43m \u001b[49m\u001b[43m*\u001b[49m\u001b[43m*\u001b[49m\u001b[43mkwargs\u001b[49m\u001b[43m)\u001b[49m\n",
      "\u001b[36mFile \u001b[39m\u001b[32m~/miniconda3/lib/python3.12/site-packages/torch/nn/modules/module.py:1520\u001b[39m, in \u001b[36mModule._call_impl\u001b[39m\u001b[34m(self, *args, **kwargs)\u001b[39m\n\u001b[32m   1515\u001b[39m \u001b[38;5;66;03m# If we don't have any hooks, we want to skip the rest of the logic in\u001b[39;00m\n\u001b[32m   1516\u001b[39m \u001b[38;5;66;03m# this function, and just call forward.\u001b[39;00m\n\u001b[32m   1517\u001b[39m \u001b[38;5;28;01mif\u001b[39;00m \u001b[38;5;129;01mnot\u001b[39;00m (\u001b[38;5;28mself\u001b[39m._backward_hooks \u001b[38;5;129;01mor\u001b[39;00m \u001b[38;5;28mself\u001b[39m._backward_pre_hooks \u001b[38;5;129;01mor\u001b[39;00m \u001b[38;5;28mself\u001b[39m._forward_hooks \u001b[38;5;129;01mor\u001b[39;00m \u001b[38;5;28mself\u001b[39m._forward_pre_hooks\n\u001b[32m   1518\u001b[39m         \u001b[38;5;129;01mor\u001b[39;00m _global_backward_pre_hooks \u001b[38;5;129;01mor\u001b[39;00m _global_backward_hooks\n\u001b[32m   1519\u001b[39m         \u001b[38;5;129;01mor\u001b[39;00m _global_forward_hooks \u001b[38;5;129;01mor\u001b[39;00m _global_forward_pre_hooks):\n\u001b[32m-> \u001b[39m\u001b[32m1520\u001b[39m     \u001b[38;5;28;01mreturn\u001b[39;00m \u001b[43mforward_call\u001b[49m\u001b[43m(\u001b[49m\u001b[43m*\u001b[49m\u001b[43margs\u001b[49m\u001b[43m,\u001b[49m\u001b[43m \u001b[49m\u001b[43m*\u001b[49m\u001b[43m*\u001b[49m\u001b[43mkwargs\u001b[49m\u001b[43m)\u001b[49m\n\u001b[32m   1522\u001b[39m \u001b[38;5;28;01mtry\u001b[39;00m:\n\u001b[32m   1523\u001b[39m     result = \u001b[38;5;28;01mNone\u001b[39;00m\n",
      "\u001b[36mFile \u001b[39m\u001b[32m~/miniconda3/lib/python3.12/site-packages/torch/nn/modules/module.py:1501\u001b[39m, in \u001b[36mModule._slow_forward\u001b[39m\u001b[34m(self, *input, **kwargs)\u001b[39m\n\u001b[32m   1499\u001b[39m         recording_scopes = \u001b[38;5;28;01mFalse\u001b[39;00m\n\u001b[32m   1500\u001b[39m \u001b[38;5;28;01mtry\u001b[39;00m:\n\u001b[32m-> \u001b[39m\u001b[32m1501\u001b[39m     result = \u001b[38;5;28;43mself\u001b[39;49m\u001b[43m.\u001b[49m\u001b[43mforward\u001b[49m\u001b[43m(\u001b[49m\u001b[43m*\u001b[49m\u001b[38;5;28;43minput\u001b[39;49m\u001b[43m,\u001b[49m\u001b[43m \u001b[49m\u001b[43m*\u001b[49m\u001b[43m*\u001b[49m\u001b[43mkwargs\u001b[49m\u001b[43m)\u001b[49m\n\u001b[32m   1502\u001b[39m \u001b[38;5;28;01mfinally\u001b[39;00m:\n\u001b[32m   1503\u001b[39m     \u001b[38;5;28;01mif\u001b[39;00m recording_scopes:\n",
      "\u001b[36mCell\u001b[39m\u001b[36m \u001b[39m\u001b[32mIn[15]\u001b[39m\u001b[32m, line 19\u001b[39m, in \u001b[36mCNNKeywordSpotter_QAT.forward\u001b[39m\u001b[34m(self, x)\u001b[39m\n\u001b[32m     18\u001b[39m \u001b[38;5;28;01mdef\u001b[39;00m \u001b[34mforward\u001b[39m(\u001b[38;5;28mself\u001b[39m, x):\n\u001b[32m---> \u001b[39m\u001b[32m19\u001b[39m     x = \u001b[38;5;28;43mself\u001b[39;49m\u001b[43m.\u001b[49m\u001b[43mcnn\u001b[49m\u001b[43m(\u001b[49m\u001b[43mx\u001b[49m\u001b[43m)\u001b[49m\n\u001b[32m     20\u001b[39m     x = x.view(x.size(\u001b[32m0\u001b[39m), -\u001b[32m1\u001b[39m)\n\u001b[32m     21\u001b[39m     \u001b[38;5;28;01mreturn\u001b[39;00m \u001b[38;5;28mself\u001b[39m.fc(x)\n",
      "\u001b[36mFile \u001b[39m\u001b[32m~/miniconda3/lib/python3.12/site-packages/torch/nn/modules/module.py:1511\u001b[39m, in \u001b[36mModule._wrapped_call_impl\u001b[39m\u001b[34m(self, *args, **kwargs)\u001b[39m\n\u001b[32m   1509\u001b[39m     \u001b[38;5;28;01mreturn\u001b[39;00m \u001b[38;5;28mself\u001b[39m._compiled_call_impl(*args, **kwargs)  \u001b[38;5;66;03m# type: ignore[misc]\u001b[39;00m\n\u001b[32m   1510\u001b[39m \u001b[38;5;28;01melse\u001b[39;00m:\n\u001b[32m-> \u001b[39m\u001b[32m1511\u001b[39m     \u001b[38;5;28;01mreturn\u001b[39;00m \u001b[38;5;28;43mself\u001b[39;49m\u001b[43m.\u001b[49m\u001b[43m_call_impl\u001b[49m\u001b[43m(\u001b[49m\u001b[43m*\u001b[49m\u001b[43margs\u001b[49m\u001b[43m,\u001b[49m\u001b[43m \u001b[49m\u001b[43m*\u001b[49m\u001b[43m*\u001b[49m\u001b[43mkwargs\u001b[49m\u001b[43m)\u001b[49m\n",
      "\u001b[36mFile \u001b[39m\u001b[32m~/miniconda3/lib/python3.12/site-packages/torch/nn/modules/module.py:1520\u001b[39m, in \u001b[36mModule._call_impl\u001b[39m\u001b[34m(self, *args, **kwargs)\u001b[39m\n\u001b[32m   1515\u001b[39m \u001b[38;5;66;03m# If we don't have any hooks, we want to skip the rest of the logic in\u001b[39;00m\n\u001b[32m   1516\u001b[39m \u001b[38;5;66;03m# this function, and just call forward.\u001b[39;00m\n\u001b[32m   1517\u001b[39m \u001b[38;5;28;01mif\u001b[39;00m \u001b[38;5;129;01mnot\u001b[39;00m (\u001b[38;5;28mself\u001b[39m._backward_hooks \u001b[38;5;129;01mor\u001b[39;00m \u001b[38;5;28mself\u001b[39m._backward_pre_hooks \u001b[38;5;129;01mor\u001b[39;00m \u001b[38;5;28mself\u001b[39m._forward_hooks \u001b[38;5;129;01mor\u001b[39;00m \u001b[38;5;28mself\u001b[39m._forward_pre_hooks\n\u001b[32m   1518\u001b[39m         \u001b[38;5;129;01mor\u001b[39;00m _global_backward_pre_hooks \u001b[38;5;129;01mor\u001b[39;00m _global_backward_hooks\n\u001b[32m   1519\u001b[39m         \u001b[38;5;129;01mor\u001b[39;00m _global_forward_hooks \u001b[38;5;129;01mor\u001b[39;00m _global_forward_pre_hooks):\n\u001b[32m-> \u001b[39m\u001b[32m1520\u001b[39m     \u001b[38;5;28;01mreturn\u001b[39;00m \u001b[43mforward_call\u001b[49m\u001b[43m(\u001b[49m\u001b[43m*\u001b[49m\u001b[43margs\u001b[49m\u001b[43m,\u001b[49m\u001b[43m \u001b[49m\u001b[43m*\u001b[49m\u001b[43m*\u001b[49m\u001b[43mkwargs\u001b[49m\u001b[43m)\u001b[49m\n\u001b[32m   1522\u001b[39m \u001b[38;5;28;01mtry\u001b[39;00m:\n\u001b[32m   1523\u001b[39m     result = \u001b[38;5;28;01mNone\u001b[39;00m\n",
      "\u001b[36mFile \u001b[39m\u001b[32m~/miniconda3/lib/python3.12/site-packages/torch/nn/modules/module.py:1501\u001b[39m, in \u001b[36mModule._slow_forward\u001b[39m\u001b[34m(self, *input, **kwargs)\u001b[39m\n\u001b[32m   1499\u001b[39m         recording_scopes = \u001b[38;5;28;01mFalse\u001b[39;00m\n\u001b[32m   1500\u001b[39m \u001b[38;5;28;01mtry\u001b[39;00m:\n\u001b[32m-> \u001b[39m\u001b[32m1501\u001b[39m     result = \u001b[38;5;28;43mself\u001b[39;49m\u001b[43m.\u001b[49m\u001b[43mforward\u001b[49m\u001b[43m(\u001b[49m\u001b[43m*\u001b[49m\u001b[38;5;28;43minput\u001b[39;49m\u001b[43m,\u001b[49m\u001b[43m \u001b[49m\u001b[43m*\u001b[49m\u001b[43m*\u001b[49m\u001b[43mkwargs\u001b[49m\u001b[43m)\u001b[49m\n\u001b[32m   1502\u001b[39m \u001b[38;5;28;01mfinally\u001b[39;00m:\n\u001b[32m   1503\u001b[39m     \u001b[38;5;28;01mif\u001b[39;00m recording_scopes:\n",
      "\u001b[36mFile \u001b[39m\u001b[32m~/miniconda3/lib/python3.12/site-packages/torch/nn/modules/container.py:217\u001b[39m, in \u001b[36mSequential.forward\u001b[39m\u001b[34m(self, input)\u001b[39m\n\u001b[32m    215\u001b[39m \u001b[38;5;28;01mdef\u001b[39;00m \u001b[34mforward\u001b[39m(\u001b[38;5;28mself\u001b[39m, \u001b[38;5;28minput\u001b[39m):\n\u001b[32m    216\u001b[39m     \u001b[38;5;28;01mfor\u001b[39;00m module \u001b[38;5;129;01min\u001b[39;00m \u001b[38;5;28mself\u001b[39m:\n\u001b[32m--> \u001b[39m\u001b[32m217\u001b[39m         \u001b[38;5;28minput\u001b[39m = \u001b[43mmodule\u001b[49m\u001b[43m(\u001b[49m\u001b[38;5;28;43minput\u001b[39;49m\u001b[43m)\u001b[49m\n\u001b[32m    218\u001b[39m     \u001b[38;5;28;01mreturn\u001b[39;00m \u001b[38;5;28minput\u001b[39m\n",
      "\u001b[36mFile \u001b[39m\u001b[32m~/miniconda3/lib/python3.12/site-packages/torch/nn/modules/module.py:1511\u001b[39m, in \u001b[36mModule._wrapped_call_impl\u001b[39m\u001b[34m(self, *args, **kwargs)\u001b[39m\n\u001b[32m   1509\u001b[39m     \u001b[38;5;28;01mreturn\u001b[39;00m \u001b[38;5;28mself\u001b[39m._compiled_call_impl(*args, **kwargs)  \u001b[38;5;66;03m# type: ignore[misc]\u001b[39;00m\n\u001b[32m   1510\u001b[39m \u001b[38;5;28;01melse\u001b[39;00m:\n\u001b[32m-> \u001b[39m\u001b[32m1511\u001b[39m     \u001b[38;5;28;01mreturn\u001b[39;00m \u001b[38;5;28;43mself\u001b[39;49m\u001b[43m.\u001b[49m\u001b[43m_call_impl\u001b[49m\u001b[43m(\u001b[49m\u001b[43m*\u001b[49m\u001b[43margs\u001b[49m\u001b[43m,\u001b[49m\u001b[43m \u001b[49m\u001b[43m*\u001b[49m\u001b[43m*\u001b[49m\u001b[43mkwargs\u001b[49m\u001b[43m)\u001b[49m\n",
      "\u001b[36mFile \u001b[39m\u001b[32m~/miniconda3/lib/python3.12/site-packages/torch/nn/modules/module.py:1520\u001b[39m, in \u001b[36mModule._call_impl\u001b[39m\u001b[34m(self, *args, **kwargs)\u001b[39m\n\u001b[32m   1515\u001b[39m \u001b[38;5;66;03m# If we don't have any hooks, we want to skip the rest of the logic in\u001b[39;00m\n\u001b[32m   1516\u001b[39m \u001b[38;5;66;03m# this function, and just call forward.\u001b[39;00m\n\u001b[32m   1517\u001b[39m \u001b[38;5;28;01mif\u001b[39;00m \u001b[38;5;129;01mnot\u001b[39;00m (\u001b[38;5;28mself\u001b[39m._backward_hooks \u001b[38;5;129;01mor\u001b[39;00m \u001b[38;5;28mself\u001b[39m._backward_pre_hooks \u001b[38;5;129;01mor\u001b[39;00m \u001b[38;5;28mself\u001b[39m._forward_hooks \u001b[38;5;129;01mor\u001b[39;00m \u001b[38;5;28mself\u001b[39m._forward_pre_hooks\n\u001b[32m   1518\u001b[39m         \u001b[38;5;129;01mor\u001b[39;00m _global_backward_pre_hooks \u001b[38;5;129;01mor\u001b[39;00m _global_backward_hooks\n\u001b[32m   1519\u001b[39m         \u001b[38;5;129;01mor\u001b[39;00m _global_forward_hooks \u001b[38;5;129;01mor\u001b[39;00m _global_forward_pre_hooks):\n\u001b[32m-> \u001b[39m\u001b[32m1520\u001b[39m     \u001b[38;5;28;01mreturn\u001b[39;00m \u001b[43mforward_call\u001b[49m\u001b[43m(\u001b[49m\u001b[43m*\u001b[49m\u001b[43margs\u001b[49m\u001b[43m,\u001b[49m\u001b[43m \u001b[49m\u001b[43m*\u001b[49m\u001b[43m*\u001b[49m\u001b[43mkwargs\u001b[49m\u001b[43m)\u001b[49m\n\u001b[32m   1522\u001b[39m \u001b[38;5;28;01mtry\u001b[39;00m:\n\u001b[32m   1523\u001b[39m     result = \u001b[38;5;28;01mNone\u001b[39;00m\n",
      "\u001b[36mFile \u001b[39m\u001b[32m~/miniconda3/lib/python3.12/site-packages/torch/nn/modules/module.py:1501\u001b[39m, in \u001b[36mModule._slow_forward\u001b[39m\u001b[34m(self, *input, **kwargs)\u001b[39m\n\u001b[32m   1499\u001b[39m         recording_scopes = \u001b[38;5;28;01mFalse\u001b[39;00m\n\u001b[32m   1500\u001b[39m \u001b[38;5;28;01mtry\u001b[39;00m:\n\u001b[32m-> \u001b[39m\u001b[32m1501\u001b[39m     result = \u001b[38;5;28;43mself\u001b[39;49m\u001b[43m.\u001b[49m\u001b[43mforward\u001b[49m\u001b[43m(\u001b[49m\u001b[43m*\u001b[49m\u001b[38;5;28;43minput\u001b[39;49m\u001b[43m,\u001b[49m\u001b[43m \u001b[49m\u001b[43m*\u001b[49m\u001b[43m*\u001b[49m\u001b[43mkwargs\u001b[49m\u001b[43m)\u001b[49m\n\u001b[32m   1502\u001b[39m \u001b[38;5;28;01mfinally\u001b[39;00m:\n\u001b[32m   1503\u001b[39m     \u001b[38;5;28;01mif\u001b[39;00m recording_scopes:\n",
      "\u001b[36mCell\u001b[39m\u001b[36m \u001b[39m\u001b[32mIn[14]\u001b[39m\u001b[32m, line 39\u001b[39m, in \u001b[36mQConv2d.forward\u001b[39m\u001b[34m(self, input)\u001b[39m\n\u001b[32m     37\u001b[39m \u001b[38;5;28;01melse\u001b[39;00m:\n\u001b[32m     38\u001b[39m     Qinput = torch.round(\u001b[38;5;28minput\u001b[39m / \u001b[38;5;28mself\u001b[39m.scale_i)\n\u001b[32m---> \u001b[39m\u001b[32m39\u001b[39m     Qweight = torch.round(\u001b[38;5;28;43mself\u001b[39;49m\u001b[43m.\u001b[49m\u001b[43mweight\u001b[49m / \u001b[38;5;28mself\u001b[39m.scale_w)\n\u001b[32m     40\u001b[39m     bias = \u001b[38;5;28mself\u001b[39m.bias_q \u001b[38;5;28;01mif\u001b[39;00m \u001b[38;5;28mself\u001b[39m.bias \u001b[38;5;129;01mis\u001b[39;00m \u001b[38;5;129;01mnot\u001b[39;00m \u001b[38;5;28;01mNone\u001b[39;00m \u001b[38;5;28;01melse\u001b[39;00m \u001b[38;5;28;01mNone\u001b[39;00m\n\u001b[32m     42\u001b[39m y = F.conv2d(Qinput, Qweight, bias, stride = \u001b[38;5;28mself\u001b[39m.stride, padding = \u001b[38;5;28mself\u001b[39m.padding, dilation = \u001b[38;5;28mself\u001b[39m.dilation, groups = \u001b[38;5;28mself\u001b[39m.groups)\n",
      "\u001b[36mFile \u001b[39m\u001b[32m~/miniconda3/lib/python3.12/site-packages/torch/nn/modules/module.py:1688\u001b[39m, in \u001b[36mModule.__getattr__\u001b[39m\u001b[34m(self, name)\u001b[39m\n\u001b[32m   1686\u001b[39m     \u001b[38;5;28;01mif\u001b[39;00m name \u001b[38;5;129;01min\u001b[39;00m modules:\n\u001b[32m   1687\u001b[39m         \u001b[38;5;28;01mreturn\u001b[39;00m modules[name]\n\u001b[32m-> \u001b[39m\u001b[32m1688\u001b[39m \u001b[38;5;28;01mraise\u001b[39;00m \u001b[38;5;167;01mAttributeError\u001b[39;00m(\u001b[33mf\u001b[39m\u001b[33m\"\u001b[39m\u001b[33m'\u001b[39m\u001b[38;5;132;01m{\u001b[39;00m\u001b[38;5;28mtype\u001b[39m(\u001b[38;5;28mself\u001b[39m).\u001b[34m__name__\u001b[39m\u001b[38;5;132;01m}\u001b[39;00m\u001b[33m'\u001b[39m\u001b[33m object has no attribute \u001b[39m\u001b[33m'\u001b[39m\u001b[38;5;132;01m{\u001b[39;00mname\u001b[38;5;132;01m}\u001b[39;00m\u001b[33m'\u001b[39m\u001b[33m\"\u001b[39m)\n",
      "\u001b[31mAttributeError\u001b[39m: 'QConv2d' object has no attribute 'weight'"
     ]
    }
   ],
   "source": [
    "# 3. 더미 입력 생성\n",
    "dummy_input = torch.randn(1, 1, 32, 32)  # (Batch, Channel, Height, Width)\n",
    "\n",
    "# 4. ONNX export\n",
    "torch.onnx.export(Loaded_model_QAT_float,\n",
    "                  dummy_input,\n",
    "                  \"QAT_model.onnx\",\n",
    "                  input_names=[\"input\"],\n",
    "                  output_names=[\"output\"],\n",
    "                  opset_version=13,\n",
    "                  do_constant_folding=True)"
   ]
  },
  {
   "cell_type": "code",
   "execution_count": 47,
   "metadata": {},
   "outputs": [
    {
     "name": "stdout",
     "output_type": "stream",
     "text": [
      "Average inference time: 0.08 ms\n"
     ]
    }
   ],
   "source": [
    "import onnxruntime as ort\n",
    "import numpy as np\n",
    "import time\n",
    "\n",
    "# 1. ONNX Runtime 세션 로드\n",
    "session = ort.InferenceSession(\"QAT_model.onnx\", providers=[\"CPUExecutionProvider\"])\n",
    "\n",
    "# 2. 입력 이름 확인\n",
    "input_name = session.get_inputs()[0].name\n",
    "\n",
    "# 3. 더미 입력\n",
    "dummy_input = np.random.rand(1, 1, 32, 32).astype(np.float32)\n",
    "\n",
    "# 4. Warm-up\n",
    "for _ in range(10):\n",
    "    session.run(None, {input_name: dummy_input})\n",
    "\n",
    "# 5. 추론 시간 측정\n",
    "start = time.time()\n",
    "for _ in range(100):\n",
    "    session.run(None, {input_name: dummy_input})\n",
    "end = time.time()\n",
    "\n",
    "print(f\"Average inference time: {(end - start)/100 * 1000:.2f} ms\")\n"
   ]
  },
  {
   "cell_type": "markdown",
   "metadata": {},
   "source": [
    "# 5. n_mfcc, n_mels, n_fft 값 변화"
   ]
  },
  {
   "cell_type": "markdown",
   "metadata": {},
   "source": [
    "# 6. test.wav 직접 예측 -> 결과 보기"
   ]
  }
 ],
 "metadata": {
  "kernelspec": {
   "display_name": "Python 3",
   "language": "python",
   "name": "python3"
  },
  "language_info": {
   "codemirror_mode": {
    "name": "ipython",
    "version": 3
   },
   "file_extension": ".py",
   "mimetype": "text/x-python",
   "name": "python",
   "nbconvert_exporter": "python",
   "pygments_lexer": "ipython3",
   "version": "3.13.3"
  }
 },
 "nbformat": 4,
 "nbformat_minor": 2
}

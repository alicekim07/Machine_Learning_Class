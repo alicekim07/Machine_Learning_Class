{
  "nbformat": 4,
  "nbformat_minor": 0,
  "metadata": {
    "colab": {
      "provenance": [],
      "toc_visible": true
    },
    "kernelspec": {
      "name": "python3",
      "display_name": "Python 3"
    },
    "language_info": {
      "name": "python"
    }
  },
  "cells": [
    {
      "cell_type": "markdown",
      "source": [
        "# 1.9 Exercises"
      ],
      "metadata": {
        "id": "zboRK-A3UE2j"
      }
    },
    {
      "cell_type": "markdown",
      "source": [
        "1. Which parts of code that you are currently writing could be \"learned\", i.e., improved by learning and automatically determining design choices that are made in your code? Does your code include heuristic design choices? What data might you need to learn the desired behavior?"
      ],
      "metadata": {
        "id": "T0B9NMpMUHQ9"
      }
    },
    {
      "cell_type": "markdown",
      "source": [
        "Nowadays, I'm writing verilog code to design RTL behavior of digital circuit.\n",
        "I think that the number of state machine can be learned based on previous decisions that are made by previous engineer does. To design this model, it might need to have number of state machines and their purposes also."
      ],
      "metadata": {
        "id": "OF5opy-bUcgE"
      }
    },
    {
      "cell_type": "markdown",
      "source": [
        "2. Which problems that you encounter have many examples for their solution, yet no specific way for automating them? These may be prime candidates for using deep learning"
      ],
      "metadata": {
        "id": "6W5jQKuRUd-q"
      }
    },
    {
      "cell_type": "markdown",
      "source": [
        "I'm not sure that it is a solution, but I think composing can be a problem that can be automated with Machine Learning.\n",
        "I've learned composing for many days and I think, writing melody and creating code progression can be learned from previous experience.\n",
        "And also related to sound design, many composers use their own software tools and turn the knob to design it.\n",
        "Even though, it's kind of favor problem, but I think that this kind of activity can be learned and make database by corporating with\n",
        "professional composer and model learned their skill."
      ],
      "metadata": {
        "id": "MG5oLp_PUt0D"
      }
    },
    {
      "cell_type": "markdown",
      "source": [
        "3. Describe the relationships between algorithms, data, and computation. How do characteristics of the data and the current available computation resources influence the appropriateness of various algorithms?"
      ],
      "metadata": {
        "id": "A1OgouScUuRY"
      }
    },
    {
      "cell_type": "markdown",
      "source": [
        "I learned that the base problem related to algorithm problem is time complexity and space complexity.\n",
        "Algorithms deal with the data and compute it and make an useful output.\n",
        "It is important to think of the complexity to make a good algorithm."
      ],
      "metadata": {
        "id": "UMw8PkHBVDrY"
      }
    },
    {
      "cell_type": "markdown",
      "source": [
        "4. Name some settings where end-to-end training is not currently the default approach but where it might be useful."
      ],
      "metadata": {
        "id": "lXTJX34gVEEa"
      }
    },
    {
      "cell_type": "markdown",
      "source": [
        "I'm still a student so I don't know whether in professional field, they use end-to-end training or not.\n",
        "But, when I heard digital signal processing class, I design digital filter to see whether it process the signal or not.\n",
        "I think this kind of digital filtering can be done with end-to-end training."
      ],
      "metadata": {
        "id": "7L1QJRnyVSQk"
      }
    }
  ]
}